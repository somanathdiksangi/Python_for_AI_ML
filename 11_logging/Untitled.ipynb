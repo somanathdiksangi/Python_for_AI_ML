{
 "cells": [
  {
   "cell_type": "code",
   "execution_count": 1,
   "id": "6461456b-8e19-454b-b7c2-a6ae8ddf38c8",
   "metadata": {},
   "outputs": [
    {
     "ename": "NameError",
     "evalue": "name 'myformate' is not defined",
     "output_type": "error",
     "traceback": [
      "\u001b[1;31m---------------------------------------------------------------------------\u001b[0m",
      "\u001b[1;31mNameError\u001b[0m                                 Traceback (most recent call last)",
      "Cell \u001b[1;32mIn[1], line 2\u001b[0m\n\u001b[0;32m      1\u001b[0m \u001b[38;5;28;01mimport\u001b[39;00m \u001b[38;5;21;01mlogging\u001b[39;00m \n\u001b[1;32m----> 2\u001b[0m logging\u001b[38;5;241m.\u001b[39mbasicConfig(filename\u001b[38;5;241m=\u001b[39m\u001b[38;5;124m\"\u001b[39m\u001b[38;5;124mexample.txt\u001b[39m\u001b[38;5;124m\"\u001b[39m,force\u001b[38;5;241m=\u001b[39m\u001b[38;5;28;01mTrue\u001b[39;00m,level\u001b[38;5;241m=\u001b[39mlogging\u001b[38;5;241m.\u001b[39mDEBUG,filemode\u001b[38;5;241m=\u001b[39m\u001b[38;5;124m'\u001b[39m\u001b[38;5;124mw\u001b[39m\u001b[38;5;124m'\u001b[39m,\u001b[38;5;28mformat\u001b[39m\u001b[38;5;241m=\u001b[39m\u001b[43mmyformate\u001b[49m) \n\u001b[0;32m      3\u001b[0m \u001b[38;5;28;01mdef\u001b[39;00m \u001b[38;5;21mdive\u001b[39m(a,b):\n\u001b[0;32m      4\u001b[0m     logging\u001b[38;5;241m.\u001b[39minfo(\u001b[38;5;124m\"\u001b[39m\u001b[38;5;124mthis is a stsrt of my code and i am try to enter \u001b[39m\u001b[38;5;132;01m%s\u001b[39;00m\u001b[38;5;124m ans \u001b[39m\u001b[38;5;132;01m%s\u001b[39;00m\u001b[38;5;124m\"\u001b[39m,a,b)\n",
      "\u001b[1;31mNameError\u001b[0m: name 'myformate' is not defined"
     ]
    }
   ],
   "source": [
    "import logging \n",
    "logging.basicConfig(filename=\"example.txt\",force=True,level=logging.DEBUG,filemode='w',format=myformate) \n",
    "def dive(a,b):\n",
    "    logging.info(\"this is a stsrt of my code and i am try to enter %s ans %s\",a,b)\n",
    "    try:\n",
    "        logging.warning(\"this is a stsrt of my code and i am try to enter %s ans %s\",a,b)\n",
    "        div = a/b\n",
    "        logging.info(\"executed succ\")\n",
    "    except Exception as e:\n",
    "         logging.error(\"error has happend\")\n",
    "         logging.exception(\" exception occured\" + str(e))\n"
   ]
  },
  {
   "cell_type": "code",
   "execution_count": null,
   "id": "10db5990-2527-44cd-abd1-c5048c981671",
   "metadata": {},
   "outputs": [],
   "source": []
  }
 ],
 "metadata": {
  "kernelspec": {
   "display_name": "Python 3 (ipykernel)",
   "language": "python",
   "name": "python3"
  },
  "language_info": {
   "codemirror_mode": {
    "name": "ipython",
    "version": 3
   },
   "file_extension": ".py",
   "mimetype": "text/x-python",
   "name": "python",
   "nbconvert_exporter": "python",
   "pygments_lexer": "ipython3",
   "version": "3.12.4"
  }
 },
 "nbformat": 4,
 "nbformat_minor": 5
}
