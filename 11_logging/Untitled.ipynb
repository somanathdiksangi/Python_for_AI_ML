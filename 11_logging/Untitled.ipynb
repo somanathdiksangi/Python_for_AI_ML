{
 "cells": [
  {
   "cell_type": "code",
   "execution_count": 4,
   "id": "6461456b-8e19-454b-b7c2-a6ae8ddf38c8",
   "metadata": {},
   "outputs": [],
   "source": [
    "import logging \n",
    "myformate ='%(asctime)s - %(name)s - %(levelname)s - %(message)s'\n",
    "logging.basicConfig(filename=\"example.txt\",force=True,level=logging.ERROR,filemode='w',format=myformate) \n",
    "def dive(a,b):\n",
    "    logging.info(\"this is a stsrt of my code and i am try to enter %s ans %s\",a,b)\n",
    "    try:\n",
    "        logging.warning(\"this is a stsrt of my code and i am try to enter %s ans %s\",a,b)\n",
    "        div = a/b\n",
    "        logging.info(\"executed succ\")\n",
    "    except Exception as e:\n",
    "         logging.error(\"error has happend\")\n",
    "         logging.exception(\" exception occured\" + str(e))\n"
   ]
  },
  {
   "cell_type": "code",
   "execution_count": 6,
   "id": "10db5990-2527-44cd-abd1-c5048c981671",
   "metadata": {},
   "outputs": [],
   "source": [
    "dive(5,0)"
   ]
  },
  {
   "cell_type": "code",
   "execution_count": null,
   "id": "3025642e-ee13-48f1-8546-ef360590c9be",
   "metadata": {},
   "outputs": [],
   "source": []
  }
 ],
 "metadata": {
  "kernelspec": {
   "display_name": "Python 3 (ipykernel)",
   "language": "python",
   "name": "python3"
  },
  "language_info": {
   "codemirror_mode": {
    "name": "ipython",
    "version": 3
   },
   "file_extension": ".py",
   "mimetype": "text/x-python",
   "name": "python",
   "nbconvert_exporter": "python",
   "pygments_lexer": "ipython3",
   "version": "3.12.4"
  }
 },
 "nbformat": 4,
 "nbformat_minor": 5
}
