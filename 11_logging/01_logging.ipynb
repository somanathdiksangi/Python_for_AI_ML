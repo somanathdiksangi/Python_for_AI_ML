{
 "cells": [
  {
   "cell_type": "markdown",
   "id": "821c601d-bdae-4816-8d64-d6c6d1229c8d",
   "metadata": {},
   "source": [
    "## logging in python \n",
    "## file handling in pthon "
   ]
  },
  {
   "cell_type": "code",
   "execution_count": 2,
   "id": "a9f135fc-f47a-4fc7-b88d-fae2558b9775",
   "metadata": {},
   "outputs": [],
   "source": [
    "import logging "
   ]
  },
  {
   "cell_type": "code",
   "execution_count": 4,
   "id": "3cdefcf8-9022-42a5-8b77-899ff6df8a3e",
   "metadata": {},
   "outputs": [],
   "source": [
    "def test(n):\n",
    "    print(\"i am in the fuction\")\n",
    "    result=n*10\n",
    "    print(\"multi is done\")\n",
    "    \n",
    "    return result"
   ]
  },
  {
   "cell_type": "code",
   "execution_count": 5,
   "id": "562fcf0a-c9cd-41a0-8b7a-bb7431463215",
   "metadata": {},
   "outputs": [
    {
     "name": "stdout",
     "output_type": "stream",
     "text": [
      "i am in the fuction\n",
      "multi is done\n"
     ]
    },
    {
     "data": {
      "text/plain": [
       "50"
      ]
     },
     "execution_count": 5,
     "metadata": {},
     "output_type": "execute_result"
    }
   ],
   "source": [
    "y=test(5)\n",
    "y"
   ]
  },
  {
   "cell_type": "markdown",
   "id": "d6be47b8-b063-45d5-a10f-577877cda4d9",
   "metadata": {},
   "source": [
    "## we are going to preserve the info\n",
    "## information can be a diffrent type(application or sofware)\n",
    "## information :-->>\n",
    "## none 0\n",
    "## dubug 10\n",
    "## info 20\n",
    "## warning 30\n",
    "## error 40\n",
    "## critical 50\n"
   ]
  },
  {
   "cell_type": "markdown",
   "id": "5184b445-b1c9-4aa3-9f4d-8af2ea33a722",
   "metadata": {},
   "source": [
    "## logger level=30\n",
    "## printing -->>\n",
    "## warning 30\n",
    "## error 40\n",
    "## critical 50\n"
   ]
  },
  {
   "cell_type": "code",
   "execution_count": 9,
   "id": "259822bd-340b-4fbc-b3f4-879cf3a65c05",
   "metadata": {},
   "outputs": [],
   "source": [
    "import logging\n",
    "logging.info(\"this is ml\")\n",
    "# by default log level is set to warning "
   ]
  },
  {
   "cell_type": "code",
   "execution_count": 10,
   "id": "3e86b5c0-aa38-4add-98b0-f8890bdb9940",
   "metadata": {},
   "outputs": [
    {
     "name": "stderr",
     "output_type": "stream",
     "text": [
      "WARNING:root:this is good\n"
     ]
    }
   ],
   "source": [
    "import logging\n",
    "logging.info(\"this is ml\")\n",
    "logging.warning(\"this is good\")"
   ]
  },
  {
   "cell_type": "code",
   "execution_count": 12,
   "id": "708259c6-130a-40c9-a2af-8a43b6ca0498",
   "metadata": {},
   "outputs": [
    {
     "name": "stderr",
     "output_type": "stream",
     "text": [
      "WARNING:root:this is good\n",
      "ERROR:root:there is no error\n",
      "CRITICAL:root:tger \n"
     ]
    }
   ],
   "source": [
    "import logging\n",
    "\n",
    "logging.info(\"this is ml\")\n",
    "logging.warning(\"this is good\")\n",
    "logging.error(\"there is no error\")\n",
    "logging.critical(\"tger \")"
   ]
  },
  {
   "cell_type": "code",
   "execution_count": 13,
   "id": "2a4a62bb-67ea-4c73-af80-d94a84fb8a0e",
   "metadata": {},
   "outputs": [
    {
     "ename": "NameError",
     "evalue": "name 'basicConfig' is not defined",
     "output_type": "error",
     "traceback": [
      "\u001b[1;31m---------------------------------------------------------------------------\u001b[0m",
      "\u001b[1;31mNameError\u001b[0m                                 Traceback (most recent call last)",
      "Cell \u001b[1;32mIn[13], line 1\u001b[0m\n\u001b[1;32m----> 1\u001b[0m \u001b[43mbasicConfig\u001b[49m\n",
      "\u001b[1;31mNameError\u001b[0m: name 'basicConfig' is not defined"
     ]
    }
   ],
   "source": [
    "basicConfig"
   ]
  },
  {
   "cell_type": "code",
   "execution_count": 22,
   "id": "4c00d5c8-f95b-490b-8669-885e94bc15ad",
   "metadata": {},
   "outputs": [
    {
     "data": {
      "text/plain": [
       "'C:\\\\Users\\\\acer\\\\Desktop\\\\Python_for_AI_ML'"
      ]
     },
     "execution_count": 22,
     "metadata": {},
     "output_type": "execute_result"
    }
   ],
   "source": [
    "import os\n",
    "os.getcwd()"
   ]
  },
  {
   "cell_type": "code",
   "execution_count": 1,
   "id": "41d95e11-786a-4e5d-90a1-004744f91fea",
   "metadata": {},
   "outputs": [
    {
     "ename": "NameError",
     "evalue": "name 'logging' is not defined",
     "output_type": "error",
     "traceback": [
      "\u001b[1;31m---------------------------------------------------------------------------\u001b[0m",
      "\u001b[1;31mNameError\u001b[0m                                 Traceback (most recent call last)",
      "Cell \u001b[1;32mIn[1], line 1\u001b[0m\n\u001b[1;32m----> 1\u001b[0m \u001b[43mlogging\u001b[49m\u001b[38;5;241m.\u001b[39mbasicConfig(filename\u001b[38;5;241m=\u001b[39m\u001b[38;5;124m\"\u001b[39m\u001b[38;5;124mtext.txt\u001b[39m\u001b[38;5;124m\"\u001b[39m)\n",
      "\u001b[1;31mNameError\u001b[0m: name 'logging' is not defined"
     ]
    }
   ],
   "source": [
    "logging.basicConfig(filename=\"text.txt\")"
   ]
  },
  {
   "cell_type": "code",
   "execution_count": null,
   "id": "8712f553-2ae7-4f54-a968-d065f23bc05e",
   "metadata": {},
   "outputs": [],
   "source": [
    "logging.info(\"helo\")"
   ]
  },
  {
   "cell_type": "code",
   "execution_count": 7,
   "id": "adb4c0ae-18be-449a-9a9b-8553ab729dc9",
   "metadata": {},
   "outputs": [
    {
     "name": "stderr",
     "output_type": "stream",
     "text": [
      "WARNING:root:this is good\n",
      "ERROR:root:there is no error\n",
      "CRITICAL:root:tger \n"
     ]
    }
   ],
   "source": [
    "import logging\n",
    "\n",
    "logging.info(\"this is ml\")\n",
    "logging.warning(\"this is good\")\n",
    "logging.error(\"there is no error\")\n",
    "logging.critical(\"tger \")\n",
    "logging.basicConfig(filename=\"text.txt\")"
   ]
  },
  {
   "cell_type": "code",
   "execution_count": 8,
   "id": "6e3c0eee-3f93-4911-95bb-a023bcff2774",
   "metadata": {},
   "outputs": [
    {
     "name": "stderr",
     "output_type": "stream",
     "text": [
      "WARNING:root:this is good\n",
      "ERROR:root:there is no error\n",
      "CRITICAL:root:tger \n"
     ]
    },
    {
     "name": "stdout",
     "output_type": "stream",
     "text": [
      "Current working directory: C:\\Users\\acer\\Desktop\\Python_for_AI_ML\n"
     ]
    }
   ],
   "source": [
    "import os\n",
    "import logging\n",
    "\n",
    "# Print the current working directory\n",
    "print(\"Current working directory:\", os.getcwd())\n",
    "\n",
    "# Set up basic configuration for logging to a file\n",
    "logging.basicConfig(filename=\"text.txt\", level=logging.DEBUG)\n",
    "\n",
    "# Log messages\n",
    "logging.info(\"this is ml\")\n",
    "logging.warning(\"this is good\")\n",
    "logging.error(\"there is no error\")\n",
    "logging.critical(\"tger \")\n"
   ]
  },
  {
   "cell_type": "code",
   "execution_count": 9,
   "id": "73bfa5a3-6e58-477d-826c-008bf392e15b",
   "metadata": {},
   "outputs": [
    {
     "name": "stderr",
     "output_type": "stream",
     "text": [
      "WARNING:root:this is good\n",
      "ERROR:root:there is no error\n",
      "CRITICAL:root:tger \n"
     ]
    },
    {
     "name": "stdout",
     "output_type": "stream",
     "text": [
      "Current working directory: C:\\Users\\acer\\Desktop\\Python_for_AI_ML\n"
     ]
    }
   ],
   "source": [
    "import os\n",
    "import logging\n",
    "\n",
    "# Print the current working directory\n",
    "print(\"Current working directory:\", os.getcwd())\n",
    "\n",
    "# Set up basic configuration for logging to a file with DEBUG level\n",
    "logging.basicConfig(filename=\"text.txt\", level=logging.DEBUG)\n",
    "\n",
    "# Log messages\n",
    "logging.info(\"this is ml\")\n",
    "logging.warning(\"this is good\")\n",
    "logging.error(\"there is no error\")\n",
    "logging.critical(\"tger \")\n"
   ]
  },
  {
   "cell_type": "code",
   "execution_count": 10,
   "id": "0826c350-0443-48af-989f-600cd014bc0a",
   "metadata": {},
   "outputs": [
    {
     "name": "stderr",
     "output_type": "stream",
     "text": [
      "WARNING:root:this is good\n",
      "ERROR:root:there is no error\n",
      "CRITICAL:root:tger \n"
     ]
    },
    {
     "name": "stdout",
     "output_type": "stream",
     "text": [
      "Current working directory: C:\\Users\\acer\\Desktop\\Python_for_AI_ML\n",
      "Logs written successfully to text.txt\n"
     ]
    }
   ],
   "source": [
    "import os\n",
    "import logging\n",
    "\n",
    "# Print the current working directory\n",
    "print(\"Current working directory:\", os.getcwd())\n",
    "\n",
    "try:\n",
    "    # Set up basic configuration for logging to a file with DEBUG level\n",
    "    logging.basicConfig(filename=\"text.txt\", level=logging.DEBUG)\n",
    "    \n",
    "    # Log messages\n",
    "    logging.info(\"this is ml\")\n",
    "    logging.warning(\"this is good\")\n",
    "    logging.error(\"there is no error\")\n",
    "    logging.critical(\"tger \")\n",
    "    \n",
    "    print(\"Logs written successfully to text.txt\")\n",
    "except Exception as e:\n",
    "    print(f\"Error occurred: {e}\")\n"
   ]
  },
  {
   "cell_type": "code",
   "execution_count": 6,
   "id": "71c006df-6031-4c2f-b5dc-9d0105df0687",
   "metadata": {},
   "outputs": [
    {
     "ename": "SyntaxError",
     "evalue": "invalid syntax (1503596288.py, line 1)",
     "output_type": "error",
     "traceback": [
      "\u001b[1;36m  Cell \u001b[1;32mIn[6], line 1\u001b[1;36m\u001b[0m\n\u001b[1;33m    dir text.txt\u001b[0m\n\u001b[1;37m        ^\u001b[0m\n\u001b[1;31mSyntaxError\u001b[0m\u001b[1;31m:\u001b[0m invalid syntax\n"
     ]
    }
   ],
   "source": [
    "dir text.txt\n"
   ]
  },
  {
   "cell_type": "code",
   "execution_count": 11,
   "id": "c7eceaf1-bea2-4c31-b051-5deb3c529332",
   "metadata": {},
   "outputs": [
    {
     "ename": "SyntaxError",
     "evalue": "unterminated string literal (detected at line 2) (2018473002.py, line 2)",
     "output_type": "error",
     "traceback": [
      "\u001b[1;36m  Cell \u001b[1;32mIn[11], line 2\u001b[1;36m\u001b[0m\n\u001b[1;33m    logging.basicCongif(filename=\"text.log\",level=logging.DEBUG,force=True,farmate='%(asctime))\u001b[0m\n\u001b[1;37m                                                                                   ^\u001b[0m\n\u001b[1;31mSyntaxError\u001b[0m\u001b[1;31m:\u001b[0m unterminated string literal (detected at line 2)\n"
     ]
    }
   ],
   "source": [
    "import logging\n",
    "logging.basicCongif(filename=\"text.log\",level=logging.DEBUG,force=True,farmate='%(asctime))"
   ]
  },
  {
   "cell_type": "code",
   "execution_count": 12,
   "id": "5040ae7f-15d4-47b1-8137-587794028371",
   "metadata": {},
   "outputs": [],
   "source": [
    "import logging\n",
    "\n",
    "# Correcting the typo and fixing the format string\n",
    "logging.basicConfig(filename=\"text.log\", level=logging.DEBUG, force=True, format='%(asctime)s - %(levelname)s - %(message)s')\n",
    "\n",
    "# Logging messages with different levels\n",
    "logging.info(\"This is an info message\")\n",
    "logging.warning(\"This is a warning message\")\n",
    "logging.error(\"This is an error message\")\n",
    "logging.critical(\"This is a critical message\")\n",
    "\n"
   ]
  },
  {
   "cell_type": "code",
   "execution_count": 3,
   "id": "b461681d-611e-40c1-adbf-f2573edecf02",
   "metadata": {},
   "outputs": [
    {
     "name": "stderr",
     "output_type": "stream",
     "text": [
      "WARNING:root:This is a warning message\n",
      "ERROR:root:This is an error message\n",
      "CRITICAL:root:This is a critical message\n"
     ]
    }
   ],
   "source": [
    "import logging\n",
    "logging.debug(\"this is dubug message\")\n",
    "logging.info(\"This is an info message\")\n",
    "logging.warning(\"This is a warning message\")\n",
    "logging.error(\"This is an error message\")\n",
    "logging.critical(\"This is a critical message\")\n"
   ]
  },
  {
   "cell_type": "markdown",
   "id": "c28c731d-e002-4caf-9dfb-98bf63530da2",
   "metadata": {},
   "source": [
    "## i dont want this message in consaol i want it in my file"
   ]
  },
  {
   "cell_type": "markdown",
   "id": "4bc3a2c8-3951-43e6-a0d7-e779cbf01a83",
   "metadata": {},
   "source": [
    "  ## basicConfig"
   ]
  },
  {
   "cell_type": "code",
   "execution_count": 11,
   "id": "92b56c9a-4267-4274-ba35-19ebfbff42e2",
   "metadata": {},
   "outputs": [],
   "source": [
    "logging.basicConfig(level=logging.INFO)  ## -->> this is my logging will set in info"
   ]
  },
  {
   "cell_type": "code",
   "execution_count": 59,
   "id": "2dfc86ea-1972-40a0-94a6-a1e8e7f3c88b",
   "metadata": {},
   "outputs": [],
   "source": [
    "import logging\n",
    "myformate ='%(asctime)s - %(name)s - %(levelname)s - %(message)s'\n",
    "logger.debug(\"this is dubug message\")\n",
    "logger.info(\"This is an info message\")\n",
    "logger.warning(\"This is a warning message\")\n",
    "logger.error(\"This is an error message\")\n",
    "logger.critical(\"This is a critical message\")\n"
   ]
  },
  {
   "cell_type": "code",
   "execution_count": 60,
   "id": "53bd90f1-e333-4a19-8084-55ea6999aa52",
   "metadata": {},
   "outputs": [],
   "source": [
    "logging.basicConfig(filename=\"text3.txt\",force=True,level=logging.DEBUG,filemode='w',format=myformate) "
   ]
  },
  {
   "cell_type": "code",
   "execution_count": 62,
   "id": "dbc2b1bb-3fec-45a6-aad4-3d2b5f69202c",
   "metadata": {},
   "outputs": [],
   "source": [
    "import logging \n",
    "logger = logging.getLogger('somu')\n",
    "logging.basicConfig(filename=\"text3.txt\",force=True,level=logging.DEBUG,filemode='w',format=myformate) "
   ]
  },
  {
   "cell_type": "code",
   "execution_count": 63,
   "id": "0fc806a0-b99e-4055-8916-d9f78b2ab6a5",
   "metadata": {},
   "outputs": [],
   "source": [
    "myformate ='%(asctime)s - %(name)s - %(levelname)s - %(message)s'\n",
    "logger.debug(\"this is dubug message\")\n",
    "logger.info(\"This is an info message\")\n",
    "logger.warning(\"This is a warning message\")\n",
    "logger.error(\"This is an error message\")\n",
    "logger.critical(\"This is a critical message\")\n"
   ]
  },
  {
   "cell_type": "code",
   "execution_count": 68,
   "id": "3c5c1210-5300-445a-a599-b0c97d7c35a9",
   "metadata": {},
   "outputs": [],
   "source": [
    "import logging \n",
    "def dive(a,b):\n",
    "    logging.info(\"this is a stsrt of my code and i am try to enter %s ans %s\",a,b)\n",
    "    try:\n",
    "        logging.warning(\"this is a stsrt of my code and i am try to enter %s ans %s\",a,b)\n",
    "        div = a/b\n",
    "        logging.info(\"executed succ\")\n",
    "    except Exception as e:\n",
    "         logging.error(\"error has happend\")\n",
    "         logging.exception(\" exception occured\" + str(e))\n",
    "\n",
    "         \n",
    "\n"
   ]
  },
  {
   "cell_type": "code",
   "execution_count": null,
   "id": "31493eca-1975-40ae-9343-1d61f79b4a10",
   "metadata": {},
   "outputs": [],
   "source": []
  }
 ],
 "metadata": {
  "kernelspec": {
   "display_name": "Python 3 (ipykernel)",
   "language": "python",
   "name": "python3"
  },
  "language_info": {
   "codemirror_mode": {
    "name": "ipython",
    "version": 3
   },
   "file_extension": ".py",
   "mimetype": "text/x-python",
   "name": "python",
   "nbconvert_exporter": "python",
   "pygments_lexer": "ipython3",
   "version": "3.12.4"
  }
 },
 "nbformat": 4,
 "nbformat_minor": 5
}
