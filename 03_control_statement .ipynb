{
 "cells": [
  {
   "cell_type": "code",
   "execution_count": 5,
   "id": "59f1c848-3e17-49e7-afbc-8827664bd5ed",
   "metadata": {},
   "outputs": [
    {
     "name": "stdout",
     "output_type": "stream",
     "text": [
      "hello\n"
     ]
    }
   ],
   "source": [
    "print(\"hello\")"
   ]
  },
  {
   "cell_type": "code",
   "execution_count": 7,
   "id": "9a9e6ed3-6a6d-4077-bda8-0b351189e4a9",
   "metadata": {},
   "outputs": [],
   "source": [
    "name= \"somu\""
   ]
  },
  {
   "cell_type": "code",
   "execution_count": 8,
   "id": "4aa41e48-1900-4328-a700-7a9fcccddfde",
   "metadata": {},
   "outputs": [
    {
     "name": "stdout",
     "output_type": "stream",
     "text": [
      "diksangi somu\n"
     ]
    }
   ],
   "source": [
    "print(\"diksangi\",name)"
   ]
  },
  {
   "cell_type": "markdown",
   "id": "9d16fd79-2fbd-4046-bec6-f91daf15af01",
   "metadata": {},
   "source": [
    "#farmat specifier "
   ]
  },
  {
   "cell_type": "code",
   "execution_count": 9,
   "id": "bd8f0858-0756-46c4-8aab-e9f5ba3d99d6",
   "metadata": {},
   "outputs": [
    {
     "name": "stdout",
     "output_type": "stream",
     "text": [
      "value of a 10\n"
     ]
    }
   ],
   "source": [
    "a=10\n",
    "print(\"value of a %d\"%a)"
   ]
  },
  {
   "cell_type": "code",
   "execution_count": 10,
   "id": "ce4b0dfb-d0eb-42ef-bfda-16c82dc4aa43",
   "metadata": {},
   "outputs": [
    {
     "name": "stdout",
     "output_type": "stream",
     "text": [
      "hellosomu\n"
     ]
    }
   ],
   "source": [
    "print(\"hello%s\"%(name))"
   ]
  },
  {
   "cell_type": "code",
   "execution_count": 11,
   "id": "a56a8053-3b8e-4b76-ae46-ffc731c1f561",
   "metadata": {},
   "outputs": [],
   "source": [
    "b=50"
   ]
  },
  {
   "cell_type": "code",
   "execution_count": 15,
   "id": "7af5fb8e-3ee4-4f50-b844-e86b51a006c0",
   "metadata": {},
   "outputs": [
    {
     "name": "stdout",
     "output_type": "stream",
     "text": [
      "50\n",
      "the vale of b is 50\n",
      "the vale of b is 50\n",
      "the valu of b is 50\n"
     ]
    }
   ],
   "source": [
    "print(b)\n",
    "print(\"the vale of b is\",b)\n",
    "print(\"the vale of b is %d\"%b)\n",
    "print(\"the valu of b is {}\".format(b))"
   ]
  },
  {
   "cell_type": "code",
   "execution_count": 16,
   "id": "3321495b-0bda-48ea-b2c8-dac329644eb7",
   "metadata": {},
   "outputs": [
    {
     "name": "stdout",
     "output_type": "stream",
     "text": [
      "the vlue of a 100 the value of b 200\n"
     ]
    }
   ],
   "source": [
    "a=100\n",
    "b=200\n",
    "print(\"the vlue of a {} the value of b {}\".format(a,b))"
   ]
  },
  {
   "cell_type": "code",
   "execution_count": 20,
   "id": "dbe5e40e-1b59-4d86-82ef-a13dd7c22221",
   "metadata": {},
   "outputs": [
    {
     "name": "stdout",
     "output_type": "stream",
     "text": [
      "we are out\n"
     ]
    }
   ],
   "source": [
    "x=50\n",
    "if x>50:\n",
    "    print(\"we are in\")\n",
    "if x<50:\n",
    "    print(\"we are in 3\")\n",
    "\n",
    "else:\n",
    "    print(\"we are out\")"
   ]
  },
  {
   "cell_type": "code",
   "execution_count": 24,
   "id": "035fe7f1-e64e-4a6d-957d-d46ae3bd0847",
   "metadata": {},
   "outputs": [
    {
     "name": "stdout",
     "output_type": "stream",
     "text": [
      "we are in thrid\n"
     ]
    }
   ],
   "source": [
    "if x<50:\n",
    "    print(\"we are in first\")\n",
    "\n",
    "elif x>50:\n",
    "    print(\"we are in secomd \")\n",
    "\n",
    "elif x==50:\n",
    "    print(\"we are in thrid\")\n",
    "\n",
    "else:\n",
    "    print(\"we are in fourth \")"
   ]
  },
  {
   "cell_type": "code",
   "execution_count": 29,
   "id": "c75d9108-764d-4319-bcb9-6873b23f4a05",
   "metadata": {},
   "outputs": [
    {
     "name": "stdin",
     "output_type": "stream",
     "text": [
      "enter a number  28\n"
     ]
    },
    {
     "name": "stdout",
     "output_type": "stream",
     "text": [
      "even number \n"
     ]
    }
   ],
   "source": [
    "a=int(input(\"enter a number \"))\n",
    "if a %2==0:\n",
    "    print(\"even number \")\n",
    "\n",
    "else:\n",
    "    print(\"odd number \")\n"
   ]
  },
  {
   "cell_type": "code",
   "execution_count": 32,
   "id": "ad86a1b8-bef0-4c70-837b-ff28701de415",
   "metadata": {},
   "outputs": [
    {
     "name": "stdin",
     "output_type": "stream",
     "text": [
      "enter the char A\n"
     ]
    },
    {
     "name": "stdout",
     "output_type": "stream",
     "text": [
      "capital latter \n"
     ]
    }
   ],
   "source": [
    "ch=input(\"enter the char\")\n",
    "if \"A\"<=ch<=\"Z\":\n",
    "    print(\"capital latter \")\n",
    "\n",
    "else:\n",
    "    print(\"small latter \")"
   ]
  },
  {
   "cell_type": "markdown",
   "id": "eb567704-2396-4b64-bfe2-6c6f301709c2",
   "metadata": {},
   "source": [
    "#nasted if "
   ]
  },
  {
   "cell_type": "code",
   "execution_count": 34,
   "id": "c69f708d-52b1-4892-9c9f-66a48bbb3e22",
   "metadata": {},
   "outputs": [
    {
     "name": "stdout",
     "output_type": "stream",
     "text": [
      "we are in\n"
     ]
    }
   ],
   "source": [
    "a=100\n",
    "b=200\n",
    "if a<110:\n",
    "    if b<210:\n",
    "        print(\"we are in\")"
   ]
  },
  {
   "cell_type": "code",
   "execution_count": null,
   "id": "74fd2d0f-5dbe-4afe-8365-f8a159603faf",
   "metadata": {},
   "outputs": [],
   "source": []
  }
 ],
 "metadata": {
  "kernelspec": {
   "display_name": "Python 3 (ipykernel)",
   "language": "python",
   "name": "python3"
  },
  "language_info": {
   "codemirror_mode": {
    "name": "ipython",
    "version": 3
   },
   "file_extension": ".py",
   "mimetype": "text/x-python",
   "name": "python",
   "nbconvert_exporter": "python",
   "pygments_lexer": "ipython3",
   "version": "3.12.4"
  }
 },
 "nbformat": 4,
 "nbformat_minor": 5
}
