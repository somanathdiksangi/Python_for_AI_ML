{
 "cells": [
  {
   "cell_type": "code",
   "execution_count": 10,
   "id": "bc862506-150a-49e3-b347-e60c2195be1f",
   "metadata": {},
   "outputs": [],
   "source": [
    "#for (some variable) in some collaction:"
   ]
  },
  {
   "cell_type": "code",
   "execution_count": 2,
   "id": "f1a83151-adb6-402e-aef5-7b4825cd9ddc",
   "metadata": {},
   "outputs": [
    {
     "name": "stdout",
     "output_type": "stream",
     "text": [
      "s\n",
      "o\n",
      "m\n",
      "u\n"
     ]
    }
   ],
   "source": [
    "word=\"somu\"\n",
    "for na in word:\n",
    "    print(na)"
   ]
  },
  {
   "cell_type": "code",
   "execution_count": 4,
   "id": "e47230a6-7fa8-4b3b-983f-4b1f84372b7d",
   "metadata": {},
   "outputs": [
    {
     "data": {
      "text/plain": [
       "list"
      ]
     },
     "execution_count": 4,
     "metadata": {},
     "output_type": "execute_result"
    }
   ],
   "source": [
    "x=[1,2,3,\"a\"]\n",
    "type(x)"
   ]
  },
  {
   "cell_type": "code",
   "execution_count": 5,
   "id": "9755bfbc-36ea-42e4-937e-6b92bdf0c7a9",
   "metadata": {},
   "outputs": [
    {
     "name": "stdout",
     "output_type": "stream",
     "text": [
      "1\n",
      "2\n",
      "3\n",
      "a\n"
     ]
    }
   ],
   "source": [
    "for y in x:\n",
    "    print(y)"
   ]
  },
  {
   "cell_type": "code",
   "execution_count": 7,
   "id": "e5b7aead-4041-4f7d-95fa-1ab479253f40",
   "metadata": {},
   "outputs": [
    {
     "name": "stdout",
     "output_type": "stream",
     "text": [
      "apple\n",
      "orange\n",
      "2\n",
      "True\n"
     ]
    }
   ],
   "source": [
    "f=[\"apple\",\"orange\",2,True]\n",
    "for i in f:\n",
    "    print(i)"
   ]
  },
  {
   "cell_type": "code",
   "execution_count": 9,
   "id": "296478fe-55c7-4440-ba43-d7a897144665",
   "metadata": {},
   "outputs": [
    {
     "name": "stdout",
     "output_type": "stream",
     "text": [
      "apple in the list\n"
     ]
    }
   ],
   "source": [
    "f=[\"apple\",\"orange\",\"papaya\"]\n",
    "for i in f:\n",
    "    if i==\"apple\":\n",
    "        if_apple=True\n",
    "        print(\"apple in the list\")\n",
    "        break\n",
    "\n",
    "if if_apple==False:\n",
    "    print(\"no apple present\")\n",
    "    "
   ]
  },
  {
   "cell_type": "code",
   "execution_count": 13,
   "id": "195c7abe-e122-4ced-bcba-e70467888efd",
   "metadata": {},
   "outputs": [],
   "source": [
    "my_list=[14,10,17,12]\n",
    "lower_bound=10\n",
    "upp_bound=25\n",
    "for i in my_list:\n",
    "    if i<lower_bound or i>upp_bound:\n",
    "        print(\"condition true\")\n",
    "    "
   ]
  },
  {
   "cell_type": "code",
   "execution_count": null,
   "id": "8346f2a1-03f8-4074-9c36-7e19dc5e32ee",
   "metadata": {},
   "outputs": [],
   "source": []
  }
 ],
 "metadata": {
  "kernelspec": {
   "display_name": "Python 3 (ipykernel)",
   "language": "python",
   "name": "python3"
  },
  "language_info": {
   "codemirror_mode": {
    "name": "ipython",
    "version": 3
   },
   "file_extension": ".py",
   "mimetype": "text/x-python",
   "name": "python",
   "nbconvert_exporter": "python",
   "pygments_lexer": "ipython3",
   "version": "3.12.4"
  }
 },
 "nbformat": 4,
 "nbformat_minor": 5
}
