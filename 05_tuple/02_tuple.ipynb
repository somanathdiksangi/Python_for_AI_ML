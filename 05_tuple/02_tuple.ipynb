{
 "cells": [
  {
   "cell_type": "markdown",
   "id": "ec5a70d3-85a9-4a43-9ebb-8b0f2c71dc1c",
   "metadata": {},
   "source": [
    "acces the data in tuple"
   ]
  },
  {
   "cell_type": "code",
   "execution_count": 1,
   "id": "de3d0bda-50f8-4b31-ad74-bb6d913b60f4",
   "metadata": {},
   "outputs": [],
   "source": [
    "my=(1,56,85,95,65,96)"
   ]
  },
  {
   "cell_type": "code",
   "execution_count": 2,
   "id": "0b7e7a34-f190-42ed-9f76-21ba4a8491e8",
   "metadata": {},
   "outputs": [
    {
     "data": {
      "text/plain": [
       "1"
      ]
     },
     "execution_count": 2,
     "metadata": {},
     "output_type": "execute_result"
    }
   ],
   "source": [
    "my[0]"
   ]
  },
  {
   "cell_type": "code",
   "execution_count": 3,
   "id": "d068d479-e335-4d1a-80d0-d3792c2fb3f6",
   "metadata": {},
   "outputs": [
    {
     "data": {
      "text/plain": [
       "96"
      ]
     },
     "execution_count": 3,
     "metadata": {},
     "output_type": "execute_result"
    }
   ],
   "source": [
    "my[5]\n"
   ]
  },
  {
   "cell_type": "code",
   "execution_count": 4,
   "id": "68ef13a5-a786-47e0-9a1c-32a8adfd0644",
   "metadata": {},
   "outputs": [
    {
     "data": {
      "text/plain": [
       "(1, 56, 85, 95, 65, 96)"
      ]
     },
     "execution_count": 4,
     "metadata": {},
     "output_type": "execute_result"
    }
   ],
   "source": [
    "my[0:]"
   ]
  },
  {
   "cell_type": "code",
   "execution_count": 5,
   "id": "38ed86a0-cd5e-4e7c-85ba-d4b5ae44528a",
   "metadata": {},
   "outputs": [
    {
     "data": {
      "text/plain": [
       "(56, 85, 95, 65, 96)"
      ]
     },
     "execution_count": 5,
     "metadata": {},
     "output_type": "execute_result"
    }
   ],
   "source": [
    "my[1:55]"
   ]
  },
  {
   "cell_type": "code",
   "execution_count": 6,
   "id": "e18034c8-17b8-4bcc-bc47-f4d719a015d7",
   "metadata": {},
   "outputs": [
    {
     "name": "stdout",
     "output_type": "stream",
     "text": [
      "(56, 85, 95, 65)\n"
     ]
    }
   ],
   "source": [
    "print(my[1:5])"
   ]
  },
  {
   "cell_type": "code",
   "execution_count": 7,
   "id": "b8f7c7e1-b80d-4e6e-936d-c0bfbfdd5f46",
   "metadata": {},
   "outputs": [
    {
     "name": "stdout",
     "output_type": "stream",
     "text": [
      "(56, 85, 95, 65, 96)\n"
     ]
    }
   ],
   "source": [
    "print(my[1:99])"
   ]
  },
  {
   "cell_type": "code",
   "execution_count": 8,
   "id": "f332c9d4-194e-428f-9d0b-45bef61bd883",
   "metadata": {},
   "outputs": [
    {
     "name": "stdout",
     "output_type": "stream",
     "text": [
      "(1, 56, 85, 95)\n"
     ]
    }
   ],
   "source": [
    "print(my[:-2])"
   ]
  },
  {
   "cell_type": "code",
   "execution_count": 9,
   "id": "99e8a145-84d0-4591-8434-941e6d443759",
   "metadata": {},
   "outputs": [
    {
     "name": "stdout",
     "output_type": "stream",
     "text": [
      "(65, 95, 85)\n"
     ]
    }
   ],
   "source": [
    "print(my[4:1:-1])"
   ]
  },
  {
   "cell_type": "code",
   "execution_count": 10,
   "id": "8c8e7732-28d3-45cd-8c55-8d0334fff4b6",
   "metadata": {},
   "outputs": [
    {
     "data": {
      "text/plain": [
       "(1, 56, 85, 95, 65, 96)"
      ]
     },
     "execution_count": 10,
     "metadata": {},
     "output_type": "execute_result"
    }
   ],
   "source": [
    "my\n"
   ]
  },
  {
   "cell_type": "code",
   "execution_count": null,
   "id": "f390446a-26a5-4ac3-8ecd-c99eb2510c71",
   "metadata": {},
   "outputs": [],
   "source": []
  },
  {
   "cell_type": "code",
   "execution_count": 14,
   "id": "c696a782-22e8-4e23-82ef-a0f4f3d28159",
   "metadata": {},
   "outputs": [
    {
     "data": {
      "text/plain": [
       "(1, 56, 85, 95, 65, 96)"
      ]
     },
     "execution_count": 14,
     "metadata": {},
     "output_type": "execute_result"
    }
   ],
   "source": [
    "my\n"
   ]
  },
  {
   "cell_type": "code",
   "execution_count": 15,
   "id": "c4291419-992d-4759-816f-1ce90a8d1793",
   "metadata": {},
   "outputs": [
    {
     "data": {
      "text/plain": [
       "85"
      ]
     },
     "execution_count": 15,
     "metadata": {},
     "output_type": "execute_result"
    }
   ],
   "source": [
    "my[2]"
   ]
  },
  {
   "cell_type": "code",
   "execution_count": 16,
   "id": "dec3de8b-751a-4603-beb9-ea345c8c05cb",
   "metadata": {},
   "outputs": [
    {
     "ename": "TypeError",
     "evalue": "'tuple' object does not support item assignment",
     "output_type": "error",
     "traceback": [
      "\u001b[1;31m---------------------------------------------------------------------------\u001b[0m",
      "\u001b[1;31mTypeError\u001b[0m                                 Traceback (most recent call last)",
      "Cell \u001b[1;32mIn[16], line 1\u001b[0m\n\u001b[1;32m----> 1\u001b[0m \u001b[43mmy\u001b[49m\u001b[43m[\u001b[49m\u001b[38;5;241;43m2\u001b[39;49m\u001b[43m]\u001b[49m\u001b[38;5;241m=\u001b[39m\u001b[38;5;241m56\u001b[39m\n",
      "\u001b[1;31mTypeError\u001b[0m: 'tuple' object does not support item assignment"
     ]
    }
   ],
   "source": [
    "my[2]=56"
   ]
  },
  {
   "cell_type": "code",
   "execution_count": 17,
   "id": "6e2cc901-ac30-4cb9-ab8b-73b00d0c8eb5",
   "metadata": {},
   "outputs": [],
   "source": [
    "mynumber=[1,2,5,69,85,6]"
   ]
  },
  {
   "cell_type": "code",
   "execution_count": 18,
   "id": "b7c8de73-6365-4da8-84c6-5e6f2b050c10",
   "metadata": {},
   "outputs": [
    {
     "data": {
      "text/plain": [
       "69"
      ]
     },
     "execution_count": 18,
     "metadata": {},
     "output_type": "execute_result"
    }
   ],
   "source": [
    "mynumber[3]"
   ]
  },
  {
   "cell_type": "code",
   "execution_count": 19,
   "id": "d0acb723-52a4-4156-8ba8-c1c972835211",
   "metadata": {},
   "outputs": [],
   "source": [
    "mynumber[3]=100"
   ]
  },
  {
   "cell_type": "code",
   "execution_count": 20,
   "id": "eb501fd4-8084-4c8f-8d5c-0eb3a4f4b1d4",
   "metadata": {},
   "outputs": [
    {
     "data": {
      "text/plain": [
       "[1, 2, 5, 100, 85, 6]"
      ]
     },
     "execution_count": 20,
     "metadata": {},
     "output_type": "execute_result"
    }
   ],
   "source": [
    "mynumber\n"
   ]
  },
  {
   "cell_type": "code",
   "execution_count": 21,
   "id": "d1968d72-c15e-4e72-9acc-f6d82f7df33d",
   "metadata": {},
   "outputs": [],
   "source": [
    "mynumber=[[1,2],5,9,8]  #acces the value two"
   ]
  },
  {
   "cell_type": "code",
   "execution_count": 22,
   "id": "f943c8d2-55c1-4cec-af18-e2626c5a75ec",
   "metadata": {},
   "outputs": [
    {
     "data": {
      "text/plain": [
       "2"
      ]
     },
     "execution_count": 22,
     "metadata": {},
     "output_type": "execute_result"
    }
   ],
   "source": [
    "mynumber[0][1]"
   ]
  },
  {
   "cell_type": "code",
   "execution_count": 23,
   "id": "a0a987c0-3931-4bb9-bfa0-669dd7aa12b7",
   "metadata": {},
   "outputs": [],
   "source": [
    "mynumber[0][1]=100 #change the value 2 to 100"
   ]
  },
  {
   "cell_type": "code",
   "execution_count": 24,
   "id": "af6da577-1d99-4c92-9f66-32fb4c6681ca",
   "metadata": {},
   "outputs": [
    {
     "data": {
      "text/plain": [
       "100"
      ]
     },
     "execution_count": 24,
     "metadata": {},
     "output_type": "execute_result"
    }
   ],
   "source": [
    "mynumber[0][1]"
   ]
  },
  {
   "cell_type": "code",
   "execution_count": 25,
   "id": "2f5cebf8-8965-4e28-9881-e14e98dd018b",
   "metadata": {},
   "outputs": [
    {
     "data": {
      "text/plain": [
       "[[1, 100], 5, 9, 8]"
      ]
     },
     "execution_count": 25,
     "metadata": {},
     "output_type": "execute_result"
    }
   ],
   "source": [
    "mynumber"
   ]
  },
  {
   "cell_type": "code",
   "execution_count": 26,
   "id": "3678828c-180f-4d5d-8105-81ee323bbd6d",
   "metadata": {},
   "outputs": [],
   "source": [
    "mynumber=([1,2],5,9,8)"
   ]
  },
  {
   "cell_type": "code",
   "execution_count": 27,
   "id": "c04f7899-0b46-4633-904c-885d3a422e53",
   "metadata": {},
   "outputs": [
    {
     "data": {
      "text/plain": [
       "2"
      ]
     },
     "execution_count": 27,
     "metadata": {},
     "output_type": "execute_result"
    }
   ],
   "source": [
    "mynumber[0][1]"
   ]
  },
  {
   "cell_type": "code",
   "execution_count": 28,
   "id": "44dd09b4-bfdd-4a2a-8308-fa7c6958c097",
   "metadata": {},
   "outputs": [
    {
     "data": {
      "text/plain": [
       "tuple"
      ]
     },
     "execution_count": 28,
     "metadata": {},
     "output_type": "execute_result"
    }
   ],
   "source": [
    "type(mynumber)"
   ]
  },
  {
   "cell_type": "code",
   "execution_count": 31,
   "id": "bbdd4909-1cfb-403d-b725-5b5fc1799fbc",
   "metadata": {},
   "outputs": [],
   "source": [
    "mynumber[0][1]=100 #change the value 2 to 100 list inside the tuple"
   ]
  },
  {
   "cell_type": "code",
   "execution_count": 32,
   "id": "b02cca7b-6bdd-4aad-a129-3eb7e4b4f960",
   "metadata": {},
   "outputs": [
    {
     "data": {
      "text/plain": [
       "([1, 100], 5, 9, 8)"
      ]
     },
     "execution_count": 32,
     "metadata": {},
     "output_type": "execute_result"
    }
   ],
   "source": [
    "mynumber"
   ]
  },
  {
   "cell_type": "code",
   "execution_count": 33,
   "id": "2a15bfb8-1b0c-4bd5-b0ca-c55194fd96b9",
   "metadata": {},
   "outputs": [],
   "source": [
    "a=(100,200,300,400,500)"
   ]
  },
  {
   "cell_type": "code",
   "execution_count": 34,
   "id": "35766659-55fc-4a96-a5cd-45d804bf1706",
   "metadata": {},
   "outputs": [
    {
     "data": {
      "text/plain": [
       "(100, 200, 300, 400, 500)"
      ]
     },
     "execution_count": 34,
     "metadata": {},
     "output_type": "execute_result"
    }
   ],
   "source": [
    "a"
   ]
  },
  {
   "cell_type": "code",
   "execution_count": 35,
   "id": "3d9568eb-3648-4aa1-945c-dfb112516ef6",
   "metadata": {},
   "outputs": [],
   "source": [
    "a=(1,2,3,4,5)"
   ]
  },
  {
   "cell_type": "code",
   "execution_count": 36,
   "id": "e5610642-4ff4-4e31-9c79-204eed743bfe",
   "metadata": {},
   "outputs": [
    {
     "data": {
      "text/plain": [
       "(1, 2, 3, 4, 5)"
      ]
     },
     "execution_count": 36,
     "metadata": {},
     "output_type": "execute_result"
    }
   ],
   "source": [
    "a"
   ]
  },
  {
   "cell_type": "code",
   "execution_count": 37,
   "id": "e28f9fde-7f2e-446e-86f1-142c52a8da5b",
   "metadata": {},
   "outputs": [
    {
     "data": {
      "text/plain": [
       "(1, 2, 3, 4, 5)"
      ]
     },
     "execution_count": 37,
     "metadata": {},
     "output_type": "execute_result"
    }
   ],
   "source": [
    "a"
   ]
  },
  {
   "cell_type": "code",
   "execution_count": 38,
   "id": "111de9cd-7755-4158-adfd-25e959057c23",
   "metadata": {},
   "outputs": [
    {
     "ename": "TypeError",
     "evalue": "'tuple' object doesn't support item deletion",
     "output_type": "error",
     "traceback": [
      "\u001b[1;31m---------------------------------------------------------------------------\u001b[0m",
      "\u001b[1;31mTypeError\u001b[0m                                 Traceback (most recent call last)",
      "Cell \u001b[1;32mIn[38], line 1\u001b[0m\n\u001b[1;32m----> 1\u001b[0m \u001b[38;5;28;01mdel\u001b[39;00m(\u001b[43ma\u001b[49m\u001b[43m[\u001b[49m\u001b[38;5;241;43m0\u001b[39;49m\u001b[43m]\u001b[49m)\n",
      "\u001b[1;31mTypeError\u001b[0m: 'tuple' object doesn't support item deletion"
     ]
    }
   ],
   "source": [
    "del(a[0])"
   ]
  },
  {
   "cell_type": "code",
   "execution_count": 39,
   "id": "e4a155c6-1f4d-4011-934c-c0c943d41c09",
   "metadata": {},
   "outputs": [],
   "source": [
    "del(a)"
   ]
  },
  {
   "cell_type": "code",
   "execution_count": 40,
   "id": "82babecb-8d3d-4434-aabd-0c166e9c09d7",
   "metadata": {},
   "outputs": [
    {
     "ename": "NameError",
     "evalue": "name 'a' is not defined",
     "output_type": "error",
     "traceback": [
      "\u001b[1;31m---------------------------------------------------------------------------\u001b[0m",
      "\u001b[1;31mNameError\u001b[0m                                 Traceback (most recent call last)",
      "Cell \u001b[1;32mIn[40], line 1\u001b[0m\n\u001b[1;32m----> 1\u001b[0m \u001b[43ma\u001b[49m\n",
      "\u001b[1;31mNameError\u001b[0m: name 'a' is not defined"
     ]
    }
   ],
   "source": [
    "a"
   ]
  },
  {
   "cell_type": "code",
   "execution_count": null,
   "id": "9971fc63-eecb-49b6-8844-f947f2f2795d",
   "metadata": {},
   "outputs": [],
   "source": []
  }
 ],
 "metadata": {
  "kernelspec": {
   "display_name": "Python 3 (ipykernel)",
   "language": "python",
   "name": "python3"
  },
  "language_info": {
   "codemirror_mode": {
    "name": "ipython",
    "version": 3
   },
   "file_extension": ".py",
   "mimetype": "text/x-python",
   "name": "python",
   "nbconvert_exporter": "python",
   "pygments_lexer": "ipython3",
   "version": "3.12.4"
  }
 },
 "nbformat": 4,
 "nbformat_minor": 5
}
