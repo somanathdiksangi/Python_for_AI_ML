{
 "cells": [
  {
   "cell_type": "markdown",
   "id": "6e5c04bf-d534-4d90-9a72-64dfa2c26fcf",
   "metadata": {},
   "source": [
    "tuple"
   ]
  },
  {
   "cell_type": "code",
   "execution_count": 2,
   "id": "42d10f18-9581-402d-b27b-6376ee797e28",
   "metadata": {},
   "outputs": [],
   "source": [
    "mytuple=()"
   ]
  },
  {
   "cell_type": "code",
   "execution_count": 3,
   "id": "bc2eedd2-de95-476e-b8f5-4ee294c42968",
   "metadata": {},
   "outputs": [],
   "source": [
    "mytuple=(1,2,3,4,5,6,7)"
   ]
  },
  {
   "cell_type": "code",
   "execution_count": 4,
   "id": "971889bf-408d-43f4-a4c6-d53461afe41c",
   "metadata": {},
   "outputs": [
    {
     "data": {
      "text/plain": [
       "(1, 2, 3, 4, 5, 6, 7)"
      ]
     },
     "execution_count": 4,
     "metadata": {},
     "output_type": "execute_result"
    }
   ],
   "source": [
    "mytuple"
   ]
  },
  {
   "cell_type": "code",
   "execution_count": 9,
   "id": "41b65fdc-bfbc-4034-94ea-a5677cf8cf6d",
   "metadata": {},
   "outputs": [],
   "source": [
    "mytuple=(1,\"somu\",505,5.5)"
   ]
  },
  {
   "cell_type": "code",
   "execution_count": 10,
   "id": "89a28e0a-17a3-4eee-936f-3eb9c814331f",
   "metadata": {},
   "outputs": [
    {
     "data": {
      "text/plain": [
       "(1, 'somu', 505, 5.5)"
      ]
     },
     "execution_count": 10,
     "metadata": {},
     "output_type": "execute_result"
    }
   ],
   "source": [
    "mytuple\n"
   ]
  },
  {
   "cell_type": "code",
   "execution_count": 11,
   "id": "3d89e54b-3a91-4a27-bbb6-037980b9cf1d",
   "metadata": {},
   "outputs": [
    {
     "data": {
      "text/plain": [
       "tuple"
      ]
     },
     "execution_count": 11,
     "metadata": {},
     "output_type": "execute_result"
    }
   ],
   "source": [
    "type(mytuple)"
   ]
  },
  {
   "cell_type": "code",
   "execution_count": 12,
   "id": "00840ec2-02a7-4db0-9f2c-9bdb9a733a38",
   "metadata": {},
   "outputs": [],
   "source": [
    "mytuple=(10)"
   ]
  },
  {
   "cell_type": "code",
   "execution_count": 13,
   "id": "ccde590b-d044-47be-9d5d-5c876a07abc6",
   "metadata": {},
   "outputs": [
    {
     "data": {
      "text/plain": [
       "int"
      ]
     },
     "execution_count": 13,
     "metadata": {},
     "output_type": "execute_result"
    }
   ],
   "source": [
    "type(mytuple)"
   ]
  },
  {
   "cell_type": "code",
   "execution_count": 14,
   "id": "f567a8c1-c65d-4208-8556-d9d4b82446f0",
   "metadata": {},
   "outputs": [],
   "source": [
    "mytuple2=(10,)"
   ]
  },
  {
   "cell_type": "code",
   "execution_count": 15,
   "id": "06df18b1-3c6f-4606-af99-7a95ca2b3d3e",
   "metadata": {},
   "outputs": [
    {
     "data": {
      "text/plain": [
       "(10,)"
      ]
     },
     "execution_count": 15,
     "metadata": {},
     "output_type": "execute_result"
    }
   ],
   "source": [
    "mytuple2"
   ]
  },
  {
   "cell_type": "code",
   "execution_count": 16,
   "id": "aa1306dc-882e-4a41-b3bc-19c6d8001b93",
   "metadata": {},
   "outputs": [
    {
     "data": {
      "text/plain": [
       "tuple"
      ]
     },
     "execution_count": 16,
     "metadata": {},
     "output_type": "execute_result"
    }
   ],
   "source": [
    "type(mytuple2)"
   ]
  },
  {
   "cell_type": "code",
   "execution_count": 17,
   "id": "b4cfa772-cf79-4b92-8680-920cc4f513c1",
   "metadata": {},
   "outputs": [],
   "source": [
    "mytuple2=(\"somu\",)"
   ]
  },
  {
   "cell_type": "code",
   "execution_count": 18,
   "id": "9c14121a-ccca-407d-89c1-77b09425225f",
   "metadata": {},
   "outputs": [
    {
     "data": {
      "text/plain": [
       "int"
      ]
     },
     "execution_count": 18,
     "metadata": {},
     "output_type": "execute_result"
    }
   ],
   "source": [
    "type(mytuple)"
   ]
  },
  {
   "cell_type": "markdown",
   "id": "845f30e0-eda1-47b8-9bee-d3ad0e5411d8",
   "metadata": {},
   "source": [
    "concept of packing and unpacking"
   ]
  },
  {
   "cell_type": "code",
   "execution_count": 19,
   "id": "6cbe5f59-c075-4f2e-bd10-1a913ec53052",
   "metadata": {},
   "outputs": [],
   "source": [
    "a=1,2,3,4,5"
   ]
  },
  {
   "cell_type": "code",
   "execution_count": 20,
   "id": "cbed43b7-324e-4c9f-afa7-fc886f4689ba",
   "metadata": {},
   "outputs": [
    {
     "data": {
      "text/plain": [
       "(1, 2, 3, 4, 5)"
      ]
     },
     "execution_count": 20,
     "metadata": {},
     "output_type": "execute_result"
    }
   ],
   "source": [
    "a\n"
   ]
  },
  {
   "cell_type": "code",
   "execution_count": 21,
   "id": "3bbb02ad-6154-42e4-9648-885fec147d06",
   "metadata": {},
   "outputs": [
    {
     "data": {
      "text/plain": [
       "tuple"
      ]
     },
     "execution_count": 21,
     "metadata": {},
     "output_type": "execute_result"
    }
   ],
   "source": [
    "type(a)"
   ]
  },
  {
   "cell_type": "code",
   "execution_count": 23,
   "id": "aacb7960-1b81-45fb-ad39-cbdbcba73578",
   "metadata": {},
   "outputs": [],
   "source": [
    "x,y,z,h,g=a"
   ]
  },
  {
   "cell_type": "code",
   "execution_count": 24,
   "id": "a9458b1b-1bb4-46ff-b433-3a4737ca7860",
   "metadata": {},
   "outputs": [
    {
     "data": {
      "text/plain": [
       "1"
      ]
     },
     "execution_count": 24,
     "metadata": {},
     "output_type": "execute_result"
    }
   ],
   "source": [
    "x"
   ]
  },
  {
   "cell_type": "code",
   "execution_count": 25,
   "id": "64d2158b-4d90-410d-be89-403f3d13b600",
   "metadata": {},
   "outputs": [
    {
     "data": {
      "text/plain": [
       "2"
      ]
     },
     "execution_count": 25,
     "metadata": {},
     "output_type": "execute_result"
    }
   ],
   "source": [
    "y"
   ]
  },
  {
   "cell_type": "code",
   "execution_count": 26,
   "id": "8f7df363-2bea-4ad6-919e-63918f064305",
   "metadata": {},
   "outputs": [
    {
     "data": {
      "text/plain": [
       "3"
      ]
     },
     "execution_count": 26,
     "metadata": {},
     "output_type": "execute_result"
    }
   ],
   "source": [
    "z"
   ]
  },
  {
   "cell_type": "code",
   "execution_count": 27,
   "id": "655077a0-7052-4200-b1e4-ae842ac29b5c",
   "metadata": {},
   "outputs": [
    {
     "data": {
      "text/plain": [
       "4"
      ]
     },
     "execution_count": 27,
     "metadata": {},
     "output_type": "execute_result"
    }
   ],
   "source": [
    "h"
   ]
  },
  {
   "cell_type": "code",
   "execution_count": 28,
   "id": "76019d7d-0a5c-4090-ace3-2fd033a0bd81",
   "metadata": {},
   "outputs": [
    {
     "data": {
      "text/plain": [
       "5"
      ]
     },
     "execution_count": 28,
     "metadata": {},
     "output_type": "execute_result"
    }
   ],
   "source": [
    "g"
   ]
  },
  {
   "cell_type": "code",
   "execution_count": 29,
   "id": "e6f6b24b-05fa-44f0-96e8-020f59ddc6fd",
   "metadata": {},
   "outputs": [],
   "source": [
    "mytuple=(1,55,15,45,85,62,4,85,88,8)"
   ]
  },
  {
   "cell_type": "code",
   "execution_count": 30,
   "id": "38e2996a-c9f4-4f02-8d4a-d01cb4eca132",
   "metadata": {},
   "outputs": [
    {
     "data": {
      "text/plain": [
       "1"
      ]
     },
     "execution_count": 30,
     "metadata": {},
     "output_type": "execute_result"
    }
   ],
   "source": [
    "mytuple[0]"
   ]
  },
  {
   "cell_type": "code",
   "execution_count": 1,
   "id": "7ee8c6e8-315b-457d-9fc4-8b97948be60c",
   "metadata": {},
   "outputs": [],
   "source": [
    "a=[]\n",
    "a=[1,2,3]"
   ]
  },
  {
   "cell_type": "code",
   "execution_count": 3,
   "id": "3f270c9a-97a7-4029-b20c-ab0d8b78bdb0",
   "metadata": {},
   "outputs": [],
   "source": [
    "x,y,z=a"
   ]
  },
  {
   "cell_type": "code",
   "execution_count": 4,
   "id": "dee3fbdd-4153-47b7-a12c-6ebd914747f8",
   "metadata": {},
   "outputs": [
    {
     "data": {
      "text/plain": [
       "1"
      ]
     },
     "execution_count": 4,
     "metadata": {},
     "output_type": "execute_result"
    }
   ],
   "source": [
    "x"
   ]
  },
  {
   "cell_type": "code",
   "execution_count": 5,
   "id": "cc00d78a-162e-4b75-8fdd-f6bf0dd0cbeb",
   "metadata": {},
   "outputs": [
    {
     "data": {
      "text/plain": [
       "2"
      ]
     },
     "execution_count": 5,
     "metadata": {},
     "output_type": "execute_result"
    }
   ],
   "source": [
    "y"
   ]
  },
  {
   "cell_type": "code",
   "execution_count": 6,
   "id": "82b68f04-2914-4683-9d77-03a5ee0afa8f",
   "metadata": {},
   "outputs": [
    {
     "data": {
      "text/plain": [
       "3"
      ]
     },
     "execution_count": 6,
     "metadata": {},
     "output_type": "execute_result"
    }
   ],
   "source": [
    "z"
   ]
  },
  {
   "cell_type": "code",
   "execution_count": null,
   "id": "aa39bd01-8330-4880-9f92-4f44cb5054bc",
   "metadata": {},
   "outputs": [],
   "source": [
    "mytuple=(1,23,52,"
   ]
  }
 ],
 "metadata": {
  "kernelspec": {
   "display_name": "Python 3 (ipykernel)",
   "language": "python",
   "name": "python3"
  },
  "language_info": {
   "codemirror_mode": {
    "name": "ipython",
    "version": 3
   },
   "file_extension": ".py",
   "mimetype": "text/x-python",
   "name": "python",
   "nbconvert_exporter": "python",
   "pygments_lexer": "ipython3",
   "version": "3.12.4"
  }
 },
 "nbformat": 4,
 "nbformat_minor": 5
}
