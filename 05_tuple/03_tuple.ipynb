{
 "cells": [
  {
   "cell_type": "markdown",
   "id": "6e5222b2-6b71-432b-a3c5-a5df97882566",
   "metadata": {},
   "source": [
    "function in tuple\n",
    "\n",
    "len()\n",
    "\n",
    "max()\n",
    "\n",
    "min()\n",
    "\n",
    "sum()\n",
    "\n",
    "sorted()\n",
    "\n",
    "any()\n",
    "\n",
    "all()\n",
    "\n",
    "tuple()"
   ]
  },
  {
   "cell_type": "code",
   "execution_count": 2,
   "id": "1db46115-62b3-4f7f-853c-8f9879621584",
   "metadata": {},
   "outputs": [],
   "source": [
    "mytuple=(1,55,6,9,88,44,52,63,99,2,15)"
   ]
  },
  {
   "cell_type": "code",
   "execution_count": 3,
   "id": "22980b1b-241e-4d77-97a5-1dc405277a3c",
   "metadata": {},
   "outputs": [
    {
     "data": {
      "text/plain": [
       "11"
      ]
     },
     "execution_count": 3,
     "metadata": {},
     "output_type": "execute_result"
    }
   ],
   "source": [
    "len(mytuple)"
   ]
  },
  {
   "cell_type": "code",
   "execution_count": 4,
   "id": "5a9bea41-6c91-45e3-9179-9a318ce06b1c",
   "metadata": {},
   "outputs": [
    {
     "data": {
      "text/plain": [
       "99"
      ]
     },
     "execution_count": 4,
     "metadata": {},
     "output_type": "execute_result"
    }
   ],
   "source": [
    "max(mytuple)"
   ]
  },
  {
   "cell_type": "code",
   "execution_count": 5,
   "id": "7c0ecfc0-aa42-4d52-8b1d-518f1c20e7b2",
   "metadata": {},
   "outputs": [
    {
     "data": {
      "text/plain": [
       "1"
      ]
     },
     "execution_count": 5,
     "metadata": {},
     "output_type": "execute_result"
    }
   ],
   "source": [
    "min(mytuple)"
   ]
  },
  {
   "cell_type": "code",
   "execution_count": 6,
   "id": "05a4a657-8ec1-40f9-aeaa-6d5c148ba4ee",
   "metadata": {},
   "outputs": [
    {
     "data": {
      "text/plain": [
       "434"
      ]
     },
     "execution_count": 6,
     "metadata": {},
     "output_type": "execute_result"
    }
   ],
   "source": [
    "sum(mytuple)"
   ]
  },
  {
   "cell_type": "code",
   "execution_count": 7,
   "id": "d759f8e4-fcfb-428f-84cb-b6a76de79268",
   "metadata": {},
   "outputs": [
    {
     "data": {
      "text/plain": [
       "[1, 2, 6, 9, 15, 44, 52, 55, 63, 88, 99]"
      ]
     },
     "execution_count": 7,
     "metadata": {},
     "output_type": "execute_result"
    }
   ],
   "source": [
    "sorted(mytuple)\n"
   ]
  },
  {
   "cell_type": "code",
   "execution_count": 8,
   "id": "0aa1d4dc-079e-4a41-8547-ad8515bc817c",
   "metadata": {},
   "outputs": [
    {
     "data": {
      "text/plain": [
       "[99, 88, 63, 55, 52, 44, 15, 9, 6, 2, 1]"
      ]
     },
     "execution_count": 8,
     "metadata": {},
     "output_type": "execute_result"
    }
   ],
   "source": [
    "sorted(mytuple,reverse=True)"
   ]
  },
  {
   "cell_type": "code",
   "execution_count": 9,
   "id": "e578bd85-341e-4cba-952d-52a278f7f35e",
   "metadata": {},
   "outputs": [
    {
     "data": {
      "text/plain": [
       "True"
      ]
     },
     "execution_count": 9,
     "metadata": {},
     "output_type": "execute_result"
    }
   ],
   "source": [
    "any(mytuple) "
   ]
  },
  {
   "cell_type": "code",
   "execution_count": 10,
   "id": "c8320f70-7d4d-4eab-8662-4551bb6fc24a",
   "metadata": {},
   "outputs": [
    {
     "data": {
      "text/plain": [
       "True"
      ]
     },
     "execution_count": 10,
     "metadata": {},
     "output_type": "execute_result"
    }
   ],
   "source": [
    "all(mytuple)"
   ]
  },
  {
   "cell_type": "code",
   "execution_count": 12,
   "id": "4db0b4b9-acde-4afc-b0f8-5529be61ef77",
   "metadata": {},
   "outputs": [
    {
     "data": {
      "text/plain": [
       "('s', 'o', 'm', 'u')"
      ]
     },
     "execution_count": 12,
     "metadata": {},
     "output_type": "execute_result"
    }
   ],
   "source": [
    "tuple(\"somu\")"
   ]
  },
  {
   "cell_type": "raw",
   "id": "1db77999-a255-4b8d-ac60-364db6e5a701",
   "metadata": {},
   "source": [
    "method for tuple\n",
    "1.append()\n",
    "2.extend()\n",
    "3.insert()\n",
    "4.count()\n",
    "5.index()\n",
    "6.clear()\n",
    "7.pop()\n",
    "8.sort()\n",
    "9.reverde()"
   ]
  },
  {
   "cell_type": "code",
   "execution_count": 14,
   "id": "a2117084-a112-44fe-97e6-3018890e6d99",
   "metadata": {},
   "outputs": [
    {
     "ename": "NameError",
     "evalue": "name 'myruple' is not defined",
     "output_type": "error",
     "traceback": [
      "\u001b[1;31m---------------------------------------------------------------------------\u001b[0m",
      "\u001b[1;31mNameError\u001b[0m                                 Traceback (most recent call last)",
      "Cell \u001b[1;32mIn[14], line 1\u001b[0m\n\u001b[1;32m----> 1\u001b[0m \u001b[43mmyruple\u001b[49m\u001b[38;5;241m.\u001b[39mappend(\u001b[38;5;241m6\u001b[39m)\n",
      "\u001b[1;31mNameError\u001b[0m: name 'myruple' is not defined"
     ]
    }
   ],
   "source": [
    "myruple.append(6)"
   ]
  },
  {
   "cell_type": "code",
   "execution_count": 15,
   "id": "7617196a-2508-49a3-8569-2a1fe8477b5b",
   "metadata": {},
   "outputs": [
    {
     "ename": "AttributeError",
     "evalue": "'tuple' object has no attribute 'extend'",
     "output_type": "error",
     "traceback": [
      "\u001b[1;31m---------------------------------------------------------------------------\u001b[0m",
      "\u001b[1;31mAttributeError\u001b[0m                            Traceback (most recent call last)",
      "Cell \u001b[1;32mIn[15], line 1\u001b[0m\n\u001b[1;32m----> 1\u001b[0m \u001b[43mmytuple\u001b[49m\u001b[38;5;241;43m.\u001b[39;49m\u001b[43mextend\u001b[49m([\u001b[38;5;241m5\u001b[39m,\u001b[38;5;241m6\u001b[39m])\n",
      "\u001b[1;31mAttributeError\u001b[0m: 'tuple' object has no attribute 'extend'"
     ]
    }
   ],
   "source": [
    "mytuple.extend([5,6])"
   ]
  },
  {
   "cell_type": "code",
   "execution_count": 16,
   "id": "adb41a85-582b-4b83-9bc6-9dacd0aa3348",
   "metadata": {},
   "outputs": [
    {
     "ename": "AttributeError",
     "evalue": "'tuple' object has no attribute 'insert'",
     "output_type": "error",
     "traceback": [
      "\u001b[1;31m---------------------------------------------------------------------------\u001b[0m",
      "\u001b[1;31mAttributeError\u001b[0m                            Traceback (most recent call last)",
      "Cell \u001b[1;32mIn[16], line 1\u001b[0m\n\u001b[1;32m----> 1\u001b[0m \u001b[43mmytuple\u001b[49m\u001b[38;5;241;43m.\u001b[39;49m\u001b[43minsert\u001b[49m(\u001b[38;5;241m3\u001b[39m,\u001b[38;5;241m6\u001b[39m)\n",
      "\u001b[1;31mAttributeError\u001b[0m: 'tuple' object has no attribute 'insert'"
     ]
    }
   ],
   "source": [
    "mytuple.insert(3,6)"
   ]
  },
  {
   "cell_type": "code",
   "execution_count": 17,
   "id": "fb32b63a-30c5-450a-84ed-69a275fa08ce",
   "metadata": {},
   "outputs": [
    {
     "ename": "TypeError",
     "evalue": "tuple.count() takes exactly one argument (0 given)",
     "output_type": "error",
     "traceback": [
      "\u001b[1;31m---------------------------------------------------------------------------\u001b[0m",
      "\u001b[1;31mTypeError\u001b[0m                                 Traceback (most recent call last)",
      "Cell \u001b[1;32mIn[17], line 1\u001b[0m\n\u001b[1;32m----> 1\u001b[0m \u001b[43mmytuple\u001b[49m\u001b[38;5;241;43m.\u001b[39;49m\u001b[43mcount\u001b[49m\u001b[43m(\u001b[49m\u001b[43m)\u001b[49m\n",
      "\u001b[1;31mTypeError\u001b[0m: tuple.count() takes exactly one argument (0 given)"
     ]
    }
   ],
   "source": [
    "mytuple.count()"
   ]
  },
  {
   "cell_type": "code",
   "execution_count": 18,
   "id": "9ceb7935-2c28-41bd-9922-81bbbd23597b",
   "metadata": {},
   "outputs": [
    {
     "data": {
      "text/plain": [
       "1"
      ]
     },
     "execution_count": 18,
     "metadata": {},
     "output_type": "execute_result"
    }
   ],
   "source": [
    "mytuple.count(1)"
   ]
  },
  {
   "cell_type": "code",
   "execution_count": 20,
   "id": "f9e99f84-96c7-4223-bd9c-d6edf029fe3d",
   "metadata": {},
   "outputs": [
    {
     "ename": "ValueError",
     "evalue": "tuple.index(x): x not in tuple",
     "output_type": "error",
     "traceback": [
      "\u001b[1;31m---------------------------------------------------------------------------\u001b[0m",
      "\u001b[1;31mValueError\u001b[0m                                Traceback (most recent call last)",
      "Cell \u001b[1;32mIn[20], line 1\u001b[0m\n\u001b[1;32m----> 1\u001b[0m \u001b[43mmytuple\u001b[49m\u001b[38;5;241;43m.\u001b[39;49m\u001b[43mindex\u001b[49m\u001b[43m(\u001b[49m\u001b[38;5;241;43m0\u001b[39;49m\u001b[43m)\u001b[49m\n",
      "\u001b[1;31mValueError\u001b[0m: tuple.index(x): x not in tuple"
     ]
    }
   ],
   "source": [
    "mytuple.index(0)"
   ]
  },
  {
   "cell_type": "code",
   "execution_count": 21,
   "id": "b4af5af5-39e4-4109-8db5-040bd27d4197",
   "metadata": {},
   "outputs": [
    {
     "data": {
      "text/plain": [
       "(1, 55, 6, 9, 88, 44, 52, 63, 99, 2, 15)"
      ]
     },
     "execution_count": 21,
     "metadata": {},
     "output_type": "execute_result"
    }
   ],
   "source": [
    "mytuple"
   ]
  },
  {
   "cell_type": "code",
   "execution_count": 23,
   "id": "8917a6ac-4b7b-4fcf-9071-7fd9df860488",
   "metadata": {},
   "outputs": [
    {
     "ename": "ValueError",
     "evalue": "tuple.index(x): x not in tuple",
     "output_type": "error",
     "traceback": [
      "\u001b[1;31m---------------------------------------------------------------------------\u001b[0m",
      "\u001b[1;31mValueError\u001b[0m                                Traceback (most recent call last)",
      "Cell \u001b[1;32mIn[23], line 1\u001b[0m\n\u001b[1;32m----> 1\u001b[0m \u001b[43mmytuple\u001b[49m\u001b[38;5;241;43m.\u001b[39;49m\u001b[43mindex\u001b[49m\u001b[43m(\u001b[49m\u001b[38;5;241;43m0\u001b[39;49m\u001b[43m)\u001b[49m\n",
      "\u001b[1;31mValueError\u001b[0m: tuple.index(x): x not in tuple"
     ]
    }
   ],
   "source": [
    "mytuple.index(0)"
   ]
  },
  {
   "cell_type": "code",
   "execution_count": 24,
   "id": "19e72ca6-bd92-4085-be97-39ef686b9ec5",
   "metadata": {},
   "outputs": [
    {
     "ename": "AttributeError",
     "evalue": "'tuple' object has no attribute 'sort'",
     "output_type": "error",
     "traceback": [
      "\u001b[1;31m---------------------------------------------------------------------------\u001b[0m",
      "\u001b[1;31mAttributeError\u001b[0m                            Traceback (most recent call last)",
      "Cell \u001b[1;32mIn[24], line 1\u001b[0m\n\u001b[1;32m----> 1\u001b[0m \u001b[43mmytuple\u001b[49m\u001b[38;5;241;43m.\u001b[39;49m\u001b[43msort\u001b[49m()\n",
      "\u001b[1;31mAttributeError\u001b[0m: 'tuple' object has no attribute 'sort'"
     ]
    }
   ],
   "source": [
    "mytuple.sort()"
   ]
  },
  {
   "cell_type": "code",
   "execution_count": 25,
   "id": "8685bd37-af75-4cce-b0ce-707d8993d764",
   "metadata": {},
   "outputs": [
    {
     "ename": "AttributeError",
     "evalue": "'tuple' object has no attribute 'reverse'",
     "output_type": "error",
     "traceback": [
      "\u001b[1;31m---------------------------------------------------------------------------\u001b[0m",
      "\u001b[1;31mAttributeError\u001b[0m                            Traceback (most recent call last)",
      "Cell \u001b[1;32mIn[25], line 1\u001b[0m\n\u001b[1;32m----> 1\u001b[0m \u001b[43mmytuple\u001b[49m\u001b[38;5;241;43m.\u001b[39;49m\u001b[43mreverse\u001b[49m()\n",
      "\u001b[1;31mAttributeError\u001b[0m: 'tuple' object has no attribute 'reverse'"
     ]
    }
   ],
   "source": [
    "mytuple.reverse()"
   ]
  },
  {
   "cell_type": "code",
   "execution_count": 26,
   "id": "486b8818-aa2e-4bb8-ae81-f4a5ae3695ed",
   "metadata": {},
   "outputs": [
    {
     "data": {
      "text/plain": [
       "True"
      ]
     },
     "execution_count": 26,
     "metadata": {},
     "output_type": "execute_result"
    }
   ],
   "source": [
    "my_tuple=(\"a\",\"e\",\"i\",\"o\",\"u\")\n",
    "'a' in my_tuple"
   ]
  },
  {
   "cell_type": "code",
   "execution_count": 27,
   "id": "7b3ed001-2b12-456f-b052-771f55dfdc1a",
   "metadata": {},
   "outputs": [
    {
     "data": {
      "text/plain": [
       "True"
      ]
     },
     "execution_count": 27,
     "metadata": {},
     "output_type": "execute_result"
    }
   ],
   "source": [
    "'z' not in my_tuple"
   ]
  },
  {
   "cell_type": "markdown",
   "id": "eff372ab-e55b-4565-80d8-615bc1745fc9",
   "metadata": {},
   "source": [
    "member ship operator in and not in works with tuple"
   ]
  },
  {
   "cell_type": "code",
   "execution_count": 28,
   "id": "c0e766ce-cdf0-4a89-a97a-41eed80e881f",
   "metadata": {},
   "outputs": [],
   "source": [
    "odd = (1,3,5,9)\n",
    "even = (2,4,6,8)"
   ]
  },
  {
   "cell_type": "code",
   "execution_count": 30,
   "id": "7ab2c4d2-360a-4b9a-91e3-51bf12b6b90b",
   "metadata": {},
   "outputs": [
    {
     "data": {
      "text/plain": [
       "(1, 3, 5, 9, 2, 4, 6, 8)"
      ]
     },
     "execution_count": 30,
     "metadata": {},
     "output_type": "execute_result"
    }
   ],
   "source": [
    "odd + even"
   ]
  },
  {
   "cell_type": "code",
   "execution_count": 31,
   "id": "495ea0d9-7bb0-41d8-a093-a96c1f6f215e",
   "metadata": {},
   "outputs": [],
   "source": [
    "all= odd + even"
   ]
  },
  {
   "cell_type": "code",
   "execution_count": 32,
   "id": "f141c258-a830-4e28-b15c-828e41654e09",
   "metadata": {},
   "outputs": [
    {
     "data": {
      "text/plain": [
       "(1, 3, 5, 9, 2, 4, 6, 8)"
      ]
     },
     "execution_count": 32,
     "metadata": {},
     "output_type": "execute_result"
    }
   ],
   "source": [
    "all"
   ]
  },
  {
   "cell_type": "code",
   "execution_count": 34,
   "id": "0bdfd7f2-426e-4f3a-bccf-ba032cf000ec",
   "metadata": {},
   "outputs": [
    {
     "data": {
      "text/plain": [
       "(10, 20, 30, 10, 20, 30, 10, 20, 30)"
      ]
     },
     "execution_count": 34,
     "metadata": {},
     "output_type": "execute_result"
    }
   ],
   "source": [
    "a=(10,20,30)\n",
    "a*3"
   ]
  },
  {
   "cell_type": "code",
   "execution_count": 35,
   "id": "34f9183c-83a3-487e-9bf1-fafbbdeda6e4",
   "metadata": {},
   "outputs": [],
   "source": [
    "#relational operater "
   ]
  },
  {
   "cell_type": "code",
   "execution_count": 36,
   "id": "2cc7ea55-cee7-4be8-abe8-176afd368780",
   "metadata": {},
   "outputs": [
    {
     "data": {
      "text/plain": [
       "True"
      ]
     },
     "execution_count": 36,
     "metadata": {},
     "output_type": "execute_result"
    }
   ],
   "source": [
    "a=(1,2,3)\n",
    "b=(4,5,6)\n",
    "a<b"
   ]
  },
  {
   "cell_type": "code",
   "execution_count": 37,
   "id": "b897ca6d-093f-456d-b310-8c009ec0be19",
   "metadata": {},
   "outputs": [
    {
     "data": {
      "text/plain": [
       "True"
      ]
     },
     "execution_count": 37,
     "metadata": {},
     "output_type": "execute_result"
    }
   ],
   "source": [
    "a=(4,2,3)\n",
    "b=(4,5,6)\n",
    "a<b"
   ]
  },
  {
   "cell_type": "code",
   "execution_count": 38,
   "id": "2e071a8c-b053-4448-8b5a-c6fce063d248",
   "metadata": {},
   "outputs": [
    {
     "data": {
      "text/plain": [
       "True"
      ]
     },
     "execution_count": 38,
     "metadata": {},
     "output_type": "execute_result"
    }
   ],
   "source": [
    "a=(4,5,3)\n",
    "b=(4,5,6)\n",
    "a<b"
   ]
  },
  {
   "cell_type": "code",
   "execution_count": 39,
   "id": "b4561866-eb39-4a5f-878a-623487badbb9",
   "metadata": {},
   "outputs": [
    {
     "data": {
      "text/plain": [
       "False"
      ]
     },
     "execution_count": 39,
     "metadata": {},
     "output_type": "execute_result"
    }
   ],
   "source": [
    "a=(4,5,6)\n",
    "b=(4,5,6)\n",
    "a<b"
   ]
  },
  {
   "cell_type": "code",
   "execution_count": null,
   "id": "23c2a388-05e6-4d51-8677-7d3e41d99bb2",
   "metadata": {},
   "outputs": [],
   "source": []
  }
 ],
 "metadata": {
  "kernelspec": {
   "display_name": "Python 3 (ipykernel)",
   "language": "python",
   "name": "python3"
  },
  "language_info": {
   "codemirror_mode": {
    "name": "ipython",
    "version": 3
   },
   "file_extension": ".py",
   "mimetype": "text/x-python",
   "name": "python",
   "nbconvert_exporter": "python",
   "pygments_lexer": "ipython3",
   "version": "3.12.4"
  }
 },
 "nbformat": 4,
 "nbformat_minor": 5
}
