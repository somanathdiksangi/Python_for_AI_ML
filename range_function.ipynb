{
 "cells": [
  {
   "cell_type": "markdown",
   "id": "a425db03-bb65-4d79-995a-6f1328e14f90",
   "metadata": {},
   "source": [
    "range() function "
   ]
  },
  {
   "cell_type": "code",
   "execution_count": 1,
   "id": "f86c80bd-4e79-4b47-962e-7e6686d14300",
   "metadata": {},
   "outputs": [
    {
     "name": "stdout",
     "output_type": "stream",
     "text": [
      "range(0, 10)\n"
     ]
    }
   ],
   "source": [
    "a=range(10)\n",
    "print(a)"
   ]
  },
  {
   "cell_type": "code",
   "execution_count": 2,
   "id": "bd5bbcf4-f167-47fe-a3ab-8ae1348f93db",
   "metadata": {},
   "outputs": [
    {
     "data": {
      "text/plain": [
       "[0, 1, 2, 3, 4, 5, 6, 7, 8, 9]"
      ]
     },
     "execution_count": 2,
     "metadata": {},
     "output_type": "execute_result"
    }
   ],
   "source": [
    "list(a)"
   ]
  },
  {
   "cell_type": "markdown",
   "id": "a23d96ff-84ab-4206-bea9-32a7a88016f1",
   "metadata": {},
   "source": [
    "range(start,stop,stop)\n"
   ]
  },
  {
   "cell_type": "code",
   "execution_count": 4,
   "id": "bcd2ae6e-b5f3-41b1-9e10-47bd3cfad80b",
   "metadata": {},
   "outputs": [
    {
     "name": "stdout",
     "output_type": "stream",
     "text": [
      "0\n",
      "1\n",
      "2\n",
      "3\n",
      "4\n"
     ]
    }
   ],
   "source": [
    "b=range(5)\n",
    "for i in b:\n",
    "    print(i)"
   ]
  },
  {
   "cell_type": "markdown",
   "id": "99d308c0-a892-4b03-8874-2a510ea5a6aa",
   "metadata": {},
   "source": [
    "range(start,stop,step)"
   ]
  },
  {
   "cell_type": "code",
   "execution_count": 5,
   "id": "decbb922-b3b3-4403-b07f-97190cfd52bd",
   "metadata": {},
   "outputs": [
    {
     "name": "stdout",
     "output_type": "stream",
     "text": [
      "0\n",
      "1\n",
      "2\n",
      "3\n",
      "4\n",
      "5\n",
      "6\n"
     ]
    }
   ],
   "source": [
    "y=range(7)\n",
    "for i in y:\n",
    "    print(i)"
   ]
  },
  {
   "cell_type": "code",
   "execution_count": 6,
   "id": "dc1f1c1b-3649-4489-8ce7-7846b98674de",
   "metadata": {},
   "outputs": [
    {
     "name": "stdout",
     "output_type": "stream",
     "text": [
      "1\n",
      "2\n",
      "3\n",
      "4\n",
      "5\n"
     ]
    }
   ],
   "source": [
    "y=range(1,6)\n",
    "for i in y:\n",
    "    print(i)"
   ]
  },
  {
   "cell_type": "code",
   "execution_count": 7,
   "id": "4d0640ec-22e5-4169-863f-57a4b5c6cbca",
   "metadata": {},
   "outputs": [
    {
     "name": "stdout",
     "output_type": "stream",
     "text": [
      "1\n",
      "3\n",
      "5\n"
     ]
    }
   ],
   "source": [
    "y=range(1,6,2)   #12345\n",
    "for i in y:\n",
    "    print(i)"
   ]
  },
  {
   "cell_type": "code",
   "execution_count": 8,
   "id": "7a053ed2-571d-4b05-a7cb-4158be35bcdf",
   "metadata": {},
   "outputs": [],
   "source": [
    "x=range(-10)\n",
    "for i in x:\n",
    "    print(i)"
   ]
  },
  {
   "cell_type": "markdown",
   "id": "37efe3b1-d746-4a08-b361-e20f921dd8fa",
   "metadata": {},
   "source": [
    "# range start form o go left to right "
   ]
  },
  {
   "cell_type": "code",
   "execution_count": 9,
   "id": "d3ad62d4-f7a3-4979-9dbc-605da002a191",
   "metadata": {},
   "outputs": [
    {
     "data": {
      "text/plain": [
       "[]"
      ]
     },
     "execution_count": 9,
     "metadata": {},
     "output_type": "execute_result"
    }
   ],
   "source": [
    "a=range(10,1)\n",
    "list(a)"
   ]
  },
  {
   "cell_type": "code",
   "execution_count": 10,
   "id": "b474d0aa-7145-4bc9-9366-7aba96996284",
   "metadata": {},
   "outputs": [
    {
     "data": {
      "text/plain": [
       "[-10, -9, -8, -7, -6, -5, -4, -3, -2, -1, 0, 1, 2]"
      ]
     },
     "execution_count": 10,
     "metadata": {},
     "output_type": "execute_result"
    }
   ],
   "source": [
    "b=range(-10,3)\n",
    "list(b)"
   ]
  },
  {
   "cell_type": "code",
   "execution_count": 11,
   "id": "f67e8eb7-a251-4e51-a672-a34aac97a73c",
   "metadata": {},
   "outputs": [
    {
     "data": {
      "text/plain": [
       "[-10, -9, -8, -7, -6, -5, -4]"
      ]
     },
     "execution_count": 11,
     "metadata": {},
     "output_type": "execute_result"
    }
   ],
   "source": [
    "c=range(-10,-3)\n",
    "list(c)"
   ]
  },
  {
   "cell_type": "code",
   "execution_count": 12,
   "id": "e5ba7f0c-8f06-4eff-8339-a4adfcf38bd7",
   "metadata": {},
   "outputs": [
    {
     "data": {
      "text/plain": [
       "[7, 5, 3]"
      ]
     },
     "execution_count": 12,
     "metadata": {},
     "output_type": "execute_result"
    }
   ],
   "source": [
    "a=range(7,1,-2)\n",
    "list(a)"
   ]
  },
  {
   "cell_type": "code",
   "execution_count": 13,
   "id": "85f66330-4733-48c7-b8c7-2bacf4764b15",
   "metadata": {},
   "outputs": [
    {
     "data": {
      "text/plain": [
       "[5]"
      ]
     },
     "execution_count": 13,
     "metadata": {},
     "output_type": "execute_result"
    }
   ],
   "source": [
    "n=range(5,10,20)\n",
    "list(n)"
   ]
  },
  {
   "cell_type": "code",
   "execution_count": 14,
   "id": "dd2b270f-d860-4200-a4e0-04bf7606702f",
   "metadata": {},
   "outputs": [
    {
     "ename": "TypeError",
     "evalue": "'float' object cannot be interpreted as an integer",
     "output_type": "error",
     "traceback": [
      "\u001b[1;31m---------------------------------------------------------------------------\u001b[0m",
      "\u001b[1;31mTypeError\u001b[0m                                 Traceback (most recent call last)",
      "Cell \u001b[1;32mIn[14], line 1\u001b[0m\n\u001b[1;32m----> 1\u001b[0m k\u001b[38;5;241m=\u001b[39m\u001b[38;5;28;43mrange\u001b[39;49m\u001b[43m(\u001b[49m\u001b[38;5;241;43m2\u001b[39;49m\u001b[43m,\u001b[49m\u001b[38;5;241;43m10\u001b[39;49m\u001b[43m,\u001b[49m\u001b[38;5;241;43m1.5\u001b[39;49m\u001b[43m)\u001b[49m\n",
      "\u001b[1;31mTypeError\u001b[0m: 'float' object cannot be interpreted as an integer"
     ]
    }
   ],
   "source": [
    "k=range(2,10,1.5)"
   ]
  },
  {
   "cell_type": "code",
   "execution_count": null,
   "id": "40279809-f771-4335-aa43-e3bb855df811",
   "metadata": {},
   "outputs": [],
   "source": []
  }
 ],
 "metadata": {
  "kernelspec": {
   "display_name": "Python 3 (ipykernel)",
   "language": "python",
   "name": "python3"
  },
  "language_info": {
   "codemirror_mode": {
    "name": "ipython",
    "version": 3
   },
   "file_extension": ".py",
   "mimetype": "text/x-python",
   "name": "python",
   "nbconvert_exporter": "python",
   "pygments_lexer": "ipython3",
   "version": "3.12.4"
  }
 },
 "nbformat": 4,
 "nbformat_minor": 5
}
