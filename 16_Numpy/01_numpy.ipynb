{
 "cells": [
  {
   "cell_type": "markdown",
   "id": "75940265-8b98-4f65-b300-5a1fd22830a8",
   "metadata": {},
   "source": [
    "## numpy"
   ]
  },
  {
   "cell_type": "code",
   "execution_count": 3,
   "id": "e2db7db8-a41f-4c93-b90c-56bcba4a6c0b",
   "metadata": {},
   "outputs": [],
   "source": [
    "import numpy as np"
   ]
  },
  {
   "cell_type": "code",
   "execution_count": 26,
   "id": "7f235794-1a5f-4e62-8c8d-ccbad81dd9e5",
   "metadata": {},
   "outputs": [],
   "source": [
    "## python \n",
    "# 1.list\n",
    "# 2.tuple\n",
    "# 3.set\n",
    "# 4.dict\n",
    "# 5.string"
   ]
  },
  {
   "cell_type": "code",
   "execution_count": null,
   "id": "c2ca2eaa-5ae3-4899-83ab-e61002d6192f",
   "metadata": {},
   "outputs": [],
   "source": [
    "numpy--->>> array"
   ]
  },
  {
   "cell_type": "code",
   "execution_count": null,
   "id": "c821a62f-c5ba-4e93-b837-08d89fe52550",
   "metadata": {},
   "outputs": [],
   "source": [
    "np.array([1,2,3,4,5])"
   ]
  },
  {
   "cell_type": "code",
   "execution_count": 5,
   "id": "ffb844ea-5124-4b7a-bae2-509fa14f83ec",
   "metadata": {},
   "outputs": [
    {
     "data": {
      "text/plain": [
       "array({1, 2, 3, 4, 5}, dtype=object)"
      ]
     },
     "execution_count": 5,
     "metadata": {},
     "output_type": "execute_result"
    }
   ],
   "source": [
    "np.array({1,2,3,4,5})"
   ]
  },
  {
   "cell_type": "code",
   "execution_count": 6,
   "id": "af8bae3a-54b3-4a0b-bf8c-833fe9656ca2",
   "metadata": {},
   "outputs": [
    {
     "data": {
      "text/plain": [
       "array([[1, 2, 3, 4],\n",
       "       [6, 7, 8, 9]])"
      ]
     },
     "execution_count": 6,
     "metadata": {},
     "output_type": "execute_result"
    }
   ],
   "source": [
    "np.array(([1,2,3,4],[6,7,8,9])) ## 2D mean it combination of rows and columns"
   ]
  },
  {
   "cell_type": "code",
   "execution_count": 8,
   "id": "f35f0256-8389-43fc-8576-589da528ea5a",
   "metadata": {},
   "outputs": [
    {
     "data": {
      "text/plain": [
       "array([[[1, 2],\n",
       "        [3, 4]],\n",
       "\n",
       "       [[5, 6],\n",
       "        [7, 8]]])"
      ]
     },
     "execution_count": 8,
     "metadata": {},
     "output_type": "execute_result"
    }
   ],
   "source": [
    "np.array([[[1,2],[3,4]],[[5,6],[7,8]]])"
   ]
  },
  {
   "cell_type": "markdown",
   "id": "d9edf63b-1315-4964-82d7-d61de93ab190",
   "metadata": {},
   "source": [
    "## random number genration with nu py"
   ]
  },
  {
   "cell_type": "code",
   "execution_count": 10,
   "id": "22da9637-c3dc-43ac-8304-7a4f573e9d29",
   "metadata": {},
   "outputs": [
    {
     "data": {
      "text/plain": [
       "array([0.57812498, 0.05506962, 0.55482791, 0.7917125 , 0.60302614])"
      ]
     },
     "execution_count": 10,
     "metadata": {},
     "output_type": "execute_result"
    }
   ],
   "source": [
    "# get a 1D array with random number\n",
    "np.random.rand(5)"
   ]
  },
  {
   "cell_type": "code",
   "execution_count": 13,
   "id": "db18e4ed-1a78-4d05-9c6f-dadc5705f43c",
   "metadata": {},
   "outputs": [
    {
     "data": {
      "text/plain": [
       "array([[0.76753593, 0.64650406, 0.15370301],\n",
       "       [0.69920292, 0.14438751, 0.69945085]])"
      ]
     },
     "execution_count": 13,
     "metadata": {},
     "output_type": "execute_result"
    }
   ],
   "source": [
    "# get 2D array (row,columns)\n",
    "np.random.rand(2,3)"
   ]
  },
  {
   "cell_type": "code",
   "execution_count": 15,
   "id": "cd838d8f-f96e-4b64-946b-7731761d5f60",
   "metadata": {},
   "outputs": [
    {
     "data": {
      "text/plain": [
       "array([-1.99813569,  0.13954363,  0.37538638, -0.6595789 ,  0.09138194])"
      ]
     },
     "execution_count": 15,
     "metadata": {},
     "output_type": "execute_result"
    }
   ],
   "source": [
    "# it is generate random number the nuber will be normally distributed\n",
    "np.random.randn(5)"
   ]
  },
  {
   "cell_type": "code",
   "execution_count": 16,
   "id": "f349261a-3cf8-4f30-8dfa-42095171f4d7",
   "metadata": {},
   "outputs": [],
   "source": [
    "import seaborn as sns"
   ]
  },
  {
   "cell_type": "code",
   "execution_count": 17,
   "id": "98f877ba-4190-4fd4-9102-4284eaa0f97a",
   "metadata": {},
   "outputs": [
    {
     "data": {
      "text/plain": [
       "<seaborn.axisgrid.FacetGrid at 0x23429322600>"
      ]
     },
     "execution_count": 17,
     "metadata": {},
     "output_type": "execute_result"
    },
    {
     "data": {
      "image/png": "[encoded data removed]",
      "text/plain": [
       "<Figure size 500x500 with 1 Axes>"
      ]
     },
     "metadata": {},
     "output_type": "display_data"
    }
   ],
   "source": [
    "sns.displot(np.random.randn(500))"
   ]
  },
  {
   "cell_type": "code",
   "execution_count": 20,
   "id": "122707a6-4a9d-41b9-b1aa-54ad08e93d92",
   "metadata": {},
   "outputs": [
    {
     "data": {
      "text/plain": [
       "array([[-0.5345417 ],\n",
       "       [ 0.19194441]])"
      ]
     },
     "execution_count": 20,
     "metadata": {},
     "output_type": "execute_result"
    }
   ],
   "source": [
    "np.random.randn(2,1)"
   ]
  },
  {
   "cell_type": "code",
   "execution_count": 24,
   "id": "04eb9124-a618-400f-97da-c856e24d6cf2",
   "metadata": {},
   "outputs": [
    {
     "data": {
      "text/plain": [
       "array([79, 54, 17, 28,  5,  4,  8, 18, 38, 22, 21, 25, 29, 27, 89, 48, 34,\n",
       "       81,  4,  8, 94, 63, 66,  9, 66, 82,  5, 68, 18, 51, 25, 58, 29, 91,\n",
       "       47,  2, 56, 65, 83, 87, 19, 27, 19, 95, 26, 43, 46, 57, 86, 71, 37,\n",
       "       25, 99, 49, 54, 95, 76, 35, 46, 73, 66, 51, 51, 11, 76, 80, 98, 26,\n",
       "       48, 46, 61, 80, 85, 22, 97, 46, 63, 87,  7, 70, 83, 23, 29, 84, 88,\n",
       "       15, 42, 51, 78, 49, 68, 27, 25,  9, 28, 87, 34, 18, 62,  2, 39, 81,\n",
       "       31, 67, 93, 68, 56, 14, 81, 32, 61,  1, 18, 60, 50, 44, 76, 70,  1,\n",
       "       77, 49, 32, 99, 82, 76, 22, 70, 99, 55, 97, 77, 26, 45, 31, 92, 10,\n",
       "       66,  2, 68, 62, 53, 89, 18, 37, 72, 67,  7, 43, 96, 59])"
      ]
     },
     "execution_count": 24,
     "metadata": {},
     "output_type": "execute_result"
    }
   ],
   "source": [
    "np.random.randint(1,100,size=150)"
   ]
  },
  {
   "cell_type": "code",
   "execution_count": 25,
   "id": "aed10ce6-1a11-4012-8049-0fe70fd86759",
   "metadata": {},
   "outputs": [
    {
     "data": {
      "text/plain": [
       "array([20, 21, 22, 23, 24, 25, 26, 27, 28, 29, 30, 31, 32, 33, 34, 35, 36,\n",
       "       37, 38, 39])"
      ]
     },
     "execution_count": 25,
     "metadata": {},
     "output_type": "execute_result"
    }
   ],
   "source": [
    "np.arange(20,40)"
   ]
  },
  {
   "cell_type": "code",
   "execution_count": 32,
   "id": "9db378f8-7f8c-43fc-ab52-40023051f1ce",
   "metadata": {},
   "outputs": [
    {
     "data": {
      "text/plain": [
       "array([2, 4, 3])"
      ]
     },
     "execution_count": 32,
     "metadata": {},
     "output_type": "execute_result"
    }
   ],
   "source": [
    "data=np.array([1,2,3,4,5])\n",
    "np.random.choice(data,size=3)"
   ]
  },
  {
   "cell_type": "code",
   "execution_count": 33,
   "id": "ae11fd79-8dcb-442a-b875-c183785a9015",
   "metadata": {},
   "outputs": [],
   "source": [
    "population=np.arange(1,100)"
   ]
  },
  {
   "cell_type": "code",
   "execution_count": 36,
   "id": "22e2a35f-bd9e-4ed6-8df8-6f9ae339fe2f",
   "metadata": {},
   "outputs": [],
   "source": [
    "sample=np.random.choice(population,size=50)"
   ]
  },
  {
   "cell_type": "code",
   "execution_count": 37,
   "id": "4ff3bf2d-973d-4978-be5d-da4944990144",
   "metadata": {},
   "outputs": [
    {
     "data": {
      "text/plain": [
       "array([18, 70, 75, 75, 98, 90, 13, 96, 76, 45, 28, 47,  1, 70, 76, 13, 83,\n",
       "       71, 62, 57, 90, 75, 84, 27, 80, 50, 10, 83, 99, 87, 16, 23, 38, 44,\n",
       "       36, 73,  9, 99, 56, 49,  3, 54, 92, 14, 27, 18, 80, 20, 11, 76])"
      ]
     },
     "execution_count": 37,
     "metadata": {},
     "output_type": "execute_result"
    }
   ],
   "source": [
    "sample"
   ]
  },
  {
   "cell_type": "code",
   "execution_count": null,
   "id": "d701d83a-024a-4b03-9c5b-a7f360ed355f",
   "metadata": {},
   "outputs": [],
   "source": [
    "1.how to create array\n",
    "2.how to generate array using random\n",
    "3.how to create some important array"
   ]
  },
  {
   "cell_type": "code",
   "execution_count": 38,
   "id": "6808cb90-ac2e-4e1f-8dda-ee79834fc73a",
   "metadata": {},
   "outputs": [
    {
     "data": {
      "text/plain": [
       "array([[0.57027778, 0.33722222],\n",
       "       [0.57027778, 4.8       ],\n",
       "       [4.77763573, 0.33722222]])"
      ]
     },
     "execution_count": 38,
     "metadata": {},
     "output_type": "execute_result"
    }
   ],
   "source": [
    "np.empty((3,2))"
   ]
  },
  {
   "cell_type": "code",
   "execution_count": 40,
   "id": "1367891b-25c9-4042-9825-3e38cad0145f",
   "metadata": {},
   "outputs": [
    {
     "data": {
      "text/plain": [
       "array([[0.57027778, 0.33722222],\n",
       "       [0.57027778, 4.8       ],\n",
       "       [4.77763573, 0.33722222]])"
      ]
     },
     "execution_count": 40,
     "metadata": {},
     "output_type": "execute_result"
    }
   ],
   "source": [
    "np.empty((3,2),dtype=float)"
   ]
  },
  {
   "cell_type": "code",
   "execution_count": null,
   "id": "c852e7d9-3b9a-49c3-86f0-4a673db1b12a",
   "metadata": {},
   "outputs": [],
   "source": [
    "zeros,ones"
   ]
  },
  {
   "cell_type": "code",
   "execution_count": 42,
   "id": "38bb4670-f0a2-47eb-97e9-d99d3ec13931",
   "metadata": {},
   "outputs": [
    {
     "data": {
      "text/plain": [
       "array([[0., 0.],\n",
       "       [0., 0.]])"
      ]
     },
     "execution_count": 42,
     "metadata": {},
     "output_type": "execute_result"
    }
   ],
   "source": [
    "np.zeros((2,2))"
   ]
  },
  {
   "cell_type": "code",
   "execution_count": 43,
   "id": "01ec369a-790e-4599-9cee-dcd225ac4cd7",
   "metadata": {},
   "outputs": [
    {
     "data": {
      "text/plain": [
       "array([[1., 1.],\n",
       "       [1., 1.]])"
      ]
     },
     "execution_count": 43,
     "metadata": {},
     "output_type": "execute_result"
    }
   ],
   "source": [
    "np.ones((2,2))"
   ]
  },
  {
   "cell_type": "code",
   "execution_count": 45,
   "id": "00fd724e-28ed-4920-b5eb-67312c5aa732",
   "metadata": {},
   "outputs": [
    {
     "data": {
      "text/plain": [
       "array([[10, 10, 10, 10, 10, 10],\n",
       "       [10, 10, 10, 10, 10, 10],\n",
       "       [10, 10, 10, 10, 10, 10],\n",
       "       [10, 10, 10, 10, 10, 10],\n",
       "       [10, 10, 10, 10, 10, 10]])"
      ]
     },
     "execution_count": 45,
     "metadata": {},
     "output_type": "execute_result"
    }
   ],
   "source": [
    "np.full((5,6),fill_value=10) # for spicific value"
   ]
  },
  {
   "cell_type": "code",
   "execution_count": null,
   "id": "700c2c03-8de2-4ce8-94bc-5b33e30278dc",
   "metadata": {},
   "outputs": [],
   "source": [
    "np.empty(())"
   ]
  }
 ],
 "metadata": {
  "kernelspec": {
   "display_name": "Python 3 (ipykernel)",
   "language": "python",
   "name": "python3"
  },
  "language_info": {
   "codemirror_mode": {
    "name": "ipython",
    "version": 3
   },
   "file_extension": ".py",
   "mimetype": "text/x-python",
   "name": "python",
   "nbconvert_exporter": "python",
   "pygments_lexer": "ipython3",
   "version": "3.12.4"
  }
 },
 "nbformat": 4,
 "nbformat_minor": 5
}
