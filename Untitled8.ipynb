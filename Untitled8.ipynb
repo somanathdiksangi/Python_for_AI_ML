{
 "cells": [
  {
   "cell_type": "code",
   "execution_count": null,
   "id": "9068ebdf-4303-49cf-b89c-0cebb84448e6",
   "metadata": {},
   "outputs": [],
   "source": []
  }
 ],
 "metadata": {
  "kernelspec": {
   "display_name": "",
   "name": ""
  },
  "language_info": {
   "name": ""
  }
 },
 "nbformat": 4,
 "nbformat_minor": 5
}
