{
 "cells": [
  {
   "cell_type": "markdown",
   "id": "7a5be824-4f15-4b15-a5e8-03cbba987b15",
   "metadata": {},
   "source": [
    "## exception_handling"
   ]
  },
  {
   "cell_type": "code",
   "execution_count": 1,
   "id": "84b70d1d-be0c-4168-ba89-680ba934a924",
   "metadata": {},
   "outputs": [
    {
     "name": "stdin",
     "output_type": "stream",
     "text": [
      "enter first number  5\n",
      "second first number  9\n"
     ]
    },
    {
     "name": "stdout",
     "output_type": "stream",
     "text": [
      "div is 0.5555555555555556\n",
      "sum id  14\n"
     ]
    }
   ],
   "source": [
    "a=int(input(\"enter first number \"))\n",
    "b=int(input(\"second first number \"))\n",
    "c=a/b\n",
    "print(\"div is\",c)\n",
    "d=a+b\n",
    "print(\"sum id \",d)\n",
    "\n"
   ]
  },
  {
   "cell_type": "markdown",
   "id": "6b0bbb3e-75b9-4ea2-a484-e63f8691687e",
   "metadata": {},
   "source": [
    "## SyntaxError"
   ]
  },
  {
   "cell_type": "code",
   "execution_count": 6,
   "id": "ead4fc30-c72c-4230-a897-817e2f54a930",
   "metadata": {},
   "outputs": [
    {
     "ename": "SyntaxError",
     "evalue": "'(' was never closed (3517555120.py, line 1)",
     "output_type": "error",
     "traceback": [
      "\u001b[1;36m  Cell \u001b[1;32mIn[6], line 1\u001b[1;36m\u001b[0m\n\u001b[1;33m    a=int(input(\"enter first number \")\u001b[0m\n\u001b[1;37m         ^\u001b[0m\n\u001b[1;31mSyntaxError\u001b[0m\u001b[1;31m:\u001b[0m '(' was never closed\n"
     ]
    }
   ],
   "source": [
    "a=int(input(\"enter first number \")\n",
    "b=int(input(\"second first number \"))\n",
    "c=a/b\n",
    "print(\"div is\",c)\n",
    "d=a+b\n",
    "print(\"sum id \",d)"
   ]
  },
  {
   "cell_type": "markdown",
   "id": "03e49aae-f0d7-45ee-b7ac-dd32eb6113fe",
   "metadata": {},
   "source": [
    "## run time error"
   ]
  },
  {
   "cell_type": "code",
   "execution_count": 8,
   "id": "f330953b-d199-4ada-9f77-ffb26ead2fea",
   "metadata": {},
   "outputs": [
    {
     "name": "stdin",
     "output_type": "stream",
     "text": [
      "enter first number  5\n",
      "second first number  5\n"
     ]
    },
    {
     "ename": "NameError",
     "evalue": "name 'ab' is not defined",
     "output_type": "error",
     "traceback": [
      "\u001b[1;31m---------------------------------------------------------------------------\u001b[0m",
      "\u001b[1;31mNameError\u001b[0m                                 Traceback (most recent call last)",
      "Cell \u001b[1;32mIn[8], line 3\u001b[0m\n\u001b[0;32m      1\u001b[0m a\u001b[38;5;241m=\u001b[39m\u001b[38;5;28mint\u001b[39m(\u001b[38;5;28minput\u001b[39m(\u001b[38;5;124m\"\u001b[39m\u001b[38;5;124menter first number \u001b[39m\u001b[38;5;124m\"\u001b[39m))\n\u001b[0;32m      2\u001b[0m b\u001b[38;5;241m=\u001b[39m\u001b[38;5;28mint\u001b[39m(\u001b[38;5;28minput\u001b[39m(\u001b[38;5;124m\"\u001b[39m\u001b[38;5;124msecond first number \u001b[39m\u001b[38;5;124m\"\u001b[39m))\n\u001b[1;32m----> 3\u001b[0m c\u001b[38;5;241m=\u001b[39m\u001b[43mab\u001b[49m\n\u001b[0;32m      4\u001b[0m \u001b[38;5;28mprint\u001b[39m(\u001b[38;5;124m\"\u001b[39m\u001b[38;5;124mdiv is\u001b[39m\u001b[38;5;124m\"\u001b[39m,c)\n\u001b[0;32m      5\u001b[0m d\u001b[38;5;241m=\u001b[39ma\u001b[38;5;241m+\u001b[39mb\n",
      "\u001b[1;31mNameError\u001b[0m: name 'ab' is not defined"
     ]
    }
   ],
   "source": [
    "a=int(input(\"enter first number \"))\n",
    "b=int(input(\"second first number \"))\n",
    "c=ab\n",
    "print(\"div is\",c)\n",
    "d=a+b\n",
    "print(\"sum id \",d)"
   ]
  },
  {
   "cell_type": "code",
   "execution_count": 10,
   "id": "5d44492d-cc1f-4546-9045-def26e6baad2",
   "metadata": {},
   "outputs": [
    {
     "name": "stdin",
     "output_type": "stream",
     "text": [
      "enter first number  9\n",
      "second first number  0\n"
     ]
    },
    {
     "ename": "ZeroDivisionError",
     "evalue": "division by zero",
     "output_type": "error",
     "traceback": [
      "\u001b[1;31m---------------------------------------------------------------------------\u001b[0m",
      "\u001b[1;31mZeroDivisionError\u001b[0m                         Traceback (most recent call last)",
      "Cell \u001b[1;32mIn[10], line 3\u001b[0m\n\u001b[0;32m      1\u001b[0m a\u001b[38;5;241m=\u001b[39m\u001b[38;5;28mint\u001b[39m(\u001b[38;5;28minput\u001b[39m(\u001b[38;5;124m\"\u001b[39m\u001b[38;5;124menter first number \u001b[39m\u001b[38;5;124m\"\u001b[39m))\n\u001b[0;32m      2\u001b[0m b\u001b[38;5;241m=\u001b[39m\u001b[38;5;28mint\u001b[39m(\u001b[38;5;28minput\u001b[39m(\u001b[38;5;124m\"\u001b[39m\u001b[38;5;124msecond first number \u001b[39m\u001b[38;5;124m\"\u001b[39m))\n\u001b[1;32m----> 3\u001b[0m c\u001b[38;5;241m=\u001b[39m\u001b[43ma\u001b[49m\u001b[38;5;241;43m/\u001b[39;49m\u001b[43mb\u001b[49m\n\u001b[0;32m      4\u001b[0m \u001b[38;5;28mprint\u001b[39m(\u001b[38;5;124m\"\u001b[39m\u001b[38;5;124mdiv is\u001b[39m\u001b[38;5;124m\"\u001b[39m,c)\n\u001b[0;32m      5\u001b[0m d\u001b[38;5;241m=\u001b[39ma\u001b[38;5;241m+\u001b[39mb\n",
      "\u001b[1;31mZeroDivisionError\u001b[0m: division by zero"
     ]
    }
   ],
   "source": [
    "a=int(input(\"enter first number \"))\n",
    "b=int(input(\"second first number \"))\n",
    "c=a/b\n",
    "print(\"div is\",c)\n",
    "d=a+b\n",
    "print(\"sum id \",d)"
   ]
  },
  {
   "cell_type": "code",
   "execution_count": 12,
   "id": "5b7f42aa-1d44-4c66-b4ef-1ee23503cb07",
   "metadata": {},
   "outputs": [
    {
     "name": "stdin",
     "output_type": "stream",
     "text": [
      "enter first number  5\n",
      "second first number  2v\n"
     ]
    },
    {
     "ename": "ValueError",
     "evalue": "invalid literal for int() with base 10: '2v'",
     "output_type": "error",
     "traceback": [
      "\u001b[1;31m---------------------------------------------------------------------------\u001b[0m",
      "\u001b[1;31mValueError\u001b[0m                                Traceback (most recent call last)",
      "Cell \u001b[1;32mIn[12], line 2\u001b[0m\n\u001b[0;32m      1\u001b[0m a\u001b[38;5;241m=\u001b[39m\u001b[38;5;28mint\u001b[39m(\u001b[38;5;28minput\u001b[39m(\u001b[38;5;124m\"\u001b[39m\u001b[38;5;124menter first number \u001b[39m\u001b[38;5;124m\"\u001b[39m))\n\u001b[1;32m----> 2\u001b[0m b\u001b[38;5;241m=\u001b[39m\u001b[38;5;28;43mint\u001b[39;49m\u001b[43m(\u001b[49m\u001b[38;5;28;43minput\u001b[39;49m\u001b[43m(\u001b[49m\u001b[38;5;124;43m\"\u001b[39;49m\u001b[38;5;124;43msecond first number \u001b[39;49m\u001b[38;5;124;43m\"\u001b[39;49m\u001b[43m)\u001b[49m\u001b[43m)\u001b[49m\n\u001b[0;32m      3\u001b[0m c\u001b[38;5;241m=\u001b[39ma\u001b[38;5;241m/\u001b[39mb\n\u001b[0;32m      4\u001b[0m \u001b[38;5;28mprint\u001b[39m(\u001b[38;5;124m\"\u001b[39m\u001b[38;5;124mdiv is\u001b[39m\u001b[38;5;124m\"\u001b[39m,c)\n",
      "\u001b[1;31mValueError\u001b[0m: invalid literal for int() with base 10: '2v'"
     ]
    }
   ],
   "source": [
    "a=int(input(\"enter first number \"))\n",
    "b=int(input(\"second first number \"))\n",
    "c=a/b\n",
    "print(\"div is\",c)\n",
    "d=a+b\n",
    "print(\"sum id \",d)\n",
    "\n"
   ]
  },
  {
   "cell_type": "code",
   "execution_count": 13,
   "id": "4cf4b719-96d1-4134-a5ae-845780f5c05a",
   "metadata": {},
   "outputs": [
    {
     "name": "stdin",
     "output_type": "stream",
     "text": [
      "enter first number  10\n",
      "second first number  0\n"
     ]
    },
    {
     "ename": "ZeroDivisionError",
     "evalue": "division by zero",
     "output_type": "error",
     "traceback": [
      "\u001b[1;31m---------------------------------------------------------------------------\u001b[0m",
      "\u001b[1;31mZeroDivisionError\u001b[0m                         Traceback (most recent call last)",
      "Cell \u001b[1;32mIn[13], line 3\u001b[0m\n\u001b[0;32m      1\u001b[0m a\u001b[38;5;241m=\u001b[39m\u001b[38;5;28mint\u001b[39m(\u001b[38;5;28minput\u001b[39m(\u001b[38;5;124m\"\u001b[39m\u001b[38;5;124menter first number \u001b[39m\u001b[38;5;124m\"\u001b[39m))\n\u001b[0;32m      2\u001b[0m b\u001b[38;5;241m=\u001b[39m\u001b[38;5;28mint\u001b[39m(\u001b[38;5;28minput\u001b[39m(\u001b[38;5;124m\"\u001b[39m\u001b[38;5;124msecond first number \u001b[39m\u001b[38;5;124m\"\u001b[39m))\n\u001b[1;32m----> 3\u001b[0m c\u001b[38;5;241m=\u001b[39m\u001b[43ma\u001b[49m\u001b[38;5;241;43m/\u001b[39;49m\u001b[43mb\u001b[49m\n\u001b[0;32m      4\u001b[0m \u001b[38;5;28mprint\u001b[39m(\u001b[38;5;124m\"\u001b[39m\u001b[38;5;124mdiv is\u001b[39m\u001b[38;5;124m\"\u001b[39m,c)\n\u001b[0;32m      5\u001b[0m d\u001b[38;5;241m=\u001b[39ma\u001b[38;5;241m+\u001b[39mb\n",
      "\u001b[1;31mZeroDivisionError\u001b[0m: division by zero"
     ]
    }
   ],
   "source": [
    "a=int(input(\"enter first number \"))\n",
    "b=int(input(\"second first number \"))\n",
    "c=a/b\n",
    "print(\"div is\",c)\n",
    "d=a+b\n",
    "print(\"sum id \",d)"
   ]
  },
  {
   "cell_type": "markdown",
   "id": "78b96b23-d2dd-4b82-8ecd-a7a55cddaf34",
   "metadata": {},
   "source": [
    "## try\n",
    "##  except\n",
    "##  else\n",
    "## raise\n",
    "## finally"
   ]
  },
  {
   "cell_type": "code",
   "execution_count": 21,
   "id": "4a1c31f2-8cb6-4a46-a904-aadfdd322333",
   "metadata": {},
   "outputs": [
    {
     "name": "stdin",
     "output_type": "stream",
     "text": [
      "enter first number  5\n",
      "second first number  85\n"
     ]
    },
    {
     "name": "stdout",
     "output_type": "stream",
     "text": [
      "div is 0.058823529411764705\n",
      "sum id  90\n"
     ]
    }
   ],
   "source": [
    "try:\n",
    "    a=int(input(\"enter first number \"))\n",
    "    b=int(input(\"second first number \"))\n",
    "    c=a/b\n",
    "    print(\"div is\",c)\n",
    "    d=a+b\n",
    "    print(\"sum id \",d)\n",
    "except:\n",
    "    print(\"b shoud not be zero\")\n"
   ]
  },
  {
   "cell_type": "code",
   "execution_count": 23,
   "id": "79200c3c-38e8-4cb4-91f5-6182d42641f3",
   "metadata": {},
   "outputs": [
    {
     "name": "stdin",
     "output_type": "stream",
     "text": [
      "enter first number  5\n",
      "second first number  0\n"
     ]
    },
    {
     "name": "stdout",
     "output_type": "stream",
     "text": [
      "b should not be zero\n"
     ]
    }
   ],
   "source": [
    "try:\n",
    "    a=int(input(\"enter first number \"))\n",
    "    b=int(input(\"second first number \"))\n",
    "    c=a/b\n",
    "    print(\"div is\",c)\n",
    "    d=a+b\n",
    "    print(\"sum id \",d)\n",
    "except:\n",
    "    print(\"b should not be zero\")\n"
   ]
  },
  {
   "cell_type": "code",
   "execution_count": 24,
   "id": "715f17a4-ffb9-4508-9cca-b637802b94d3",
   "metadata": {},
   "outputs": [
    {
     "name": "stdin",
     "output_type": "stream",
     "text": [
      "enter first number  5\n",
      "second first number  0\n"
     ]
    },
    {
     "name": "stdout",
     "output_type": "stream",
     "text": [
      "b should not be zero\n",
      "sum id  5\n"
     ]
    }
   ],
   "source": [
    "try:\n",
    "    a=int(input(\"enter first number \"))\n",
    "    b=int(input(\"second first number \"))\n",
    "    c=a/b\n",
    "    print(\"div is\",c)\n",
    "    \n",
    "except:\n",
    "    print(\"b should not be zero\")\n",
    "    d=a+b\n",
    "    print(\"sum id \",d)"
   ]
  },
  {
   "cell_type": "code",
   "execution_count": 2,
   "id": "83238630-f150-4c85-9e94-945cf0f70a69",
   "metadata": {},
   "outputs": [
    {
     "name": "stdin",
     "output_type": "stream",
     "text": [
      "enter first number  5\n",
      "second first number  8\n"
     ]
    },
    {
     "name": "stdout",
     "output_type": "stream",
     "text": [
      "div is 0.625\n",
      "sum id  13\n"
     ]
    }
   ],
   "source": [
    "try:\n",
    "    a=int(input(\"enter first number \"))\n",
    "    b=int(input(\"second first number \"))\n",
    "    c=a/b\n",
    "    print(\"div is\",c)\n",
    "    \n",
    "except   :\n",
    "    print(\"b should not be zero\")\n",
    "d=a+b\n",
    "print(\"sum id \",d)"
   ]
  },
  {
   "cell_type": "code",
   "execution_count": 3,
   "id": "796f6c4e-6fdb-4ddb-8bfb-cac0b9e434d6",
   "metadata": {},
   "outputs": [
    {
     "name": "stdin",
     "output_type": "stream",
     "text": [
      "enter first number  5\n",
      "second first number  2a\n"
     ]
    },
    {
     "name": "stdout",
     "output_type": "stream",
     "text": [
      "b should not be integer\n",
      "sum id  13\n"
     ]
    }
   ],
   "source": [
    "try:\n",
    "    a=int(input(\"enter first number \"))\n",
    "    b=int(input(\"second first number \"))\n",
    "    c=a/b\n",
    "    print(\"div is\",c)\n",
    "    \n",
    "except :\n",
    "    print(\"b should not be integer\")\n",
    "d=a+b\n",
    "print(\"sum id \",d)"
   ]
  },
  {
   "cell_type": "code",
   "execution_count": 4,
   "id": "f5085274-d2f5-4b9a-b637-f477f9af8fb9",
   "metadata": {},
   "outputs": [
    {
     "name": "stdin",
     "output_type": "stream",
     "text": [
      "enter first number  5\n",
      "second first number  2a\n"
     ]
    },
    {
     "ename": "ValueError",
     "evalue": "invalid literal for int() with base 10: '2a'",
     "output_type": "error",
     "traceback": [
      "\u001b[1;31m---------------------------------------------------------------------------\u001b[0m",
      "\u001b[1;31mValueError\u001b[0m                                Traceback (most recent call last)",
      "Cell \u001b[1;32mIn[4], line 3\u001b[0m\n\u001b[0;32m      1\u001b[0m \u001b[38;5;28;01mtry\u001b[39;00m:\n\u001b[0;32m      2\u001b[0m     a\u001b[38;5;241m=\u001b[39m\u001b[38;5;28mint\u001b[39m(\u001b[38;5;28minput\u001b[39m(\u001b[38;5;124m\"\u001b[39m\u001b[38;5;124menter first number \u001b[39m\u001b[38;5;124m\"\u001b[39m))\n\u001b[1;32m----> 3\u001b[0m     b\u001b[38;5;241m=\u001b[39m\u001b[38;5;28;43mint\u001b[39;49m\u001b[43m(\u001b[49m\u001b[38;5;28;43minput\u001b[39;49m\u001b[43m(\u001b[49m\u001b[38;5;124;43m\"\u001b[39;49m\u001b[38;5;124;43msecond first number \u001b[39;49m\u001b[38;5;124;43m\"\u001b[39;49m\u001b[43m)\u001b[49m\u001b[43m)\u001b[49m\n\u001b[0;32m      4\u001b[0m     c\u001b[38;5;241m=\u001b[39ma\u001b[38;5;241m/\u001b[39mb\n\u001b[0;32m      5\u001b[0m     \u001b[38;5;28mprint\u001b[39m(\u001b[38;5;124m\"\u001b[39m\u001b[38;5;124mdiv is\u001b[39m\u001b[38;5;124m\"\u001b[39m,c)\n",
      "\u001b[1;31mValueError\u001b[0m: invalid literal for int() with base 10: '2a'"
     ]
    }
   ],
   "source": [
    "try:\n",
    "    a=int(input(\"enter first number \"))\n",
    "    b=int(input(\"second first number \"))\n",
    "    c=a/b\n",
    "    print(\"div is\",c)\n",
    "    \n",
    "\n",
    "\n",
    "d=a+b\n",
    "print(\"sum id \",d)"
   ]
  },
  {
   "cell_type": "code",
   "execution_count": 6,
   "id": "3ead95e3-19d6-4195-baf5-6de22e1e6aef",
   "metadata": {},
   "outputs": [
    {
     "name": "stdin",
     "output_type": "stream",
     "text": [
      "enter first number  5\n",
      "second first number  2a\n"
     ]
    },
    {
     "name": "stdout",
     "output_type": "stream",
     "text": [
      "b should not be integer\n",
      "sum id  13\n"
     ]
    }
   ],
   "source": [
    "try:\n",
    "    a=int(input(\"enter first number \"))\n",
    "    b=int(input(\"second first number \"))\n",
    "    c=a/b\n",
    "    print(\"div is\",c)\n",
    "    \n",
    "except ValueError:\n",
    "    print(\"b should not be integer\")\n",
    "d=a+b\n",
    "print(\"sum id \",d)"
   ]
  },
  {
   "cell_type": "markdown",
   "id": "7f18d673-19ed-4710-a81c-206c07fdae1e",
   "metadata": {},
   "source": [
    "## b=0 #Zerodivision error\n",
    "## b=2a #ValueError"
   ]
  },
  {
   "cell_type": "code",
   "execution_count": 8,
   "id": "6eb1abfb-e32e-4b3b-9046-cc2e4bc5cb53",
   "metadata": {},
   "outputs": [
    {
     "name": "stdin",
     "output_type": "stream",
     "text": [
      "enter first number  5\n",
      "second first number  0\n"
     ]
    },
    {
     "name": "stdout",
     "output_type": "stream",
     "text": [
      "b should not be zero\n",
      "sum id  5\n"
     ]
    }
   ],
   "source": [
    "try:\n",
    "    a=int(input(\"enter first number \"))\n",
    "    b=int(input(\"second first number \"))\n",
    "    \n",
    "    c=a/b\n",
    "    print(\"div is\",c)\n",
    "    \n",
    "except ValueError:\n",
    "    print(\"b should not be integer\")\n",
    "except ZeroDivisionError:\n",
    "    print(\"b should not be zero\")\n",
    "d=a+b\n",
    "print(\"sum id \",d)"
   ]
  },
  {
   "cell_type": "code",
   "execution_count": 9,
   "id": "61ae969e-d17a-4a7d-83e4-72878ecf2aa2",
   "metadata": {},
   "outputs": [
    {
     "name": "stdin",
     "output_type": "stream",
     "text": [
      "enter first number  5\n",
      "second first number  2a\n"
     ]
    },
    {
     "name": "stdout",
     "output_type": "stream",
     "text": [
      "b should not be integer\n",
      "sum id  5\n"
     ]
    }
   ],
   "source": [
    "try:\n",
    "    a=int(input(\"enter first number \"))\n",
    "    b=int(input(\"second first number \"))\n",
    "    \n",
    "    c=a/b\n",
    "    print(\"div is\",c)\n",
    "    \n",
    "except ValueError:\n",
    "    print(\"b should not be integer\")\n",
    "except ZeroDivisionError:\n",
    "    print(\"b should not be zero\")\n",
    "d=a+b\n",
    "print(\"sum id \",d)"
   ]
  },
  {
   "cell_type": "code",
   "execution_count": 10,
   "id": "e450c3cc-e2c8-48d6-a6a6-3a5be74496bf",
   "metadata": {},
   "outputs": [
    {
     "name": "stdin",
     "output_type": "stream",
     "text": [
      "enter first num 5\n",
      "enter second number 8\n"
     ]
    }
   ],
   "source": [
    "a=int(input(\"enter first num\"))\n",
    "b=int(input(\"enter second number\"))\n",
    "c=a/b"
   ]
  },
  {
   "cell_type": "code",
   "execution_count": 11,
   "id": "88c858c1-acc5-44e4-8c43-11d9501ab8eb",
   "metadata": {},
   "outputs": [
    {
     "name": "stdin",
     "output_type": "stream",
     "text": [
      "enter first number  5\n",
      "second first number  2a\n"
     ]
    },
    {
     "name": "stdout",
     "output_type": "stream",
     "text": [
      "b should not be integer\n"
     ]
    }
   ],
   "source": [
    "try:\n",
    "    a=int(input(\"enter first number \"))\n",
    "    b=int(input(\"second first number \"))\n",
    "    \n",
    "    c=a/b\n",
    "    print(\"div is\",c)\n",
    "    \n",
    "except ValueError:\n",
    "    print(\"b should not be integer\")\n",
    "except ZeroDivisionError:\n",
    "    print(\"b should not be zero\")\n"
   ]
  },
  {
   "cell_type": "code",
   "execution_count": null,
   "id": "dbcd30e0-f337-4362-9ebb-02837b8088d3",
   "metadata": {},
   "outputs": [],
   "source": []
  }
 ],
 "metadata": {
  "kernelspec": {
   "display_name": "Python 3 (ipykernel)",
   "language": "python",
   "name": "python3"
  },
  "language_info": {
   "codemirror_mode": {
    "name": "ipython",
    "version": 3
   },
   "file_extension": ".py",
   "mimetype": "text/x-python",
   "name": "python",
   "nbconvert_exporter": "python",
   "pygments_lexer": "ipython3",
   "version": "3.12.4"
  }
 },
 "nbformat": 4,
 "nbformat_minor": 5
}
