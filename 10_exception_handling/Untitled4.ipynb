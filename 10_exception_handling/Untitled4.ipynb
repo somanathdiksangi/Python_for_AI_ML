{
 "cells": [
  {
   "cell_type": "code",
   "execution_count": 2,
   "id": "5af7db9f-c2ac-4eaa-a5ab-a564ee341730",
   "metadata": {},
   "outputs": [
    {
     "name": "stdin",
     "output_type": "stream",
     "text": [
      "enter first number  5\n",
      "second first number  0\n"
     ]
    },
    {
     "name": "stdout",
     "output_type": "stream",
     "text": [
      "b should not be zero\n"
     ]
    }
   ],
   "source": [
    "try:\n",
    "    a=int(input(\"enter first number \"))\n",
    "    b=int(input(\"second first number \"))\n",
    "    \n",
    "    c=a/b\n",
    "    print(\"div is\",c)\n",
    "    \n",
    "except ValueError:\n",
    "    print(\"b should not be integer\")\n",
    "except ZeroDivisionError:\n",
    "    print(\"b should not be zero\")"
   ]
  },
  {
   "cell_type": "code",
   "execution_count": null,
   "id": "613367bd-e183-4898-81a1-ad11c6f82b6d",
   "metadata": {},
   "outputs": [],
   "source": []
  },
  {
   "cell_type": "code",
   "execution_count": null,
   "id": "392bad4e-ceb1-4a78-8db2-c5f9cf6f23e3",
   "metadata": {},
   "outputs": [],
   "source": []
  }
 ],
 "metadata": {
  "kernelspec": {
   "display_name": "Python 3 (ipykernel)",
   "language": "python",
   "name": "python3"
  },
  "language_info": {
   "codemirror_mode": {
    "name": "ipython",
    "version": 3
   },
   "file_extension": ".py",
   "mimetype": "text/x-python",
   "name": "python",
   "nbconvert_exporter": "python",
   "pygments_lexer": "ipython3",
   "version": "3.12.4"
  }
 },
 "nbformat": 4,
 "nbformat_minor": 5
}
