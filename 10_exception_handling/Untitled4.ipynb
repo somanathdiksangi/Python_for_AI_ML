{
 "cells": [
  {
   "cell_type": "code",
   "execution_count": 2,
   "id": "5af7db9f-c2ac-4eaa-a5ab-a564ee341730",
   "metadata": {},
   "outputs": [
    {
     "name": "stdin",
     "output_type": "stream",
     "text": [
      "enter first number  5\n",
      "second first number  2a\n"
     ]
    },
    {
     "name": "stdout",
     "output_type": "stream",
     "text": [
      "b should not be integer\n"
     ]
    }
   ],
   "source": [
    "try:\n",
    "    a=int(input(\"enter first number \"))\n",
    "    b=int(input(\"second first number \"))\n",
    "    \n",
    "    c=a/b\n",
    "    print(\"div is\",c)\n",
    "    \n",
    "except ValueError:\n",
    "    print(\"b should not be integer\")\n",
    "except ZeroDivisionError:\n",
    "    print(\"b should not be zero\")"
   ]
  },
  {
   "cell_type": "code",
   "execution_count": 3,
   "id": "613367bd-e183-4898-81a1-ad11c6f82b6d",
   "metadata": {},
   "outputs": [
    {
     "ename": "IndentationError",
     "evalue": "expected an indented block after 'try' statement on line 3 (2696284440.py, line 4)",
     "output_type": "error",
     "traceback": [
      "\u001b[1;36m  Cell \u001b[1;32mIn[3], line 4\u001b[1;36m\u001b[0m\n\u001b[1;33m    a=int(input(\"enter first number \"))\u001b[0m\n\u001b[1;37m    ^\u001b[0m\n\u001b[1;31mIndentationError\u001b[0m\u001b[1;31m:\u001b[0m expected an indented block after 'try' statement on line 3\n"
     ]
    }
   ],
   "source": [
    "while True:"
   ]
  },
  {
   "cell_type": "code",
   "execution_count": null,
   "id": "392bad4e-ceb1-4a78-8db2-c5f9cf6f23e3",
   "metadata": {},
   "outputs": [],
   "source": []
  }
 ],
 "metadata": {
  "kernelspec": {
   "display_name": "Python 3 (ipykernel)",
   "language": "python",
   "name": "python3"
  },
  "language_info": {
   "codemirror_mode": {
    "name": "ipython",
    "version": 3
   },
   "file_extension": ".py",
   "mimetype": "text/x-python",
   "name": "python",
   "nbconvert_exporter": "python",
   "pygments_lexer": "ipython3",
   "version": "3.12.4"
  }
 },
 "nbformat": 4,
 "nbformat_minor": 5
}
