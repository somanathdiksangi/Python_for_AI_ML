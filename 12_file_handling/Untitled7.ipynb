{
 "cells": [
  {
   "cell_type": "code",
   "execution_count": null,
   "id": "9a0f0e2c-33af-48d7-a55d-489cb221f0a2",
   "metadata": {},
   "outputs": [],
   "source": [
    "file\n",
    ".txt\n",
    ".csv\n",
    ".tsv\n",
    ".log\n",
    ".parquest\n",
    ".json\n",
    ".dat\n",
    ".avro\n",
    ".xslx\n",
    ".pdf"
   ]
  },
  {
   "cell_type": "code",
   "execution_count": 1,
   "id": "cea7e3f8-caf3-4cd6-9182-c28249079373",
   "metadata": {},
   "outputs": [],
   "source": [
    "# if file is available it open it create a new one\n",
    "file=open(\"example.txt\")"
   ]
  },
  {
   "cell_type": "code",
   "execution_count": 2,
   "id": "7014b0af-181c-4b7c-a8d5-1068f29d5207",
   "metadata": {},
   "outputs": [
    {
     "data": {
      "text/plain": [
       "<_io.TextIOWrapper name='example.txt' mode='r' encoding='cp1252'>"
      ]
     },
     "execution_count": 2,
     "metadata": {},
     "output_type": "execute_result"
    }
   ],
   "source": [
    "file"
   ]
  },
  {
   "cell_type": "code",
   "execution_count": 3,
   "id": "f6b9db4b-bb2f-48c3-8edd-f0247bd0fd2f",
   "metadata": {},
   "outputs": [
    {
     "name": "stdout",
     "output_type": "stream",
     "text": [
      "2025-01-04 23:56:39,164 - root - ERROR - error has happend\n",
      "\n",
      "2025-01-04 23:56:39,165 - root - ERROR -  exception occureddivision by zero\n",
      "\n",
      "Traceback (most recent call last):\n",
      "\n",
      "  File \"C:\\Users\\acer\\AppData\\Local\\Temp\\ipykernel_23800\\1631059953.py\", line 8, in dive\n",
      "\n",
      "    div = a/b\n",
      "\n",
      "          ~^~\n",
      "\n",
      "ZeroDivisionError: division by zero\n",
      "\n",
      "2025-01-04 23:58:32,056 - ipykernel.comm - ERROR - No such comm target registered: jupyter.widget.control\n",
      "\n"
     ]
    }
   ],
   "source": [
    "for i in file:\n",
    "    print(i)"
   ]
  },
  {
   "cell_type": "code",
   "execution_count": null,
   "id": "e6552446-150c-468c-bba6-384f9787073c",
   "metadata": {},
   "outputs": [],
   "source": [
    "file-->>txt file\n",
    "every file having diffrent diffrent modes \n",
    "r = open an exiting file in read mode\n",
    "w = open existing file in write mode or file is not present then it will create a new"
   ]
  }
 ],
 "metadata": {
  "kernelspec": {
   "display_name": "Python 3 (ipykernel)",
   "language": "python",
   "name": "python3"
  },
  "language_info": {
   "codemirror_mode": {
    "name": "ipython",
    "version": 3
   },
   "file_extension": ".py",
   "mimetype": "text/x-python",
   "name": "python",
   "nbconvert_exporter": "python",
   "pygments_lexer": "ipython3",
   "version": "3.12.4"
  }
 },
 "nbformat": 4,
 "nbformat_minor": 5
}
