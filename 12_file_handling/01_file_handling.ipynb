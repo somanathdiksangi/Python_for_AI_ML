{
 "cells": [
  {
   "cell_type": "code",
   "execution_count": null,
   "id": "9a0f0e2c-33af-48d7-a55d-489cb221f0a2",
   "metadata": {},
   "outputs": [],
   "source": [
    "file\n",
    ".txt\n",
    ".csv\n",
    ".tsv\n",
    ".log\n",
    ".parquest\n",
    ".json\n",
    ".dat\n",
    ".avro\n",
    ".xslx\n",
    ".pdf"
   ]
  },
  {
   "cell_type": "code",
   "execution_count": 1,
   "id": "cea7e3f8-caf3-4cd6-9182-c28249079373",
   "metadata": {},
   "outputs": [],
   "source": [
    "# if file is available it open it create a new one\n",
    "file=open(\"example.txt\")"
   ]
  },
  {
   "cell_type": "code",
   "execution_count": 2,
   "id": "7014b0af-181c-4b7c-a8d5-1068f29d5207",
   "metadata": {},
   "outputs": [
    {
     "data": {
      "text/plain": [
       "<_io.TextIOWrapper name='example.txt' mode='r' encoding='cp1252'>"
      ]
     },
     "execution_count": 2,
     "metadata": {},
     "output_type": "execute_result"
    }
   ],
   "source": [
    "file"
   ]
  },
  {
   "cell_type": "code",
   "execution_count": 3,
   "id": "f6b9db4b-bb2f-48c3-8edd-f0247bd0fd2f",
   "metadata": {},
   "outputs": [
    {
     "name": "stdout",
     "output_type": "stream",
     "text": [
      "2025-01-04 23:56:39,164 - root - ERROR - error has happend\n",
      "\n",
      "2025-01-04 23:56:39,165 - root - ERROR -  exception occureddivision by zero\n",
      "\n",
      "Traceback (most recent call last):\n",
      "\n",
      "  File \"C:\\Users\\acer\\AppData\\Local\\Temp\\ipykernel_23800\\1631059953.py\", line 8, in dive\n",
      "\n",
      "    div = a/b\n",
      "\n",
      "          ~^~\n",
      "\n",
      "ZeroDivisionError: division by zero\n",
      "\n",
      "2025-01-04 23:58:32,056 - ipykernel.comm - ERROR - No such comm target registered: jupyter.widget.control\n",
      "\n"
     ]
    }
   ],
   "source": [
    "for i in file:\n",
    "    print(i)"
   ]
  },
  {
   "cell_type": "code",
   "execution_count": null,
   "id": "e6552446-150c-468c-bba6-384f9787073c",
   "metadata": {},
   "outputs": [],
   "source": [
    "file-->>txt file\n",
    "every file having diffrent diffrent modes \n",
    "r = open an exiting file in read mode\n",
    "w = open existing file in write mode or file is not present then it will create a new file \n",
    "a = append the date in exitsing file\n",
    "r+ to read and write into the file the previes date will be overriden \n",
    "w+= to write and read data it ewill overwrite exidting data\n",
    "a+ = to append and read data from the file it wont overwrite the existing data"
   ]
  },
  {
   "cell_type": "code",
   "execution_count": 5,
   "id": "8d4bcdae-6391-4733-8646-10be50287606",
   "metadata": {},
   "outputs": [],
   "source": [
    "file2=open(\"mysecondlog.txt\",mode='w')"
   ]
  },
  {
   "cell_type": "code",
   "execution_count": 11,
   "id": "56c66eb1-53c6-4573-a0f2-ecfc93598f14",
   "metadata": {},
   "outputs": [
    {
     "data": {
      "text/plain": [
       "'hdsv jhvbkskfvb\\nvbdh'"
      ]
     },
     "execution_count": 11,
     "metadata": {},
     "output_type": "execute_result"
    }
   ],
   "source": [
    "file=open(\"mysecondlog.txt\",'r')\n",
    "file.read(20)"
   ]
  },
  {
   "cell_type": "code",
   "execution_count": 12,
   "id": "1e1f980a-19fd-471c-bdd1-77708de3f4a3",
   "metadata": {},
   "outputs": [],
   "source": [
    "f=open(\"newfiler.txt\",\"w\")"
   ]
  },
  {
   "cell_type": "code",
   "execution_count": 13,
   "id": "663ec3e9-25e9-489c-b783-c546c76e8e15",
   "metadata": {},
   "outputs": [
    {
     "data": {
      "text/plain": [
       "15"
      ]
     },
     "execution_count": 13,
     "metadata": {},
     "output_type": "execute_result"
    }
   ],
   "source": [
    "f.write(\"yhis is my file\")"
   ]
  },
  {
   "cell_type": "code",
   "execution_count": 14,
   "id": "1f0ee478-ca86-4a8b-a28c-bd58e2f4801d",
   "metadata": {},
   "outputs": [
    {
     "data": {
      "text/plain": [
       "15"
      ]
     },
     "execution_count": 14,
     "metadata": {},
     "output_type": "execute_result"
    }
   ],
   "source": [
    "f.write(\"this is my file\")"
   ]
  },
  {
   "cell_type": "code",
   "execution_count": 15,
   "id": "1a22874b-139c-4c34-9975-6aeb6c8dbd68",
   "metadata": {},
   "outputs": [],
   "source": [
    "f.close()"
   ]
  },
  {
   "cell_type": "code",
   "execution_count": 16,
   "id": "f6491b5b-db8c-426c-ad74-bb238d2f24b3",
   "metadata": {},
   "outputs": [],
   "source": [
    "f=open(\"newfiler.txt\",\"a\")"
   ]
  },
  {
   "cell_type": "code",
   "execution_count": 17,
   "id": "906e577c-ba29-420f-a1dd-21171289a098",
   "metadata": {},
   "outputs": [
    {
     "data": {
      "text/plain": [
       "15"
      ]
     },
     "execution_count": 17,
     "metadata": {},
     "output_type": "execute_result"
    }
   ],
   "source": [
    "f.write(\"yhis is my file\")"
   ]
  },
  {
   "cell_type": "code",
   "execution_count": 18,
   "id": "2ce47074-bcfa-475a-96aa-deb369bc648a",
   "metadata": {},
   "outputs": [],
   "source": [
    "f.close()"
   ]
  },
  {
   "cell_type": "code",
   "execution_count": 20,
   "id": "0a52f24f-b530-46e8-9850-0645039e4415",
   "metadata": {},
   "outputs": [
    {
     "name": "stdout",
     "output_type": "stream",
     "text": [
      "yhis is my filethis is my fileyhis is my file\n"
     ]
    }
   ],
   "source": [
    "with open(\"newfiler.txt\") as f:\n",
    "    print(f.read())"
   ]
  },
  {
   "cell_type": "code",
   "execution_count": 24,
   "id": "2f949e52-1b80-4097-8428-e715bebce27f",
   "metadata": {},
   "outputs": [],
   "source": [
    "with open(\"ml.txt\",\"w\") as f:\n",
    "    f.write(\"Machine learning (ML) is a field of study in artificial intelligence concerned with the development and study of statistical algorithms that can learn from data and generalize to unseen data, and thus perform tasks without explicit instructions.[1] Advances in the field of deep learning have allowed neural networks to surpass many previous approaches in performance.\")\n"
   ]
  },
  {
   "cell_type": "code",
   "execution_count": 27,
   "id": "13c6d609-c95f-46b7-9813-9f7a98720c16",
   "metadata": {},
   "outputs": [
    {
     "name": "stdout",
     "output_type": "stream",
     "text": [
      "Machine learning (ML) is a field of study in artificial intelligence concerned with the development and study of statistical algorithms that can learn from data and generalize to unseen data, and thus perform tasks without explicit instructions.[1] Advances in the field of deep learning have allowed neural networks to surpass many previous approaches in performance.\n"
     ]
    }
   ],
   "source": [
    "with open(\"ml.txt\",\"r\") as f:\n",
    "    print(f.read())"
   ]
  },
  {
   "cell_type": "code",
   "execution_count": 29,
   "id": "5b61a9ca-df92-4fed-875f-9fadc2ff9cb1",
   "metadata": {},
   "outputs": [
    {
     "name": "stdout",
     "output_type": "stream",
     "text": [
      "['Machine', 'learning', '(ML)', 'is', 'a', 'field', 'of', 'study', 'in', 'artificial', 'intelligence', 'concerned', 'with', 'the', 'development', 'and', 'study', 'of', 'statistical', 'algorithms', 'that', 'can', 'learn', 'from', 'data', 'and', 'generalize', 'to', 'unseen', 'data,', 'and', 'thus', 'perform', 'tasks', 'without', 'explicit', 'instructions.[1]', 'Advances', 'in', 'the', 'field', 'of', 'deep', 'learning', 'have', 'allowed', 'neural', 'networks', 'to', 'surpass', 'many', 'previous', 'approaches', 'in', 'performance.']\n"
     ]
    }
   ],
   "source": [
    "with open(\"ml.txt\",\"r\") as f:\n",
    "    data=f.readlines()\n",
    "    for i in data:\n",
    "        word=i.split()\n",
    "        print(word)"
   ]
  },
  {
   "cell_type": "code",
   "execution_count": null,
   "id": "43f5e021-1948-49c3-ad7f-726e88a5e7b2",
   "metadata": {},
   "outputs": [],
   "source": []
  },
  {
   "cell_type": "code",
   "execution_count": null,
   "id": "8894e815-b508-4ceb-8527-bd81ba197027",
   "metadata": {},
   "outputs": [],
   "source": []
  }
 ],
 "metadata": {
  "kernelspec": {
   "display_name": "Python 3 (ipykernel)",
   "language": "python",
   "name": "python3"
  },
  "language_info": {
   "codemirror_mode": {
    "name": "ipython",
    "version": 3
   },
   "file_extension": ".py",
   "mimetype": "text/x-python",
   "name": "python",
   "nbconvert_exporter": "python",
   "pygments_lexer": "ipython3",
   "version": "3.12.4"
  }
 },
 "nbformat": 4,
 "nbformat_minor": 5
}
