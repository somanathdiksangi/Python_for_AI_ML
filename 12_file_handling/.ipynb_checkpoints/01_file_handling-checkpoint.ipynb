{
 "cells": [
  {
   "cell_type": "code",
   "execution_count": null,
   "id": "9a0f0e2c-33af-48d7-a55d-489cb221f0a2",
   "metadata": {},
   "outputs": [],
   "source": [
    "file\n",
    ".txt\n",
    ".csv\n",
    ".tsv\n",
    ".log\n",
    ".parquest\n",
    ".json\n",
    ".dat\n",
    ".avro\n",
    ".xslx\n",
    ".pdf"
   ]
  },
  {
   "cell_type": "code",
   "execution_count": null,
   "id": "cea7e3f8-caf3-4cd6-9182-c28249079373",
   "metadata": {},
   "outputs": [],
   "source": [
    "# if file is available it open it create a new one\n",
    "open(\"\")"
   ]
  }
 ],
 "metadata": {
  "kernelspec": {
   "display_name": "Python 3 (ipykernel)",
   "language": "python",
   "name": "python3"
  },
  "language_info": {
   "codemirror_mode": {
    "name": "ipython",
    "version": 3
   },
   "file_extension": ".py",
   "mimetype": "text/x-python",
   "name": "python",
   "nbconvert_exporter": "python",
   "pygments_lexer": "ipython3",
   "version": "3.12.4"
  }
 },
 "nbformat": 4,
 "nbformat_minor": 5
}
