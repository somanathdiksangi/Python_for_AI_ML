{
 "cells": [
  {
   "cell_type": "code",
   "execution_count": 2,
   "id": "f3223262-6924-4470-bc81-001a748c7d49",
   "metadata": {},
   "outputs": [],
   "source": [
    "import pandas as pd"
   ]
  },
  {
   "cell_type": "code",
   "execution_count": 3,
   "id": "32b6f9bc-b0b0-464e-b98d-80eddad4bf4a",
   "metadata": {},
   "outputs": [],
   "source": [
    "data=pd.read_csv(\"text.csv\")"
   ]
  },
  {
   "cell_type": "code",
   "execution_count": 4,
   "id": "7a78e0f5-b9bb-421c-99e4-91b3500983bc",
   "metadata": {},
   "outputs": [
    {
     "data": {
      "text/html": [
       "<div>\n",
       "<style scoped>\n",
       "    .dataframe tbody tr th:only-of-type {\n",
       "        vertical-align: middle;\n",
       "    }\n",
       "\n",
       "    .dataframe tbody tr th {\n",
       "        vertical-align: top;\n",
       "    }\n",
       "\n",
       "    .dataframe thead th {\n",
       "        text-align: right;\n",
       "    }\n",
       "</style>\n",
       "<table border=\"1\" class=\"dataframe\">\n",
       "  <thead>\n",
       "    <tr style=\"text-align: right;\">\n",
       "      <th></th>\n",
       "      <th>name</th>\n",
       "      <th>age</th>\n",
       "      <th>desin</th>\n",
       "      <th>salary</th>\n",
       "    </tr>\n",
       "  </thead>\n",
       "  <tbody>\n",
       "    <tr>\n",
       "      <th>0</th>\n",
       "      <td>somu</td>\n",
       "      <td>21</td>\n",
       "      <td>ml</td>\n",
       "      <td>125554</td>\n",
       "    </tr>\n",
       "    <tr>\n",
       "      <th>1</th>\n",
       "      <td>sunny</td>\n",
       "      <td>22</td>\n",
       "      <td>ai</td>\n",
       "      <td>5655</td>\n",
       "    </tr>\n",
       "    <tr>\n",
       "      <th>2</th>\n",
       "      <td>monic</td>\n",
       "      <td>15</td>\n",
       "      <td>web</td>\n",
       "      <td>2555</td>\n",
       "    </tr>\n",
       "  </tbody>\n",
       "</table>\n",
       "</div>"
      ],
      "text/plain": [
       "    name  age desin  salary\n",
       "0   somu   21    ml  125554\n",
       "1  sunny   22    ai    5655\n",
       "2  monic   15   web    2555"
      ]
     },
     "execution_count": 4,
     "metadata": {},
     "output_type": "execute_result"
    }
   ],
   "source": [
    "data"
   ]
  },
  {
   "cell_type": "code",
   "execution_count": 5,
   "id": "73658e35-cc90-4bae-b1a6-62da69e168e8",
   "metadata": {},
   "outputs": [
    {
     "data": {
      "text/plain": [
       "(3, 4)"
      ]
     },
     "execution_count": 5,
     "metadata": {},
     "output_type": "execute_result"
    }
   ],
   "source": [
    "data.shape"
   ]
  },
  {
   "cell_type": "code",
   "execution_count": 6,
   "id": "f37e615e-ec8e-40ea-b5a8-3750dc01544c",
   "metadata": {},
   "outputs": [
    {
     "data": {
      "text/plain": [
       "name      object\n",
       "age        int64\n",
       "desin     object\n",
       "salary     int64\n",
       "dtype: object"
      ]
     },
     "execution_count": 6,
     "metadata": {},
     "output_type": "execute_result"
    }
   ],
   "source": [
    "data.dtypes"
   ]
  },
  {
   "cell_type": "code",
   "execution_count": 7,
   "id": "9bc61414-07d6-47e3-8108-2ba5d59881d8",
   "metadata": {},
   "outputs": [
    {
     "data": {
      "text/html": [
       "<div>\n",
       "<style scoped>\n",
       "    .dataframe tbody tr th:only-of-type {\n",
       "        vertical-align: middle;\n",
       "    }\n",
       "\n",
       "    .dataframe tbody tr th {\n",
       "        vertical-align: top;\n",
       "    }\n",
       "\n",
       "    .dataframe thead th {\n",
       "        text-align: right;\n",
       "    }\n",
       "</style>\n",
       "<table border=\"1\" class=\"dataframe\">\n",
       "  <thead>\n",
       "    <tr style=\"text-align: right;\">\n",
       "      <th></th>\n",
       "      <th>name</th>\n",
       "      <th>age</th>\n",
       "      <th>desin</th>\n",
       "      <th>salary</th>\n",
       "    </tr>\n",
       "  </thead>\n",
       "  <tbody>\n",
       "    <tr>\n",
       "      <th>0</th>\n",
       "      <td>somu</td>\n",
       "      <td>21</td>\n",
       "      <td>ml</td>\n",
       "      <td>125554</td>\n",
       "    </tr>\n",
       "    <tr>\n",
       "      <th>1</th>\n",
       "      <td>sunny</td>\n",
       "      <td>22</td>\n",
       "      <td>ai</td>\n",
       "      <td>5655</td>\n",
       "    </tr>\n",
       "  </tbody>\n",
       "</table>\n",
       "</div>"
      ],
      "text/plain": [
       "    name  age desin  salary\n",
       "0   somu   21    ml  125554\n",
       "1  sunny   22    ai    5655"
      ]
     },
     "execution_count": 7,
     "metadata": {},
     "output_type": "execute_result"
    }
   ],
   "source": [
    "data.head(2)"
   ]
  },
  {
   "cell_type": "code",
   "execution_count": 8,
   "id": "d801b280-76fc-4714-bcf0-9a86047d19e4",
   "metadata": {},
   "outputs": [
    {
     "data": {
      "text/html": [
       "<div>\n",
       "<style scoped>\n",
       "    .dataframe tbody tr th:only-of-type {\n",
       "        vertical-align: middle;\n",
       "    }\n",
       "\n",
       "    .dataframe tbody tr th {\n",
       "        vertical-align: top;\n",
       "    }\n",
       "\n",
       "    .dataframe thead th {\n",
       "        text-align: right;\n",
       "    }\n",
       "</style>\n",
       "<table border=\"1\" class=\"dataframe\">\n",
       "  <thead>\n",
       "    <tr style=\"text-align: right;\">\n",
       "      <th></th>\n",
       "      <th>name</th>\n",
       "      <th>age</th>\n",
       "      <th>desin</th>\n",
       "      <th>salary</th>\n",
       "    </tr>\n",
       "  </thead>\n",
       "  <tbody>\n",
       "    <tr>\n",
       "      <th>2</th>\n",
       "      <td>monic</td>\n",
       "      <td>15</td>\n",
       "      <td>web</td>\n",
       "      <td>2555</td>\n",
       "    </tr>\n",
       "  </tbody>\n",
       "</table>\n",
       "</div>"
      ],
      "text/plain": [
       "    name  age desin  salary\n",
       "2  monic   15   web    2555"
      ]
     },
     "execution_count": 8,
     "metadata": {},
     "output_type": "execute_result"
    }
   ],
   "source": [
    "data.tail(1)"
   ]
  },
  {
   "cell_type": "code",
   "execution_count": 9,
   "id": "cc4c9553-3bc5-48ef-a56b-bf90bc41025a",
   "metadata": {},
   "outputs": [
    {
     "data": {
      "text/html": [
       "<div>\n",
       "<style scoped>\n",
       "    .dataframe tbody tr th:only-of-type {\n",
       "        vertical-align: middle;\n",
       "    }\n",
       "\n",
       "    .dataframe tbody tr th {\n",
       "        vertical-align: top;\n",
       "    }\n",
       "\n",
       "    .dataframe thead th {\n",
       "        text-align: right;\n",
       "    }\n",
       "</style>\n",
       "<table border=\"1\" class=\"dataframe\">\n",
       "  <thead>\n",
       "    <tr style=\"text-align: right;\">\n",
       "      <th></th>\n",
       "      <th>name</th>\n",
       "      <th>age</th>\n",
       "      <th>desin</th>\n",
       "      <th>salary</th>\n",
       "    </tr>\n",
       "  </thead>\n",
       "  <tbody>\n",
       "    <tr>\n",
       "      <th>1</th>\n",
       "      <td>sunny</td>\n",
       "      <td>22</td>\n",
       "      <td>ai</td>\n",
       "      <td>5655</td>\n",
       "    </tr>\n",
       "    <tr>\n",
       "      <th>2</th>\n",
       "      <td>monic</td>\n",
       "      <td>15</td>\n",
       "      <td>web</td>\n",
       "      <td>2555</td>\n",
       "    </tr>\n",
       "  </tbody>\n",
       "</table>\n",
       "</div>"
      ],
      "text/plain": [
       "    name  age desin  salary\n",
       "1  sunny   22    ai    5655\n",
       "2  monic   15   web    2555"
      ]
     },
     "execution_count": 9,
     "metadata": {},
     "output_type": "execute_result"
    }
   ],
   "source": [
    "data.sample(n=2)"
   ]
  },
  {
   "cell_type": "code",
   "execution_count": 10,
   "id": "91f7ba6e-19af-4464-862b-fc6d1df41b36",
   "metadata": {},
   "outputs": [
    {
     "data": {
      "text/plain": [
       "array([['somu', 21, 'ml', 125554],\n",
       "       ['sunny', 22, 'ai', 5655],\n",
       "       ['monic', 15, 'web', 2555]], dtype=object)"
      ]
     },
     "execution_count": 10,
     "metadata": {},
     "output_type": "execute_result"
    }
   ],
   "source": [
    "data.values"
   ]
  },
  {
   "cell_type": "code",
   "execution_count": 11,
   "id": "7e82cb66-7190-4275-b0d7-b5d0f61c0ab7",
   "metadata": {},
   "outputs": [
    {
     "data": {
      "text/plain": [
       "12"
      ]
     },
     "execution_count": 11,
     "metadata": {},
     "output_type": "execute_result"
    }
   ],
   "source": [
    "data.size # number os column and row"
   ]
  },
  {
   "cell_type": "code",
   "execution_count": 12,
   "id": "4c95511f-6629-49a0-8d09-da954380498c",
   "metadata": {},
   "outputs": [
    {
     "data": {
      "text/plain": [
       "2"
      ]
     },
     "execution_count": 12,
     "metadata": {},
     "output_type": "execute_result"
    }
   ],
   "source": [
    "data.ndim # dimantion"
   ]
  },
  {
   "cell_type": "code",
   "execution_count": 13,
   "id": "e2964395-0bd8-451b-9e2f-493d2a875a30",
   "metadata": {},
   "outputs": [
    {
     "data": {
      "text/plain": [
       "[RangeIndex(start=0, stop=3, step=1),\n",
       " Index(['name', 'age', 'desin', 'salary'], dtype='object')]"
      ]
     },
     "execution_count": 13,
     "metadata": {},
     "output_type": "execute_result"
    }
   ],
   "source": [
    "data.axes"
   ]
  },
  {
   "cell_type": "code",
   "execution_count": 14,
   "id": "278f4677-7310-4d7e-ab8d-74598db02a39",
   "metadata": {},
   "outputs": [
    {
     "data": {
      "text/html": [
       "<div>\n",
       "<style scoped>\n",
       "    .dataframe tbody tr th:only-of-type {\n",
       "        vertical-align: middle;\n",
       "    }\n",
       "\n",
       "    .dataframe tbody tr th {\n",
       "        vertical-align: top;\n",
       "    }\n",
       "\n",
       "    .dataframe thead th {\n",
       "        text-align: right;\n",
       "    }\n",
       "</style>\n",
       "<table border=\"1\" class=\"dataframe\">\n",
       "  <thead>\n",
       "    <tr style=\"text-align: right;\">\n",
       "      <th></th>\n",
       "      <th>0</th>\n",
       "      <th>1</th>\n",
       "      <th>2</th>\n",
       "    </tr>\n",
       "  </thead>\n",
       "  <tbody>\n",
       "    <tr>\n",
       "      <th>name</th>\n",
       "      <td>somu</td>\n",
       "      <td>sunny</td>\n",
       "      <td>monic</td>\n",
       "    </tr>\n",
       "    <tr>\n",
       "      <th>age</th>\n",
       "      <td>21</td>\n",
       "      <td>22</td>\n",
       "      <td>15</td>\n",
       "    </tr>\n",
       "    <tr>\n",
       "      <th>desin</th>\n",
       "      <td>ml</td>\n",
       "      <td>ai</td>\n",
       "      <td>web</td>\n",
       "    </tr>\n",
       "    <tr>\n",
       "      <th>salary</th>\n",
       "      <td>125554</td>\n",
       "      <td>5655</td>\n",
       "      <td>2555</td>\n",
       "    </tr>\n",
       "  </tbody>\n",
       "</table>\n",
       "</div>"
      ],
      "text/plain": [
       "             0      1      2\n",
       "name      somu  sunny  monic\n",
       "age         21     22     15\n",
       "desin       ml     ai    web\n",
       "salary  125554   5655   2555"
      ]
     },
     "execution_count": 14,
     "metadata": {},
     "output_type": "execute_result"
    }
   ],
   "source": [
    "data.T"
   ]
  },
  {
   "cell_type": "code",
   "execution_count": 15,
   "id": "93349234-08c1-4a26-96db-d161331e4271",
   "metadata": {},
   "outputs": [
    {
     "data": {
      "text/plain": [
       "False"
      ]
     },
     "execution_count": 15,
     "metadata": {},
     "output_type": "execute_result"
    }
   ],
   "source": [
    "data.empty"
   ]
  },
  {
   "cell_type": "code",
   "execution_count": 16,
   "id": "019fba83-8e96-43f7-af33-49d9759741ea",
   "metadata": {},
   "outputs": [
    {
     "data": {
      "text/plain": [
       "True"
      ]
     },
     "execution_count": 16,
     "metadata": {},
     "output_type": "execute_result"
    }
   ],
   "source": [
    "pd.DataFrame().empty"
   ]
  },
  {
   "cell_type": "code",
   "execution_count": 17,
   "id": "4f539d5b-75a2-42b2-a304-833746ca4dbc",
   "metadata": {},
   "outputs": [],
   "source": [
    "# apply()"
   ]
  },
  {
   "cell_type": "code",
   "execution_count": 18,
   "id": "906186e7-c063-4f36-ab88-a56ab6582565",
   "metadata": {},
   "outputs": [
    {
     "data": {
      "text/plain": [
       "array([[-1.61633237,  1.44147954, -0.02896994],\n",
       "       [ 1.88542779, -0.01806639,  1.57371269],\n",
       "       [-0.04682155, -1.71534664,  0.93576774],\n",
       "       [-0.17292805, -2.98595866, -0.83179898],\n",
       "       [ 0.03919776,  0.33664188,  0.99415742]])"
      ]
     },
     "execution_count": 18,
     "metadata": {},
     "output_type": "execute_result"
    }
   ],
   "source": [
    "import numpy as np\n",
    "np.random.randn(5,3)"
   ]
  },
  {
   "cell_type": "code",
   "execution_count": 19,
   "id": "2972a84e-8bec-4654-9c5b-d259048a4810",
   "metadata": {},
   "outputs": [],
   "source": [
    "data5=pd.DataFrame(np.random.randn(5,3),columns=[\"col1\",\"col2\",\"col3\"])"
   ]
  },
  {
   "cell_type": "code",
   "execution_count": 20,
   "id": "29144b2f-a717-4470-878f-f8649dadc004",
   "metadata": {},
   "outputs": [
    {
     "data": {
      "text/html": [
       "<div>\n",
       "<style scoped>\n",
       "    .dataframe tbody tr th:only-of-type {\n",
       "        vertical-align: middle;\n",
       "    }\n",
       "\n",
       "    .dataframe tbody tr th {\n",
       "        vertical-align: top;\n",
       "    }\n",
       "\n",
       "    .dataframe thead th {\n",
       "        text-align: right;\n",
       "    }\n",
       "</style>\n",
       "<table border=\"1\" class=\"dataframe\">\n",
       "  <thead>\n",
       "    <tr style=\"text-align: right;\">\n",
       "      <th></th>\n",
       "      <th>col1</th>\n",
       "      <th>col2</th>\n",
       "      <th>col3</th>\n",
       "    </tr>\n",
       "  </thead>\n",
       "  <tbody>\n",
       "    <tr>\n",
       "      <th>0</th>\n",
       "      <td>-1.748932</td>\n",
       "      <td>-0.658689</td>\n",
       "      <td>-0.255980</td>\n",
       "    </tr>\n",
       "    <tr>\n",
       "      <th>1</th>\n",
       "      <td>-2.284918</td>\n",
       "      <td>0.962147</td>\n",
       "      <td>0.150401</td>\n",
       "    </tr>\n",
       "    <tr>\n",
       "      <th>2</th>\n",
       "      <td>-0.255790</td>\n",
       "      <td>-0.512368</td>\n",
       "      <td>0.097587</td>\n",
       "    </tr>\n",
       "    <tr>\n",
       "      <th>3</th>\n",
       "      <td>0.905182</td>\n",
       "      <td>-1.775205</td>\n",
       "      <td>-0.077074</td>\n",
       "    </tr>\n",
       "    <tr>\n",
       "      <th>4</th>\n",
       "      <td>2.312536</td>\n",
       "      <td>1.948695</td>\n",
       "      <td>-0.786587</td>\n",
       "    </tr>\n",
       "  </tbody>\n",
       "</table>\n",
       "</div>"
      ],
      "text/plain": [
       "       col1      col2      col3\n",
       "0 -1.748932 -0.658689 -0.255980\n",
       "1 -2.284918  0.962147  0.150401\n",
       "2 -0.255790 -0.512368  0.097587\n",
       "3  0.905182 -1.775205 -0.077074\n",
       "4  2.312536  1.948695 -0.786587"
      ]
     },
     "execution_count": 20,
     "metadata": {},
     "output_type": "execute_result"
    }
   ],
   "source": [
    "data5"
   ]
  },
  {
   "cell_type": "code",
   "execution_count": 21,
   "id": "22696989-9de1-460f-8743-0c29fa4ed8c6",
   "metadata": {},
   "outputs": [
    {
     "data": {
      "text/plain": [
       "col1   -0.214384\n",
       "col2   -0.007084\n",
       "col3   -0.174331\n",
       "dtype: float64"
      ]
     },
     "execution_count": 21,
     "metadata": {},
     "output_type": "execute_result"
    }
   ],
   "source": [
    "data5.apply(np.mean)"
   ]
  },
  {
   "cell_type": "code",
   "execution_count": 22,
   "id": "d03e4c46-1e0e-4225-b16d-86f04c046789",
   "metadata": {},
   "outputs": [
    {
     "data": {
      "text/plain": [
       "col1   -0.255790\n",
       "col2   -0.512368\n",
       "col3   -0.077074\n",
       "dtype: float64"
      ]
     },
     "execution_count": 22,
     "metadata": {},
     "output_type": "execute_result"
    }
   ],
   "source": [
    "data5.apply(np.median)"
   ]
  },
  {
   "cell_type": "code",
   "execution_count": 23,
   "id": "0882ba86-b131-42a7-aa9a-d10df10dec2f",
   "metadata": {},
   "outputs": [
    {
     "data": {
      "text/plain": [
       "col1    2.312536\n",
       "col2    1.948695\n",
       "col3    0.150401\n",
       "dtype: float64"
      ]
     },
     "execution_count": 23,
     "metadata": {},
     "output_type": "execute_result"
    }
   ],
   "source": [
    "data5.apply(lambda x: x.max())"
   ]
  },
  {
   "cell_type": "code",
   "execution_count": 24,
   "id": "266aed0b-e1df-40a7-a282-a558202d0371",
   "metadata": {},
   "outputs": [
    {
     "data": {
      "text/plain": [
       "col1   -2.284918\n",
       "col2   -1.775205\n",
       "col3   -0.786587\n",
       "dtype: float64"
      ]
     },
     "execution_count": 24,
     "metadata": {},
     "output_type": "execute_result"
    }
   ],
   "source": [
    "data5.apply(lambda x: x.min())"
   ]
  },
  {
   "cell_type": "code",
   "execution_count": 25,
   "id": "4f8eacf6-cd11-451b-8b1a-97dd576fbb06",
   "metadata": {},
   "outputs": [
    {
     "data": {
      "text/plain": [
       "col1    2.526920\n",
       "col2    1.955779\n",
       "col3    0.324732\n",
       "dtype: float64"
      ]
     },
     "execution_count": 25,
     "metadata": {},
     "output_type": "execute_result"
    }
   ],
   "source": [
    "data5.apply(lambda x: x.max()-x.mean())"
   ]
  },
  {
   "cell_type": "code",
   "execution_count": 26,
   "id": "1667f663-cde3-4542-950c-d7cacf233555",
   "metadata": {},
   "outputs": [
    {
     "data": {
      "text/plain": [
       "0   -0.748932\n",
       "1   -1.284918\n",
       "2    0.744210\n",
       "3    1.905182\n",
       "4    3.312536\n",
       "Name: col1, dtype: float64"
      ]
     },
     "execution_count": 26,
     "metadata": {},
     "output_type": "execute_result"
    }
   ],
   "source": [
    "data5[\"col1\"].apply(lambda x: x+1)"
   ]
  },
  {
   "cell_type": "code",
   "execution_count": 27,
   "id": "59cdd9fb-83d1-461d-b25f-4f4ca4dc8b1e",
   "metadata": {},
   "outputs": [
    {
     "data": {
      "text/html": [
       "<div>\n",
       "<style scoped>\n",
       "    .dataframe tbody tr th:only-of-type {\n",
       "        vertical-align: middle;\n",
       "    }\n",
       "\n",
       "    .dataframe tbody tr th {\n",
       "        vertical-align: top;\n",
       "    }\n",
       "\n",
       "    .dataframe thead th {\n",
       "        text-align: right;\n",
       "    }\n",
       "</style>\n",
       "<table border=\"1\" class=\"dataframe\">\n",
       "  <thead>\n",
       "    <tr style=\"text-align: right;\">\n",
       "      <th></th>\n",
       "      <th>col1</th>\n",
       "      <th>col2</th>\n",
       "      <th>col3</th>\n",
       "    </tr>\n",
       "  </thead>\n",
       "  <tbody>\n",
       "    <tr>\n",
       "      <th>0</th>\n",
       "      <td>-1.748932</td>\n",
       "      <td>-0.658689</td>\n",
       "      <td>-0.255980</td>\n",
       "    </tr>\n",
       "    <tr>\n",
       "      <th>1</th>\n",
       "      <td>-2.284918</td>\n",
       "      <td>0.962147</td>\n",
       "      <td>0.150401</td>\n",
       "    </tr>\n",
       "    <tr>\n",
       "      <th>2</th>\n",
       "      <td>-0.255790</td>\n",
       "      <td>-0.512368</td>\n",
       "      <td>0.097587</td>\n",
       "    </tr>\n",
       "    <tr>\n",
       "      <th>3</th>\n",
       "      <td>0.905182</td>\n",
       "      <td>-1.775205</td>\n",
       "      <td>-0.077074</td>\n",
       "    </tr>\n",
       "    <tr>\n",
       "      <th>4</th>\n",
       "      <td>2.312536</td>\n",
       "      <td>1.948695</td>\n",
       "      <td>-0.786587</td>\n",
       "    </tr>\n",
       "  </tbody>\n",
       "</table>\n",
       "</div>"
      ],
      "text/plain": [
       "       col1      col2      col3\n",
       "0 -1.748932 -0.658689 -0.255980\n",
       "1 -2.284918  0.962147  0.150401\n",
       "2 -0.255790 -0.512368  0.097587\n",
       "3  0.905182 -1.775205 -0.077074\n",
       "4  2.312536  1.948695 -0.786587"
      ]
     },
     "execution_count": 27,
     "metadata": {},
     "output_type": "execute_result"
    }
   ],
   "source": [
    "data5"
   ]
  },
  {
   "cell_type": "code",
   "execution_count": 28,
   "id": "57f2ed4e-7a9b-4222-88cc-7eb0e1a20097",
   "metadata": {},
   "outputs": [
    {
     "data": {
      "text/html": [
       "<div>\n",
       "<style scoped>\n",
       "    .dataframe tbody tr th:only-of-type {\n",
       "        vertical-align: middle;\n",
       "    }\n",
       "\n",
       "    .dataframe tbody tr th {\n",
       "        vertical-align: top;\n",
       "    }\n",
       "\n",
       "    .dataframe thead th {\n",
       "        text-align: right;\n",
       "    }\n",
       "</style>\n",
       "<table border=\"1\" class=\"dataframe\">\n",
       "  <thead>\n",
       "    <tr style=\"text-align: right;\">\n",
       "      <th></th>\n",
       "      <th>col1</th>\n",
       "      <th>col2</th>\n",
       "      <th>col3</th>\n",
       "    </tr>\n",
       "  </thead>\n",
       "  <tbody>\n",
       "    <tr>\n",
       "      <th>0</th>\n",
       "      <td>-1.748932</td>\n",
       "      <td>-0.658689</td>\n",
       "      <td>-0.255980</td>\n",
       "    </tr>\n",
       "    <tr>\n",
       "      <th>1</th>\n",
       "      <td>-2.284918</td>\n",
       "      <td>0.962147</td>\n",
       "      <td>0.150401</td>\n",
       "    </tr>\n",
       "    <tr>\n",
       "      <th>2</th>\n",
       "      <td>-0.255790</td>\n",
       "      <td>-0.512368</td>\n",
       "      <td>0.097587</td>\n",
       "    </tr>\n",
       "    <tr>\n",
       "      <th>3</th>\n",
       "      <td>0.905182</td>\n",
       "      <td>-1.775205</td>\n",
       "      <td>-0.077074</td>\n",
       "    </tr>\n",
       "    <tr>\n",
       "      <th>4</th>\n",
       "      <td>2.312536</td>\n",
       "      <td>1.948695</td>\n",
       "      <td>-0.786587</td>\n",
       "    </tr>\n",
       "  </tbody>\n",
       "</table>\n",
       "</div>"
      ],
      "text/plain": [
       "       col1      col2      col3\n",
       "0 -1.748932 -0.658689 -0.255980\n",
       "1 -2.284918  0.962147  0.150401\n",
       "2 -0.255790 -0.512368  0.097587\n",
       "3  0.905182 -1.775205 -0.077074\n",
       "4  2.312536  1.948695 -0.786587"
      ]
     },
     "execution_count": 28,
     "metadata": {},
     "output_type": "execute_result"
    }
   ],
   "source": [
    "data5 "
   ]
  },
  {
   "cell_type": "code",
   "execution_count": 30,
   "id": "95dfe152-9884-45c2-bcba-00478248db57",
   "metadata": {},
   "outputs": [],
   "source": [
    "# map(sequence, fun)"
   ]
  },
  {
   "cell_type": "code",
   "execution_count": 31,
   "id": "72a2c20c-3921-48fc-85b3-3309125537c1",
   "metadata": {},
   "outputs": [
    {
     "data": {
      "text/plain": [
       "0   -174.893221\n",
       "1   -228.491805\n",
       "2    -25.578987\n",
       "3     90.518195\n",
       "4    231.253586\n",
       "Name: col1, dtype: float64"
      ]
     },
     "execution_count": 31,
     "metadata": {},
     "output_type": "execute_result"
    }
   ],
   "source": [
    "data5[\"col1\"].map(lambda x: x*100)"
   ]
  },
  {
   "cell_type": "code",
   "execution_count": 32,
   "id": "7da36450-796d-4c25-9936-00a7f378a18d",
   "metadata": {},
   "outputs": [
    {
     "data": {
      "text/html": [
       "<div>\n",
       "<style scoped>\n",
       "    .dataframe tbody tr th:only-of-type {\n",
       "        vertical-align: middle;\n",
       "    }\n",
       "\n",
       "    .dataframe tbody tr th {\n",
       "        vertical-align: top;\n",
       "    }\n",
       "\n",
       "    .dataframe thead th {\n",
       "        text-align: right;\n",
       "    }\n",
       "</style>\n",
       "<table border=\"1\" class=\"dataframe\">\n",
       "  <thead>\n",
       "    <tr style=\"text-align: right;\">\n",
       "      <th></th>\n",
       "      <th>col1</th>\n",
       "      <th>col2</th>\n",
       "      <th>col3</th>\n",
       "    </tr>\n",
       "  </thead>\n",
       "  <tbody>\n",
       "    <tr>\n",
       "      <th>0</th>\n",
       "      <td>-1.748932</td>\n",
       "      <td>-0.658689</td>\n",
       "      <td>-0.255980</td>\n",
       "    </tr>\n",
       "    <tr>\n",
       "      <th>1</th>\n",
       "      <td>-2.284918</td>\n",
       "      <td>0.962147</td>\n",
       "      <td>0.150401</td>\n",
       "    </tr>\n",
       "    <tr>\n",
       "      <th>2</th>\n",
       "      <td>-0.255790</td>\n",
       "      <td>-0.512368</td>\n",
       "      <td>0.097587</td>\n",
       "    </tr>\n",
       "    <tr>\n",
       "      <th>3</th>\n",
       "      <td>0.905182</td>\n",
       "      <td>-1.775205</td>\n",
       "      <td>-0.077074</td>\n",
       "    </tr>\n",
       "    <tr>\n",
       "      <th>4</th>\n",
       "      <td>2.312536</td>\n",
       "      <td>1.948695</td>\n",
       "      <td>-0.786587</td>\n",
       "    </tr>\n",
       "  </tbody>\n",
       "</table>\n",
       "</div>"
      ],
      "text/plain": [
       "       col1      col2      col3\n",
       "0 -1.748932 -0.658689 -0.255980\n",
       "1 -2.284918  0.962147  0.150401\n",
       "2 -0.255790 -0.512368  0.097587\n",
       "3  0.905182 -1.775205 -0.077074\n",
       "4  2.312536  1.948695 -0.786587"
      ]
     },
     "execution_count": 32,
     "metadata": {},
     "output_type": "execute_result"
    }
   ],
   "source": [
    "data5"
   ]
  },
  {
   "cell_type": "code",
   "execution_count": 35,
   "id": "e4d19fe4-0b5d-49e8-983d-2bc8a083d9c1",
   "metadata": {},
   "outputs": [
    {
     "data": {
      "text/html": [
       "<div>\n",
       "<style scoped>\n",
       "    .dataframe tbody tr th:only-of-type {\n",
       "        vertical-align: middle;\n",
       "    }\n",
       "\n",
       "    .dataframe tbody tr th {\n",
       "        vertical-align: top;\n",
       "    }\n",
       "\n",
       "    .dataframe thead th {\n",
       "        text-align: right;\n",
       "    }\n",
       "</style>\n",
       "<table border=\"1\" class=\"dataframe\">\n",
       "  <thead>\n",
       "    <tr style=\"text-align: right;\">\n",
       "      <th></th>\n",
       "      <th>col1</th>\n",
       "      <th>col2</th>\n",
       "      <th>col3</th>\n",
       "    </tr>\n",
       "  </thead>\n",
       "  <tbody>\n",
       "    <tr>\n",
       "      <th>a</th>\n",
       "      <td>NaN</td>\n",
       "      <td>NaN</td>\n",
       "      <td>NaN</td>\n",
       "    </tr>\n",
       "    <tr>\n",
       "      <th>b</th>\n",
       "      <td>NaN</td>\n",
       "      <td>NaN</td>\n",
       "      <td>NaN</td>\n",
       "    </tr>\n",
       "    <tr>\n",
       "      <th>c</th>\n",
       "      <td>NaN</td>\n",
       "      <td>NaN</td>\n",
       "      <td>NaN</td>\n",
       "    </tr>\n",
       "    <tr>\n",
       "      <th>d</th>\n",
       "      <td>NaN</td>\n",
       "      <td>NaN</td>\n",
       "      <td>NaN</td>\n",
       "    </tr>\n",
       "  </tbody>\n",
       "</table>\n",
       "</div>"
      ],
      "text/plain": [
       "   col1  col2  col3\n",
       "a   NaN   NaN   NaN\n",
       "b   NaN   NaN   NaN\n",
       "c   NaN   NaN   NaN\n",
       "d   NaN   NaN   NaN"
      ]
     },
     "execution_count": 35,
     "metadata": {},
     "output_type": "execute_result"
    }
   ],
   "source": [
    "data5.reindex(index=[\"a\",\"b\",\"c\",\"d\"])"
   ]
  },
  {
   "cell_type": "code",
   "execution_count": 36,
   "id": "a705c356-58cd-4c80-99e1-81f4667a1005",
   "metadata": {},
   "outputs": [
    {
     "data": {
      "text/html": [
       "<div>\n",
       "<style scoped>\n",
       "    .dataframe tbody tr th:only-of-type {\n",
       "        vertical-align: middle;\n",
       "    }\n",
       "\n",
       "    .dataframe tbody tr th {\n",
       "        vertical-align: top;\n",
       "    }\n",
       "\n",
       "    .dataframe thead th {\n",
       "        text-align: right;\n",
       "    }\n",
       "</style>\n",
       "<table border=\"1\" class=\"dataframe\">\n",
       "  <thead>\n",
       "    <tr style=\"text-align: right;\">\n",
       "      <th></th>\n",
       "      <th>col1</th>\n",
       "      <th>col2</th>\n",
       "      <th>col3</th>\n",
       "    </tr>\n",
       "  </thead>\n",
       "  <tbody>\n",
       "    <tr>\n",
       "      <th>0</th>\n",
       "      <td>-1.748932</td>\n",
       "      <td>-0.658689</td>\n",
       "      <td>-0.255980</td>\n",
       "    </tr>\n",
       "    <tr>\n",
       "      <th>1</th>\n",
       "      <td>-2.284918</td>\n",
       "      <td>0.962147</td>\n",
       "      <td>0.150401</td>\n",
       "    </tr>\n",
       "    <tr>\n",
       "      <th>2</th>\n",
       "      <td>-0.255790</td>\n",
       "      <td>-0.512368</td>\n",
       "      <td>0.097587</td>\n",
       "    </tr>\n",
       "    <tr>\n",
       "      <th>3</th>\n",
       "      <td>0.905182</td>\n",
       "      <td>-1.775205</td>\n",
       "      <td>-0.077074</td>\n",
       "    </tr>\n",
       "    <tr>\n",
       "      <th>4</th>\n",
       "      <td>2.312536</td>\n",
       "      <td>1.948695</td>\n",
       "      <td>-0.786587</td>\n",
       "    </tr>\n",
       "  </tbody>\n",
       "</table>\n",
       "</div>"
      ],
      "text/plain": [
       "       col1      col2      col3\n",
       "0 -1.748932 -0.658689 -0.255980\n",
       "1 -2.284918  0.962147  0.150401\n",
       "2 -0.255790 -0.512368  0.097587\n",
       "3  0.905182 -1.775205 -0.077074\n",
       "4  2.312536  1.948695 -0.786587"
      ]
     },
     "execution_count": 36,
     "metadata": {},
     "output_type": "execute_result"
    }
   ],
   "source": [
    "data5"
   ]
  },
  {
   "cell_type": "code",
   "execution_count": 38,
   "id": "792d3ce7-2618-43ec-a1aa-69c0c3fbc570",
   "metadata": {},
   "outputs": [
    {
     "data": {
      "text/html": [
       "<div>\n",
       "<style scoped>\n",
       "    .dataframe tbody tr th:only-of-type {\n",
       "        vertical-align: middle;\n",
       "    }\n",
       "\n",
       "    .dataframe tbody tr th {\n",
       "        vertical-align: top;\n",
       "    }\n",
       "\n",
       "    .dataframe thead th {\n",
       "        text-align: right;\n",
       "    }\n",
       "</style>\n",
       "<table border=\"1\" class=\"dataframe\">\n",
       "  <thead>\n",
       "    <tr style=\"text-align: right;\">\n",
       "      <th></th>\n",
       "      <th>c1</th>\n",
       "      <th>col2</th>\n",
       "      <th>col3</th>\n",
       "    </tr>\n",
       "  </thead>\n",
       "  <tbody>\n",
       "    <tr>\n",
       "      <th>0</th>\n",
       "      <td>-1.748932</td>\n",
       "      <td>-0.658689</td>\n",
       "      <td>-0.255980</td>\n",
       "    </tr>\n",
       "    <tr>\n",
       "      <th>1</th>\n",
       "      <td>-2.284918</td>\n",
       "      <td>0.962147</td>\n",
       "      <td>0.150401</td>\n",
       "    </tr>\n",
       "    <tr>\n",
       "      <th>2</th>\n",
       "      <td>-0.255790</td>\n",
       "      <td>-0.512368</td>\n",
       "      <td>0.097587</td>\n",
       "    </tr>\n",
       "    <tr>\n",
       "      <th>3</th>\n",
       "      <td>0.905182</td>\n",
       "      <td>-1.775205</td>\n",
       "      <td>-0.077074</td>\n",
       "    </tr>\n",
       "    <tr>\n",
       "      <th>4</th>\n",
       "      <td>2.312536</td>\n",
       "      <td>1.948695</td>\n",
       "      <td>-0.786587</td>\n",
       "    </tr>\n",
       "  </tbody>\n",
       "</table>\n",
       "</div>"
      ],
      "text/plain": [
       "         c1      col2      col3\n",
       "0 -1.748932 -0.658689 -0.255980\n",
       "1 -2.284918  0.962147  0.150401\n",
       "2 -0.255790 -0.512368  0.097587\n",
       "3  0.905182 -1.775205 -0.077074\n",
       "4  2.312536  1.948695 -0.786587"
      ]
     },
     "execution_count": 38,
     "metadata": {},
     "output_type": "execute_result"
    }
   ],
   "source": [
    "data5.rename(columns={\"col1\":\"c1\"})"
   ]
  },
  {
   "cell_type": "code",
   "execution_count": 39,
   "id": "2adf7e3f-41e3-4877-bf2c-514d7fc40d1d",
   "metadata": {},
   "outputs": [
    {
     "data": {
      "text/html": [
       "<div>\n",
       "<style scoped>\n",
       "    .dataframe tbody tr th:only-of-type {\n",
       "        vertical-align: middle;\n",
       "    }\n",
       "\n",
       "    .dataframe tbody tr th {\n",
       "        vertical-align: top;\n",
       "    }\n",
       "\n",
       "    .dataframe thead th {\n",
       "        text-align: right;\n",
       "    }\n",
       "</style>\n",
       "<table border=\"1\" class=\"dataframe\">\n",
       "  <thead>\n",
       "    <tr style=\"text-align: right;\">\n",
       "      <th></th>\n",
       "      <th>c1</th>\n",
       "      <th>col2</th>\n",
       "      <th>col3</th>\n",
       "    </tr>\n",
       "  </thead>\n",
       "  <tbody>\n",
       "    <tr>\n",
       "      <th>somu</th>\n",
       "      <td>-1.748932</td>\n",
       "      <td>-0.658689</td>\n",
       "      <td>-0.255980</td>\n",
       "    </tr>\n",
       "    <tr>\n",
       "      <th>1</th>\n",
       "      <td>-2.284918</td>\n",
       "      <td>0.962147</td>\n",
       "      <td>0.150401</td>\n",
       "    </tr>\n",
       "    <tr>\n",
       "      <th>2</th>\n",
       "      <td>-0.255790</td>\n",
       "      <td>-0.512368</td>\n",
       "      <td>0.097587</td>\n",
       "    </tr>\n",
       "    <tr>\n",
       "      <th>3</th>\n",
       "      <td>0.905182</td>\n",
       "      <td>-1.775205</td>\n",
       "      <td>-0.077074</td>\n",
       "    </tr>\n",
       "    <tr>\n",
       "      <th>4</th>\n",
       "      <td>2.312536</td>\n",
       "      <td>1.948695</td>\n",
       "      <td>-0.786587</td>\n",
       "    </tr>\n",
       "  </tbody>\n",
       "</table>\n",
       "</div>"
      ],
      "text/plain": [
       "            c1      col2      col3\n",
       "somu -1.748932 -0.658689 -0.255980\n",
       "1    -2.284918  0.962147  0.150401\n",
       "2    -0.255790 -0.512368  0.097587\n",
       "3     0.905182 -1.775205 -0.077074\n",
       "4     2.312536  1.948695 -0.786587"
      ]
     },
     "execution_count": 39,
     "metadata": {},
     "output_type": "execute_result"
    }
   ],
   "source": [
    "data5.rename(columns={\"col1\":\"c1\"},index={0:\"somu\"})"
   ]
  },
  {
   "cell_type": "code",
   "execution_count": 43,
   "id": "232ba7fd-19bd-465e-b406-c9c4947232c6",
   "metadata": {},
   "outputs": [
    {
     "name": "stdout",
     "output_type": "stream",
     "text": [
      "0 col1   -1.748932\n",
      "col2   -0.658689\n",
      "col3   -0.255980\n",
      "Name: 0, dtype: float64\n",
      "1 col1   -2.284918\n",
      "col2    0.962147\n",
      "col3    0.150401\n",
      "Name: 1, dtype: float64\n",
      "2 col1   -0.255790\n",
      "col2   -0.512368\n",
      "col3    0.097587\n",
      "Name: 2, dtype: float64\n",
      "3 col1    0.905182\n",
      "col2   -1.775205\n",
      "col3   -0.077074\n",
      "Name: 3, dtype: float64\n",
      "4 col1    2.312536\n",
      "col2    1.948695\n",
      "col3   -0.786587\n",
      "Name: 4, dtype: float64\n"
     ]
    }
   ],
   "source": [
    "for col,row in data5.iterrows():\n",
    "    print(col,row)"
   ]
  },
  {
   "cell_type": "code",
   "execution_count": 44,
   "id": "9ccfd35e-4db4-4286-9f13-048fe1e52286",
   "metadata": {},
   "outputs": [
    {
     "name": "stdout",
     "output_type": "stream",
     "text": [
      "Pandas(Index=0, col1=-1.7489322111766314, col2=-0.6586887794519666, col3=-0.2559802803429241)\n",
      "Pandas(Index=1, col1=-2.284918049195729, col2=0.9621467107406275, col3=0.15040110235792162)\n",
      "Pandas(Index=2, col1=-0.25578986871686155, col2=-0.5123677806095516, col3=0.09758675912356612)\n",
      "Pandas(Index=3, col1=0.9051819507056946, col2=-1.7752053834317187, col3=-0.0770744476468112)\n",
      "Pandas(Index=4, col1=2.312535856600573, col2=1.9486945777218128, col3=-0.7865870760515123)\n"
     ]
    }
   ],
   "source": [
    "for col in data5.itertuples():\n",
    "    print(col)"
   ]
  },
  {
   "cell_type": "code",
   "execution_count": 45,
   "id": "5a7d55b4-21eb-4e3b-8ff7-f398302fc006",
   "metadata": {},
   "outputs": [
    {
     "ename": "NameError",
     "evalue": "name 'sort_values' is not defined",
     "output_type": "error",
     "traceback": [
      "\u001b[1;31m---------------------------------------------------------------------------\u001b[0m",
      "\u001b[1;31mNameError\u001b[0m                                 Traceback (most recent call last)",
      "Cell \u001b[1;32mIn[45], line 2\u001b[0m\n\u001b[0;32m      1\u001b[0m \u001b[38;5;66;03m# sort values \u001b[39;00m\n\u001b[1;32m----> 2\u001b[0m \u001b[43msort_values\u001b[49m()\n",
      "\u001b[1;31mNameError\u001b[0m: name 'sort_values' is not defined"
     ]
    }
   ],
   "source": [
    "# sort values \n",
    "sort_values()"
   ]
  },
  {
   "cell_type": "code",
   "execution_count": 46,
   "id": "7b958c38-fc31-4266-a96d-cb03eed4dae9",
   "metadata": {},
   "outputs": [
    {
     "data": {
      "text/html": [
       "<div>\n",
       "<style scoped>\n",
       "    .dataframe tbody tr th:only-of-type {\n",
       "        vertical-align: middle;\n",
       "    }\n",
       "\n",
       "    .dataframe tbody tr th {\n",
       "        vertical-align: top;\n",
       "    }\n",
       "\n",
       "    .dataframe thead th {\n",
       "        text-align: right;\n",
       "    }\n",
       "</style>\n",
       "<table border=\"1\" class=\"dataframe\">\n",
       "  <thead>\n",
       "    <tr style=\"text-align: right;\">\n",
       "      <th></th>\n",
       "      <th>col1</th>\n",
       "      <th>col2</th>\n",
       "      <th>col3</th>\n",
       "    </tr>\n",
       "  </thead>\n",
       "  <tbody>\n",
       "    <tr>\n",
       "      <th>1</th>\n",
       "      <td>-2.284918</td>\n",
       "      <td>0.962147</td>\n",
       "      <td>0.150401</td>\n",
       "    </tr>\n",
       "    <tr>\n",
       "      <th>0</th>\n",
       "      <td>-1.748932</td>\n",
       "      <td>-0.658689</td>\n",
       "      <td>-0.255980</td>\n",
       "    </tr>\n",
       "    <tr>\n",
       "      <th>2</th>\n",
       "      <td>-0.255790</td>\n",
       "      <td>-0.512368</td>\n",
       "      <td>0.097587</td>\n",
       "    </tr>\n",
       "    <tr>\n",
       "      <th>3</th>\n",
       "      <td>0.905182</td>\n",
       "      <td>-1.775205</td>\n",
       "      <td>-0.077074</td>\n",
       "    </tr>\n",
       "    <tr>\n",
       "      <th>4</th>\n",
       "      <td>2.312536</td>\n",
       "      <td>1.948695</td>\n",
       "      <td>-0.786587</td>\n",
       "    </tr>\n",
       "  </tbody>\n",
       "</table>\n",
       "</div>"
      ],
      "text/plain": [
       "       col1      col2      col3\n",
       "1 -2.284918  0.962147  0.150401\n",
       "0 -1.748932 -0.658689 -0.255980\n",
       "2 -0.255790 -0.512368  0.097587\n",
       "3  0.905182 -1.775205 -0.077074\n",
       "4  2.312536  1.948695 -0.786587"
      ]
     },
     "execution_count": 46,
     "metadata": {},
     "output_type": "execute_result"
    }
   ],
   "source": [
    "data5.sort_values(by=['col1'])"
   ]
  },
  {
   "cell_type": "code",
   "execution_count": null,
   "id": "acd0229b-7843-44a4-ab1b-e7e20a35da41",
   "metadata": {},
   "outputs": [],
   "source": []
  }
 ],
 "metadata": {
  "kernelspec": {
   "display_name": "Python 3 (ipykernel)",
   "language": "python",
   "name": "python3"
  },
  "language_info": {
   "codemirror_mode": {
    "name": "ipython",
    "version": 3
   },
   "file_extension": ".py",
   "mimetype": "text/x-python",
   "name": "python",
   "nbconvert_exporter": "python",
   "pygments_lexer": "ipython3",
   "version": "3.12.4"
  }
 },
 "nbformat": 4,
 "nbformat_minor": 5
}
