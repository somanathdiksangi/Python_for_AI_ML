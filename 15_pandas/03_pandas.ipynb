{
 "cells": [
  {
   "cell_type": "markdown",
   "id": "d093aed4-6769-428a-807e-40beed81d0f1",
   "metadata": {},
   "source": [
    "## pandas 3"
   ]
  },
  {
   "cell_type": "code",
   "execution_count": 3,
   "id": "0aa55ae5-3737-4b51-9b23-730c7ab991da",
   "metadata": {},
   "outputs": [],
   "source": [
    "import pandas as pd"
   ]
  },
  {
   "cell_type": "code",
   "execution_count": 37,
   "id": "a90fff7a-14d0-4c90-bddf-690bc70d722e",
   "metadata": {},
   "outputs": [],
   "source": [
    "## reindex()"
   ]
  },
  {
   "cell_type": "code",
   "execution_count": null,
   "id": "497ce851-e910-4814-90ed-71efd135d8ac",
   "metadata": {},
   "outputs": [],
   "source": [
    "pandas reindex function create a new index nan value untill we are \n",
    "not passing the logic for filling the value "
   ]
  },
  {
   "cell_type": "code",
   "execution_count": 7,
   "id": "ab41b2fa-0895-4460-adba-9398fc1f0070",
   "metadata": {},
   "outputs": [
    {
     "name": "stdout",
     "output_type": "stream",
     "text": [
      "            courses    fee  duration  discount\n",
      "0            Python   5000  3 months        10\n",
      "1      Data Science  10000  6 months        15\n",
      "2  Machine Learning  12000  4 months        20\n",
      "3   Web Development   8000  5 months        10\n"
     ]
    }
   ],
   "source": [
    "\n",
    "\n",
    "# Create a dataset\n",
    "data = {\n",
    "    \"courses\": [\"Python\", \"Data Science\", \"Machine Learning\", \"Web Development\"],\n",
    "    \"fee\": [5000, 10000, 12000, 8000],\n",
    "    \"duration\": [\"3 months\", \"6 months\", \"4 months\", \"5 months\"],\n",
    "    \"discount\": [10, 15, 20, 10]\n",
    "}\n",
    "\n",
    "# Convert the dataset into a DataFrame\n",
    "df = pd.DataFrame(data)\n",
    "\n",
    "# Display the DataFrame\n",
    "print(df)\n"
   ]
  },
  {
   "cell_type": "code",
   "execution_count": 8,
   "id": "05dd1e23-c66c-4a8d-ab55-3b5109be4fb9",
   "metadata": {},
   "outputs": [],
   "source": [
    "df2=df.reindex([\"r1\",1,\"r3\",\"r4\"])"
   ]
  },
  {
   "cell_type": "code",
   "execution_count": 9,
   "id": "db885f42-e390-460b-8d24-d469c7c55a2c",
   "metadata": {},
   "outputs": [
    {
     "data": {
      "text/html": [
       "<div>\n",
       "<style scoped>\n",
       "    .dataframe tbody tr th:only-of-type {\n",
       "        vertical-align: middle;\n",
       "    }\n",
       "\n",
       "    .dataframe tbody tr th {\n",
       "        vertical-align: top;\n",
       "    }\n",
       "\n",
       "    .dataframe thead th {\n",
       "        text-align: right;\n",
       "    }\n",
       "</style>\n",
       "<table border=\"1\" class=\"dataframe\">\n",
       "  <thead>\n",
       "    <tr style=\"text-align: right;\">\n",
       "      <th></th>\n",
       "      <th>courses</th>\n",
       "      <th>fee</th>\n",
       "      <th>duration</th>\n",
       "      <th>discount</th>\n",
       "    </tr>\n",
       "  </thead>\n",
       "  <tbody>\n",
       "    <tr>\n",
       "      <th>r1</th>\n",
       "      <td>NaN</td>\n",
       "      <td>NaN</td>\n",
       "      <td>NaN</td>\n",
       "      <td>NaN</td>\n",
       "    </tr>\n",
       "    <tr>\n",
       "      <th>1</th>\n",
       "      <td>Data Science</td>\n",
       "      <td>10000.0</td>\n",
       "      <td>6 months</td>\n",
       "      <td>15.0</td>\n",
       "    </tr>\n",
       "    <tr>\n",
       "      <th>r3</th>\n",
       "      <td>NaN</td>\n",
       "      <td>NaN</td>\n",
       "      <td>NaN</td>\n",
       "      <td>NaN</td>\n",
       "    </tr>\n",
       "    <tr>\n",
       "      <th>r4</th>\n",
       "      <td>NaN</td>\n",
       "      <td>NaN</td>\n",
       "      <td>NaN</td>\n",
       "      <td>NaN</td>\n",
       "    </tr>\n",
       "  </tbody>\n",
       "</table>\n",
       "</div>"
      ],
      "text/plain": [
       "         courses      fee  duration  discount\n",
       "r1           NaN      NaN       NaN       NaN\n",
       "1   Data Science  10000.0  6 months      15.0\n",
       "r3           NaN      NaN       NaN       NaN\n",
       "r4           NaN      NaN       NaN       NaN"
      ]
     },
     "execution_count": 9,
     "metadata": {},
     "output_type": "execute_result"
    }
   ],
   "source": [
    "df2"
   ]
  },
  {
   "cell_type": "code",
   "execution_count": 10,
   "id": "3bf50f89-d44d-4058-89d1-8769282de1b5",
   "metadata": {},
   "outputs": [],
   "source": [
    "df2=df.reindex([\"r1\",1,\"r3\",\"r4\"],fill_value=\"teasting\")"
   ]
  },
  {
   "cell_type": "code",
   "execution_count": 11,
   "id": "a6487d60-1c46-49a6-ba4b-695ace344ba6",
   "metadata": {},
   "outputs": [
    {
     "data": {
      "text/html": [
       "<div>\n",
       "<style scoped>\n",
       "    .dataframe tbody tr th:only-of-type {\n",
       "        vertical-align: middle;\n",
       "    }\n",
       "\n",
       "    .dataframe tbody tr th {\n",
       "        vertical-align: top;\n",
       "    }\n",
       "\n",
       "    .dataframe thead th {\n",
       "        text-align: right;\n",
       "    }\n",
       "</style>\n",
       "<table border=\"1\" class=\"dataframe\">\n",
       "  <thead>\n",
       "    <tr style=\"text-align: right;\">\n",
       "      <th></th>\n",
       "      <th>courses</th>\n",
       "      <th>fee</th>\n",
       "      <th>duration</th>\n",
       "      <th>discount</th>\n",
       "    </tr>\n",
       "  </thead>\n",
       "  <tbody>\n",
       "    <tr>\n",
       "      <th>r1</th>\n",
       "      <td>teasting</td>\n",
       "      <td>teasting</td>\n",
       "      <td>teasting</td>\n",
       "      <td>teasting</td>\n",
       "    </tr>\n",
       "    <tr>\n",
       "      <th>1</th>\n",
       "      <td>Data Science</td>\n",
       "      <td>10000</td>\n",
       "      <td>6 months</td>\n",
       "      <td>15</td>\n",
       "    </tr>\n",
       "    <tr>\n",
       "      <th>r3</th>\n",
       "      <td>teasting</td>\n",
       "      <td>teasting</td>\n",
       "      <td>teasting</td>\n",
       "      <td>teasting</td>\n",
       "    </tr>\n",
       "    <tr>\n",
       "      <th>r4</th>\n",
       "      <td>teasting</td>\n",
       "      <td>teasting</td>\n",
       "      <td>teasting</td>\n",
       "      <td>teasting</td>\n",
       "    </tr>\n",
       "  </tbody>\n",
       "</table>\n",
       "</div>"
      ],
      "text/plain": [
       "         courses       fee  duration  discount\n",
       "r1      teasting  teasting  teasting  teasting\n",
       "1   Data Science     10000  6 months        15\n",
       "r3      teasting  teasting  teasting  teasting\n",
       "r4      teasting  teasting  teasting  teasting"
      ]
     },
     "execution_count": 11,
     "metadata": {},
     "output_type": "execute_result"
    }
   ],
   "source": [
    "df2"
   ]
  },
  {
   "cell_type": "code",
   "execution_count": 13,
   "id": "d421ee60-7fcf-4376-8998-215c8250ea97",
   "metadata": {},
   "outputs": [
    {
     "data": {
      "text/html": [
       "<div>\n",
       "<style scoped>\n",
       "    .dataframe tbody tr th:only-of-type {\n",
       "        vertical-align: middle;\n",
       "    }\n",
       "\n",
       "    .dataframe tbody tr th {\n",
       "        vertical-align: top;\n",
       "    }\n",
       "\n",
       "    .dataframe thead th {\n",
       "        text-align: right;\n",
       "    }\n",
       "</style>\n",
       "<table border=\"1\" class=\"dataframe\">\n",
       "  <thead>\n",
       "    <tr style=\"text-align: right;\">\n",
       "      <th></th>\n",
       "      <th>courses</th>\n",
       "      <th>fee</th>\n",
       "      <th>duration</th>\n",
       "      <th>discount</th>\n",
       "    </tr>\n",
       "  </thead>\n",
       "  <tbody>\n",
       "    <tr>\n",
       "      <th>0</th>\n",
       "      <td>Python</td>\n",
       "      <td>5000</td>\n",
       "      <td>3 months</td>\n",
       "      <td>10</td>\n",
       "    </tr>\n",
       "    <tr>\n",
       "      <th>1</th>\n",
       "      <td>Data Science</td>\n",
       "      <td>10000</td>\n",
       "      <td>6 months</td>\n",
       "      <td>15</td>\n",
       "    </tr>\n",
       "    <tr>\n",
       "      <th>2</th>\n",
       "      <td>Machine Learning</td>\n",
       "      <td>12000</td>\n",
       "      <td>4 months</td>\n",
       "      <td>20</td>\n",
       "    </tr>\n",
       "    <tr>\n",
       "      <th>3</th>\n",
       "      <td>Web Development</td>\n",
       "      <td>8000</td>\n",
       "      <td>5 months</td>\n",
       "      <td>10</td>\n",
       "    </tr>\n",
       "  </tbody>\n",
       "</table>\n",
       "</div>"
      ],
      "text/plain": [
       "            courses    fee  duration  discount\n",
       "0            Python   5000  3 months        10\n",
       "1      Data Science  10000  6 months        15\n",
       "2  Machine Learning  12000  4 months        20\n",
       "3   Web Development   8000  5 months        10"
      ]
     },
     "execution_count": 13,
     "metadata": {},
     "output_type": "execute_result"
    }
   ],
   "source": [
    "df"
   ]
  },
  {
   "cell_type": "markdown",
   "id": "2da14fd9-1989-4937-820a-603d3b0d186a",
   "metadata": {},
   "source": [
    "## slice the data from the dataframe\n",
    "## loc(location)\n",
    "## iloc(int location)"
   ]
  },
  {
   "cell_type": "code",
   "execution_count": 15,
   "id": "157bd2a3-3f7d-4b32-906e-e776b6d2a854",
   "metadata": {},
   "outputs": [
    {
     "ename": "NameError",
     "evalue": "name 'np' is not defined",
     "output_type": "error",
     "traceback": [
      "\u001b[1;31m---------------------------------------------------------------------------\u001b[0m",
      "\u001b[1;31mNameError\u001b[0m                                 Traceback (most recent call last)",
      "Cell \u001b[1;32mIn[15], line 1\u001b[0m\n\u001b[1;32m----> 1\u001b[0m df2\u001b[38;5;241m=\u001b[39m\u001b[43mnp\u001b[49m\u001b[38;5;241m.\u001b[39mramdon\u001b[38;5;241m.\u001b[39mrandn(\u001b[38;5;241m8\u001b[39m,\u001b[38;5;241m4\u001b[39m)\n",
      "\u001b[1;31mNameError\u001b[0m: name 'np' is not defined"
     ]
    }
   ],
   "source": [
    "df2=np.ramdon.randn(8,4)"
   ]
  },
  {
   "cell_type": "code",
   "execution_count": 16,
   "id": "238fd35f-7623-461c-85ba-b9b0a7a5d254",
   "metadata": {},
   "outputs": [],
   "source": [
    "import numpy as np"
   ]
  },
  {
   "cell_type": "code",
   "execution_count": 17,
   "id": "5ee4732f-d7fe-4165-b630-9974e3631e3f",
   "metadata": {},
   "outputs": [],
   "source": [
    "df2=np.random.randn(8,4)"
   ]
  },
  {
   "cell_type": "code",
   "execution_count": 18,
   "id": "0138bec1-3fd4-4bc4-9a8a-5663f2308c48",
   "metadata": {},
   "outputs": [],
   "source": [
    "df2=pd.DataFrame(np.random.randn(8,4),index=[\"a\",\"b\",\"c\",\"d\",\"e\",\"f\",\"g\",\"h\"],columns=[\"A\",\"B\",\"C\",\"D\"])"
   ]
  },
  {
   "cell_type": "code",
   "execution_count": 19,
   "id": "fa5df930-82bf-46b7-ac45-282dba515f55",
   "metadata": {},
   "outputs": [
    {
     "data": {
      "text/html": [
       "<div>\n",
       "<style scoped>\n",
       "    .dataframe tbody tr th:only-of-type {\n",
       "        vertical-align: middle;\n",
       "    }\n",
       "\n",
       "    .dataframe tbody tr th {\n",
       "        vertical-align: top;\n",
       "    }\n",
       "\n",
       "    .dataframe thead th {\n",
       "        text-align: right;\n",
       "    }\n",
       "</style>\n",
       "<table border=\"1\" class=\"dataframe\">\n",
       "  <thead>\n",
       "    <tr style=\"text-align: right;\">\n",
       "      <th></th>\n",
       "      <th>A</th>\n",
       "      <th>B</th>\n",
       "      <th>C</th>\n",
       "      <th>D</th>\n",
       "    </tr>\n",
       "  </thead>\n",
       "  <tbody>\n",
       "    <tr>\n",
       "      <th>a</th>\n",
       "      <td>-1.406516</td>\n",
       "      <td>-0.518071</td>\n",
       "      <td>0.020970</td>\n",
       "      <td>-0.108598</td>\n",
       "    </tr>\n",
       "    <tr>\n",
       "      <th>b</th>\n",
       "      <td>1.117979</td>\n",
       "      <td>1.660556</td>\n",
       "      <td>-0.405748</td>\n",
       "      <td>0.215044</td>\n",
       "    </tr>\n",
       "    <tr>\n",
       "      <th>c</th>\n",
       "      <td>-0.289073</td>\n",
       "      <td>-0.747950</td>\n",
       "      <td>0.083213</td>\n",
       "      <td>-0.699778</td>\n",
       "    </tr>\n",
       "    <tr>\n",
       "      <th>d</th>\n",
       "      <td>-0.257283</td>\n",
       "      <td>-0.132770</td>\n",
       "      <td>0.211288</td>\n",
       "      <td>-1.436809</td>\n",
       "    </tr>\n",
       "    <tr>\n",
       "      <th>e</th>\n",
       "      <td>0.016966</td>\n",
       "      <td>-0.847879</td>\n",
       "      <td>-0.385437</td>\n",
       "      <td>1.047889</td>\n",
       "    </tr>\n",
       "    <tr>\n",
       "      <th>f</th>\n",
       "      <td>-0.990282</td>\n",
       "      <td>1.357602</td>\n",
       "      <td>0.762508</td>\n",
       "      <td>2.307366</td>\n",
       "    </tr>\n",
       "    <tr>\n",
       "      <th>g</th>\n",
       "      <td>0.065573</td>\n",
       "      <td>-0.387978</td>\n",
       "      <td>1.127632</td>\n",
       "      <td>0.227206</td>\n",
       "    </tr>\n",
       "    <tr>\n",
       "      <th>h</th>\n",
       "      <td>-0.192528</td>\n",
       "      <td>0.570026</td>\n",
       "      <td>-0.111038</td>\n",
       "      <td>0.499376</td>\n",
       "    </tr>\n",
       "  </tbody>\n",
       "</table>\n",
       "</div>"
      ],
      "text/plain": [
       "          A         B         C         D\n",
       "a -1.406516 -0.518071  0.020970 -0.108598\n",
       "b  1.117979  1.660556 -0.405748  0.215044\n",
       "c -0.289073 -0.747950  0.083213 -0.699778\n",
       "d -0.257283 -0.132770  0.211288 -1.436809\n",
       "e  0.016966 -0.847879 -0.385437  1.047889\n",
       "f -0.990282  1.357602  0.762508  2.307366\n",
       "g  0.065573 -0.387978  1.127632  0.227206\n",
       "h -0.192528  0.570026 -0.111038  0.499376"
      ]
     },
     "execution_count": 19,
     "metadata": {},
     "output_type": "execute_result"
    }
   ],
   "source": [
    "df2"
   ]
  },
  {
   "cell_type": "code",
   "execution_count": 38,
   "id": "2194a0ad-ec86-4429-b4bb-19c68c3bd77f",
   "metadata": {},
   "outputs": [],
   "source": [
    "## df2.loc[row,cols]"
   ]
  },
  {
   "cell_type": "code",
   "execution_count": 21,
   "id": "9cae3d3a-1879-44a6-b8bf-b0caa7699474",
   "metadata": {},
   "outputs": [
    {
     "data": {
      "text/html": [
       "<div>\n",
       "<style scoped>\n",
       "    .dataframe tbody tr th:only-of-type {\n",
       "        vertical-align: middle;\n",
       "    }\n",
       "\n",
       "    .dataframe tbody tr th {\n",
       "        vertical-align: top;\n",
       "    }\n",
       "\n",
       "    .dataframe thead th {\n",
       "        text-align: right;\n",
       "    }\n",
       "</style>\n",
       "<table border=\"1\" class=\"dataframe\">\n",
       "  <thead>\n",
       "    <tr style=\"text-align: right;\">\n",
       "      <th></th>\n",
       "      <th>A</th>\n",
       "      <th>B</th>\n",
       "    </tr>\n",
       "  </thead>\n",
       "  <tbody>\n",
       "    <tr>\n",
       "      <th>a</th>\n",
       "      <td>-1.406516</td>\n",
       "      <td>-0.518071</td>\n",
       "    </tr>\n",
       "    <tr>\n",
       "      <th>b</th>\n",
       "      <td>1.117979</td>\n",
       "      <td>1.660556</td>\n",
       "    </tr>\n",
       "    <tr>\n",
       "      <th>c</th>\n",
       "      <td>-0.289073</td>\n",
       "      <td>-0.747950</td>\n",
       "    </tr>\n",
       "    <tr>\n",
       "      <th>d</th>\n",
       "      <td>-0.257283</td>\n",
       "      <td>-0.132770</td>\n",
       "    </tr>\n",
       "    <tr>\n",
       "      <th>e</th>\n",
       "      <td>0.016966</td>\n",
       "      <td>-0.847879</td>\n",
       "    </tr>\n",
       "    <tr>\n",
       "      <th>f</th>\n",
       "      <td>-0.990282</td>\n",
       "      <td>1.357602</td>\n",
       "    </tr>\n",
       "    <tr>\n",
       "      <th>g</th>\n",
       "      <td>0.065573</td>\n",
       "      <td>-0.387978</td>\n",
       "    </tr>\n",
       "    <tr>\n",
       "      <th>h</th>\n",
       "      <td>-0.192528</td>\n",
       "      <td>0.570026</td>\n",
       "    </tr>\n",
       "  </tbody>\n",
       "</table>\n",
       "</div>"
      ],
      "text/plain": [
       "          A         B\n",
       "a -1.406516 -0.518071\n",
       "b  1.117979  1.660556\n",
       "c -0.289073 -0.747950\n",
       "d -0.257283 -0.132770\n",
       "e  0.016966 -0.847879\n",
       "f -0.990282  1.357602\n",
       "g  0.065573 -0.387978\n",
       "h -0.192528  0.570026"
      ]
     },
     "execution_count": 21,
     "metadata": {},
     "output_type": "execute_result"
    }
   ],
   "source": [
    "df2.loc[:,[\"A\",\"B\"]]"
   ]
  },
  {
   "cell_type": "code",
   "execution_count": 22,
   "id": "58b7e50f-0310-48d9-ac70-c0975b098bc4",
   "metadata": {},
   "outputs": [
    {
     "data": {
      "text/html": [
       "<div>\n",
       "<style scoped>\n",
       "    .dataframe tbody tr th:only-of-type {\n",
       "        vertical-align: middle;\n",
       "    }\n",
       "\n",
       "    .dataframe tbody tr th {\n",
       "        vertical-align: top;\n",
       "    }\n",
       "\n",
       "    .dataframe thead th {\n",
       "        text-align: right;\n",
       "    }\n",
       "</style>\n",
       "<table border=\"1\" class=\"dataframe\">\n",
       "  <thead>\n",
       "    <tr style=\"text-align: right;\">\n",
       "      <th></th>\n",
       "      <th>A</th>\n",
       "      <th>B</th>\n",
       "    </tr>\n",
       "  </thead>\n",
       "  <tbody>\n",
       "    <tr>\n",
       "      <th>a</th>\n",
       "      <td>-1.406516</td>\n",
       "      <td>-0.518071</td>\n",
       "    </tr>\n",
       "    <tr>\n",
       "      <th>b</th>\n",
       "      <td>1.117979</td>\n",
       "      <td>1.660556</td>\n",
       "    </tr>\n",
       "    <tr>\n",
       "      <th>g</th>\n",
       "      <td>0.065573</td>\n",
       "      <td>-0.387978</td>\n",
       "    </tr>\n",
       "    <tr>\n",
       "      <th>h</th>\n",
       "      <td>-0.192528</td>\n",
       "      <td>0.570026</td>\n",
       "    </tr>\n",
       "  </tbody>\n",
       "</table>\n",
       "</div>"
      ],
      "text/plain": [
       "          A         B\n",
       "a -1.406516 -0.518071\n",
       "b  1.117979  1.660556\n",
       "g  0.065573 -0.387978\n",
       "h -0.192528  0.570026"
      ]
     },
     "execution_count": 22,
     "metadata": {},
     "output_type": "execute_result"
    }
   ],
   "source": [
    "df2.loc[[\"a\",\"b\",\"g\",\"h\"],['A','B']]"
   ]
  },
  {
   "cell_type": "code",
   "execution_count": 23,
   "id": "ad415160-aa07-422b-adf4-4f5783101e93",
   "metadata": {},
   "outputs": [
    {
     "data": {
      "text/plain": [
       "A    False\n",
       "B    False\n",
       "C     True\n",
       "D    False\n",
       "Name: a, dtype: bool"
      ]
     },
     "execution_count": 23,
     "metadata": {},
     "output_type": "execute_result"
    }
   ],
   "source": [
    "df2.loc['a']>0"
   ]
  },
  {
   "cell_type": "markdown",
   "id": "4075c15c-57a5-4ea9-b69b-1c51b8d10338",
   "metadata": {},
   "source": [
    "## iloc-->> integer location"
   ]
  },
  {
   "cell_type": "code",
   "execution_count": 27,
   "id": "35dcba78-dd1b-48a0-8baf-29f397267077",
   "metadata": {
    "jp-MarkdownHeadingCollapsed": true
   },
   "outputs": [
    {
     "data": {
      "text/html": [
       "<div>\n",
       "<style scoped>\n",
       "    .dataframe tbody tr th:only-of-type {\n",
       "        vertical-align: middle;\n",
       "    }\n",
       "\n",
       "    .dataframe tbody tr th {\n",
       "        vertical-align: top;\n",
       "    }\n",
       "\n",
       "    .dataframe thead th {\n",
       "        text-align: right;\n",
       "    }\n",
       "</style>\n",
       "<table border=\"1\" class=\"dataframe\">\n",
       "  <thead>\n",
       "    <tr style=\"text-align: right;\">\n",
       "      <th></th>\n",
       "      <th>A</th>\n",
       "      <th>B</th>\n",
       "      <th>C</th>\n",
       "      <th>D</th>\n",
       "    </tr>\n",
       "  </thead>\n",
       "  <tbody>\n",
       "    <tr>\n",
       "      <th>a</th>\n",
       "      <td>-1.406516</td>\n",
       "      <td>-0.518071</td>\n",
       "      <td>0.020970</td>\n",
       "      <td>-0.108598</td>\n",
       "    </tr>\n",
       "    <tr>\n",
       "      <th>b</th>\n",
       "      <td>1.117979</td>\n",
       "      <td>1.660556</td>\n",
       "      <td>-0.405748</td>\n",
       "      <td>0.215044</td>\n",
       "    </tr>\n",
       "    <tr>\n",
       "      <th>c</th>\n",
       "      <td>-0.289073</td>\n",
       "      <td>-0.747950</td>\n",
       "      <td>0.083213</td>\n",
       "      <td>-0.699778</td>\n",
       "    </tr>\n",
       "    <tr>\n",
       "      <th>d</th>\n",
       "      <td>-0.257283</td>\n",
       "      <td>-0.132770</td>\n",
       "      <td>0.211288</td>\n",
       "      <td>-1.436809</td>\n",
       "    </tr>\n",
       "    <tr>\n",
       "      <th>e</th>\n",
       "      <td>0.016966</td>\n",
       "      <td>-0.847879</td>\n",
       "      <td>-0.385437</td>\n",
       "      <td>1.047889</td>\n",
       "    </tr>\n",
       "    <tr>\n",
       "      <th>f</th>\n",
       "      <td>-0.990282</td>\n",
       "      <td>1.357602</td>\n",
       "      <td>0.762508</td>\n",
       "      <td>2.307366</td>\n",
       "    </tr>\n",
       "    <tr>\n",
       "      <th>g</th>\n",
       "      <td>0.065573</td>\n",
       "      <td>-0.387978</td>\n",
       "      <td>1.127632</td>\n",
       "      <td>0.227206</td>\n",
       "    </tr>\n",
       "    <tr>\n",
       "      <th>h</th>\n",
       "      <td>-0.192528</td>\n",
       "      <td>0.570026</td>\n",
       "      <td>-0.111038</td>\n",
       "      <td>0.499376</td>\n",
       "    </tr>\n",
       "  </tbody>\n",
       "</table>\n",
       "</div>"
      ],
      "text/plain": [
       "          A         B         C         D\n",
       "a -1.406516 -0.518071  0.020970 -0.108598\n",
       "b  1.117979  1.660556 -0.405748  0.215044\n",
       "c -0.289073 -0.747950  0.083213 -0.699778\n",
       "d -0.257283 -0.132770  0.211288 -1.436809\n",
       "e  0.016966 -0.847879 -0.385437  1.047889\n",
       "f -0.990282  1.357602  0.762508  2.307366\n",
       "g  0.065573 -0.387978  1.127632  0.227206\n",
       "h -0.192528  0.570026 -0.111038  0.499376"
      ]
     },
     "execution_count": 27,
     "metadata": {},
     "output_type": "execute_result"
    }
   ],
   "source": [
    "df2"
   ]
  },
  {
   "cell_type": "code",
   "execution_count": 29,
   "id": "a260fa38-48bd-4147-aaa7-988178abfad0",
   "metadata": {},
   "outputs": [
    {
     "data": {
      "text/plain": [
       "0.02097024847872197"
      ]
     },
     "execution_count": 29,
     "metadata": {},
     "output_type": "execute_result"
    }
   ],
   "source": [
    "df2.loc['a','C']"
   ]
  },
  {
   "cell_type": "code",
   "execution_count": 30,
   "id": "f4bc2e59-4680-4a23-9e1c-9858fd3e8e82",
   "metadata": {},
   "outputs": [
    {
     "data": {
      "text/plain": [
       "-0.10859751168633011"
      ]
     },
     "execution_count": 30,
     "metadata": {},
     "output_type": "execute_result"
    }
   ],
   "source": [
    "df2.iloc[0,3]"
   ]
  },
  {
   "cell_type": "code",
   "execution_count": 33,
   "id": "015bfca0-2ecd-4c65-8efd-c4f60d689bb8",
   "metadata": {},
   "outputs": [
    {
     "data": {
      "text/html": [
       "<div>\n",
       "<style scoped>\n",
       "    .dataframe tbody tr th:only-of-type {\n",
       "        vertical-align: middle;\n",
       "    }\n",
       "\n",
       "    .dataframe tbody tr th {\n",
       "        vertical-align: top;\n",
       "    }\n",
       "\n",
       "    .dataframe thead th {\n",
       "        text-align: right;\n",
       "    }\n",
       "</style>\n",
       "<table border=\"1\" class=\"dataframe\">\n",
       "  <thead>\n",
       "    <tr style=\"text-align: right;\">\n",
       "      <th></th>\n",
       "      <th>A</th>\n",
       "      <th>B</th>\n",
       "      <th>C</th>\n",
       "      <th>D</th>\n",
       "    </tr>\n",
       "  </thead>\n",
       "  <tbody>\n",
       "    <tr>\n",
       "      <th>a</th>\n",
       "      <td>-1.406516</td>\n",
       "      <td>-0.518071</td>\n",
       "      <td>0.020970</td>\n",
       "      <td>-0.108598</td>\n",
       "    </tr>\n",
       "    <tr>\n",
       "      <th>b</th>\n",
       "      <td>1.117979</td>\n",
       "      <td>1.660556</td>\n",
       "      <td>-0.405748</td>\n",
       "      <td>0.215044</td>\n",
       "    </tr>\n",
       "    <tr>\n",
       "      <th>c</th>\n",
       "      <td>-0.289073</td>\n",
       "      <td>-0.747950</td>\n",
       "      <td>0.083213</td>\n",
       "      <td>-0.699778</td>\n",
       "    </tr>\n",
       "    <tr>\n",
       "      <th>d</th>\n",
       "      <td>-0.257283</td>\n",
       "      <td>-0.132770</td>\n",
       "      <td>0.211288</td>\n",
       "      <td>-1.436809</td>\n",
       "    </tr>\n",
       "  </tbody>\n",
       "</table>\n",
       "</div>"
      ],
      "text/plain": [
       "          A         B         C         D\n",
       "a -1.406516 -0.518071  0.020970 -0.108598\n",
       "b  1.117979  1.660556 -0.405748  0.215044\n",
       "c -0.289073 -0.747950  0.083213 -0.699778\n",
       "d -0.257283 -0.132770  0.211288 -1.436809"
      ]
     },
     "execution_count": 33,
     "metadata": {},
     "output_type": "execute_result"
    }
   ],
   "source": [
    "df2.iloc[:4]"
   ]
  },
  {
   "cell_type": "code",
   "execution_count": 35,
   "id": "ff463252-d6a1-4ab6-b38f-34a6716c2f62",
   "metadata": {},
   "outputs": [
    {
     "data": {
      "text/html": [
       "<div>\n",
       "<style scoped>\n",
       "    .dataframe tbody tr th:only-of-type {\n",
       "        vertical-align: middle;\n",
       "    }\n",
       "\n",
       "    .dataframe tbody tr th {\n",
       "        vertical-align: top;\n",
       "    }\n",
       "\n",
       "    .dataframe thead th {\n",
       "        text-align: right;\n",
       "    }\n",
       "</style>\n",
       "<table border=\"1\" class=\"dataframe\">\n",
       "  <thead>\n",
       "    <tr style=\"text-align: right;\">\n",
       "      <th></th>\n",
       "      <th>C</th>\n",
       "      <th>D</th>\n",
       "    </tr>\n",
       "  </thead>\n",
       "  <tbody>\n",
       "    <tr>\n",
       "      <th>b</th>\n",
       "      <td>-0.405748</td>\n",
       "      <td>0.215044</td>\n",
       "    </tr>\n",
       "    <tr>\n",
       "      <th>c</th>\n",
       "      <td>0.083213</td>\n",
       "      <td>-0.699778</td>\n",
       "    </tr>\n",
       "    <tr>\n",
       "      <th>d</th>\n",
       "      <td>0.211288</td>\n",
       "      <td>-1.436809</td>\n",
       "    </tr>\n",
       "    <tr>\n",
       "      <th>e</th>\n",
       "      <td>-0.385437</td>\n",
       "      <td>1.047889</td>\n",
       "    </tr>\n",
       "  </tbody>\n",
       "</table>\n",
       "</div>"
      ],
      "text/plain": [
       "          C         D\n",
       "b -0.405748  0.215044\n",
       "c  0.083213 -0.699778\n",
       "d  0.211288 -1.436809\n",
       "e -0.385437  1.047889"
      ]
     },
     "execution_count": 35,
     "metadata": {},
     "output_type": "execute_result"
    }
   ],
   "source": [
    "df2.iloc[1:5,2:4] # n-1"
   ]
  },
  {
   "cell_type": "code",
   "execution_count": 36,
   "id": "03c0828c-ea78-441a-a7c8-e6b0fd2f816a",
   "metadata": {},
   "outputs": [
    {
     "data": {
      "text/html": [
       "<div>\n",
       "<style scoped>\n",
       "    .dataframe tbody tr th:only-of-type {\n",
       "        vertical-align: middle;\n",
       "    }\n",
       "\n",
       "    .dataframe tbody tr th {\n",
       "        vertical-align: top;\n",
       "    }\n",
       "\n",
       "    .dataframe thead th {\n",
       "        text-align: right;\n",
       "    }\n",
       "</style>\n",
       "<table border=\"1\" class=\"dataframe\">\n",
       "  <thead>\n",
       "    <tr style=\"text-align: right;\">\n",
       "      <th></th>\n",
       "      <th>B</th>\n",
       "      <th>C</th>\n",
       "    </tr>\n",
       "  </thead>\n",
       "  <tbody>\n",
       "    <tr>\n",
       "      <th>a</th>\n",
       "      <td>-0.518071</td>\n",
       "      <td>0.020970</td>\n",
       "    </tr>\n",
       "    <tr>\n",
       "      <th>b</th>\n",
       "      <td>1.660556</td>\n",
       "      <td>-0.405748</td>\n",
       "    </tr>\n",
       "    <tr>\n",
       "      <th>c</th>\n",
       "      <td>-0.747950</td>\n",
       "      <td>0.083213</td>\n",
       "    </tr>\n",
       "    <tr>\n",
       "      <th>d</th>\n",
       "      <td>-0.132770</td>\n",
       "      <td>0.211288</td>\n",
       "    </tr>\n",
       "    <tr>\n",
       "      <th>e</th>\n",
       "      <td>-0.847879</td>\n",
       "      <td>-0.385437</td>\n",
       "    </tr>\n",
       "    <tr>\n",
       "      <th>f</th>\n",
       "      <td>1.357602</td>\n",
       "      <td>0.762508</td>\n",
       "    </tr>\n",
       "    <tr>\n",
       "      <th>g</th>\n",
       "      <td>-0.387978</td>\n",
       "      <td>1.127632</td>\n",
       "    </tr>\n",
       "    <tr>\n",
       "      <th>h</th>\n",
       "      <td>0.570026</td>\n",
       "      <td>-0.111038</td>\n",
       "    </tr>\n",
       "  </tbody>\n",
       "</table>\n",
       "</div>"
      ],
      "text/plain": [
       "          B         C\n",
       "a -0.518071  0.020970\n",
       "b  1.660556 -0.405748\n",
       "c -0.747950  0.083213\n",
       "d -0.132770  0.211288\n",
       "e -0.847879 -0.385437\n",
       "f  1.357602  0.762508\n",
       "g -0.387978  1.127632\n",
       "h  0.570026 -0.111038"
      ]
     },
     "execution_count": 36,
     "metadata": {},
     "output_type": "execute_result"
    }
   ],
   "source": [
    "df2.iloc[:,1:3]"
   ]
  },
  {
   "cell_type": "code",
   "execution_count": null,
   "id": "08114342-f67d-42ab-9323-aff5f6e89efe",
   "metadata": {},
   "outputs": [],
   "source": []
  }
 ],
 "metadata": {
  "kernelspec": {
   "display_name": "Python 3 (ipykernel)",
   "language": "python",
   "name": "python3"
  },
  "language_info": {
   "codemirror_mode": {
    "name": "ipython",
    "version": 3
   },
   "file_extension": ".py",
   "mimetype": "text/x-python",
   "name": "python",
   "nbconvert_exporter": "python",
   "pygments_lexer": "ipython3",
   "version": "3.12.4"
  }
 },
 "nbformat": 4,
 "nbformat_minor": 5
}
