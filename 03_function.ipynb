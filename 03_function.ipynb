{
 "cells": [
  {
   "cell_type": "markdown",
   "id": "24242858-96d7-444c-aa8d-e79fe7bf57c9",
   "metadata": {},
   "source": [
    "#local and global variable "
   ]
  },
  {
   "cell_type": "code",
   "execution_count": 12,
   "id": "cd195747-67f2-43c8-b26b-0cbfedb049b7",
   "metadata": {},
   "outputs": [
    {
     "name": "stdout",
     "output_type": "stream",
     "text": [
      "i love py\n"
     ]
    }
   ],
   "source": [
    "s=\"i love py\"\n",
    "def f():\n",
    "    print(s)\n",
    "\n",
    "f()"
   ]
  },
  {
   "cell_type": "code",
   "execution_count": 13,
   "id": "7e960899-d74b-446f-9c90-26ba7a8db833",
   "metadata": {},
   "outputs": [
    {
     "name": "stdout",
     "output_type": "stream",
     "text": [
      "i love py\n"
     ]
    }
   ],
   "source": [
    "def f():\n",
    "    print(s)\n",
    "\n",
    "s=\"i love py\" #global variable\n",
    "f()\n"
   ]
  },
  {
   "cell_type": "code",
   "execution_count": 14,
   "id": "a58953da-73c0-4f44-b107-00e222409a59",
   "metadata": {},
   "outputs": [
    {
     "ename": "NameError",
     "evalue": "name 'y' is not defined",
     "output_type": "error",
     "traceback": [
      "\u001b[1;31m---------------------------------------------------------------------------\u001b[0m",
      "\u001b[1;31mNameError\u001b[0m                                 Traceback (most recent call last)",
      "Cell \u001b[1;32mIn[14], line 4\u001b[0m\n\u001b[0;32m      1\u001b[0m \u001b[38;5;28;01mdef\u001b[39;00m \u001b[38;5;21mf\u001b[39m():\n\u001b[0;32m      2\u001b[0m     \u001b[38;5;28mprint\u001b[39m(y)\n\u001b[1;32m----> 4\u001b[0m \u001b[43mf\u001b[49m\u001b[43m(\u001b[49m\u001b[43m)\u001b[49m\n\u001b[0;32m      5\u001b[0m y\u001b[38;5;241m=\u001b[39m\u001b[38;5;124m\"\u001b[39m\u001b[38;5;124mi love py\u001b[39m\u001b[38;5;124m\"\u001b[39m\n",
      "Cell \u001b[1;32mIn[14], line 2\u001b[0m, in \u001b[0;36mf\u001b[1;34m()\u001b[0m\n\u001b[0;32m      1\u001b[0m \u001b[38;5;28;01mdef\u001b[39;00m \u001b[38;5;21mf\u001b[39m():\n\u001b[1;32m----> 2\u001b[0m     \u001b[38;5;28mprint\u001b[39m(\u001b[43my\u001b[49m)\n",
      "\u001b[1;31mNameError\u001b[0m: name 'y' is not defined"
     ]
    }
   ],
   "source": [
    "def f():\n",
    "    print(y)\n",
    "\n",
    "f()\n",
    "y=\"i love py\""
   ]
  },
  {
   "cell_type": "code",
   "execution_count": 15,
   "id": "27cb64da-da9c-41dd-a7b1-9fd5a9996581",
   "metadata": {},
   "outputs": [
    {
     "name": "stdout",
     "output_type": "stream",
     "text": [
      "somu\n"
     ]
    }
   ],
   "source": [
    "def text():\n",
    "    name=\"somu\"\n",
    "    print(name)\n",
    "\n",
    "text()\n",
    "    "
   ]
  },
  {
   "cell_type": "code",
   "execution_count": 16,
   "id": "2699c812-babe-4f3a-ac2c-1654459c16a7",
   "metadata": {},
   "outputs": [
    {
     "name": "stdout",
     "output_type": "stream",
     "text": [
      "somu\n"
     ]
    },
    {
     "ename": "NameError",
     "evalue": "name 'name' is not defined",
     "output_type": "error",
     "traceback": [
      "\u001b[1;31m---------------------------------------------------------------------------\u001b[0m",
      "\u001b[1;31mNameError\u001b[0m                                 Traceback (most recent call last)",
      "Cell \u001b[1;32mIn[16], line 6\u001b[0m\n\u001b[0;32m      3\u001b[0m    \u001b[38;5;28mprint\u001b[39m(name)\n\u001b[0;32m      5\u001b[0m text()\n\u001b[1;32m----> 6\u001b[0m \u001b[38;5;28mprint\u001b[39m(\u001b[43mname\u001b[49m)\n",
      "\u001b[1;31mNameError\u001b[0m: name 'name' is not defined"
     ]
    }
   ],
   "source": [
    " def text():\n",
    "    name=\"somu\" #local variable \n",
    "    print(name)\n",
    "\n",
    "text() \n",
    "print(name)"
   ]
  }
 ],
 "metadata": {
  "kernelspec": {
   "display_name": "Python 3 (ipykernel)",
   "language": "python",
   "name": "python3"
  },
  "language_info": {
   "codemirror_mode": {
    "name": "ipython",
    "version": 3
   },
   "file_extension": ".py",
   "mimetype": "text/x-python",
   "name": "python",
   "nbconvert_exporter": "python",
   "pygments_lexer": "ipython3",
   "version": "3.12.4"
  }
 },
 "nbformat": 4,
 "nbformat_minor": 5
}
