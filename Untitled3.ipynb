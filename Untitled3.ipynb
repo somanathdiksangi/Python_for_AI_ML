{
 "cells": [
  {
   "cell_type": "code",
   "execution_count": null,
   "id": "c7cdcbab-ab11-4eec-96b2-a650065935a1",
   "metadata": {},
   "outputs": [],
   "source": []
  }
 ],
 "metadata": {
  "kernelspec": {
   "display_name": "",
   "name": ""
  },
  "language_info": {
   "name": ""
  }
 },
 "nbformat": 4,
 "nbformat_minor": 5
}
