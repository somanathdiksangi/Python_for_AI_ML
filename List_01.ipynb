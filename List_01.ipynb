{
 "cells": [
  {
   "cell_type": "markdown",
   "id": "f4731819-0a44-4e67-9561-4c9e1c0904d3",
   "metadata": {},
   "source": [
    "List"
   ]
  },
  {
   "cell_type": "code",
   "execution_count": 3,
   "id": "9b10ff0d-3067-4075-b85c-cdf6c26991e3",
   "metadata": {},
   "outputs": [],
   "source": [
    "mylist=[]\n",
    "#empty list "
   ]
  },
  {
   "cell_type": "code",
   "execution_count": 4,
   "id": "8df000fb-27e5-4660-a786-cae0229f7219",
   "metadata": {},
   "outputs": [],
   "source": [
    "mylist=[1,2,3]"
   ]
  },
  {
   "cell_type": "code",
   "execution_count": 5,
   "id": "e73704d5-42be-4535-8bf8-d3196d860fc0",
   "metadata": {},
   "outputs": [
    {
     "data": {
      "text/plain": [
       "[1, 2, 3]"
      ]
     },
     "execution_count": 5,
     "metadata": {},
     "output_type": "execute_result"
    }
   ],
   "source": [
    "mylist"
   ]
  },
  {
   "cell_type": "code",
   "execution_count": 8,
   "id": "8d873451-4327-47d5-a7d4-fd28ee910cd6",
   "metadata": {},
   "outputs": [],
   "source": [
    "my_list=[1,\"hello\",2.5]\n",
    "#list with diffrent data type"
   ]
  },
  {
   "cell_type": "code",
   "execution_count": 9,
   "id": "5a9453b1-9f3f-4662-87b9-5531ee23cd2a",
   "metadata": {},
   "outputs": [
    {
     "data": {
      "text/plain": [
       "[1, 'hello', 2.5]"
      ]
     },
     "execution_count": 9,
     "metadata": {},
     "output_type": "execute_result"
    }
   ],
   "source": [
    "my_list"
   ]
  },
  {
   "cell_type": "code",
   "execution_count": 10,
   "id": "581d1e68-b891-4405-bd03-bc60c241d52e",
   "metadata": {},
   "outputs": [
    {
     "ename": "TypeError",
     "evalue": "'int' object is not iterable",
     "output_type": "error",
     "traceback": [
      "\u001b[1;31m---------------------------------------------------------------------------\u001b[0m",
      "\u001b[1;31mTypeError\u001b[0m                                 Traceback (most recent call last)",
      "Cell \u001b[1;32mIn[10], line 2\u001b[0m\n\u001b[0;32m      1\u001b[0m \u001b[38;5;66;03m#itrable\u001b[39;00m\n\u001b[1;32m----> 2\u001b[0m \u001b[38;5;28;43mlist\u001b[39;49m\u001b[43m(\u001b[49m\u001b[38;5;241;43m10\u001b[39;49m\u001b[43m)\u001b[49m\n",
      "\u001b[1;31mTypeError\u001b[0m: 'int' object is not iterable"
     ]
    }
   ],
   "source": [
    "#itrable\n",
    "list(10)"
   ]
  },
  {
   "cell_type": "code",
   "execution_count": 11,
   "id": "b6684c1f-fc87-4c02-9950-be71715aff28",
   "metadata": {},
   "outputs": [
    {
     "data": {
      "text/plain": [
       "['s', 'o', 'm', 'u']"
      ]
     },
     "execution_count": 11,
     "metadata": {},
     "output_type": "execute_result"
    }
   ],
   "source": [
    "list(\"somu\")"
   ]
  },
  {
   "cell_type": "code",
   "execution_count": 12,
   "id": "30223ed3-ce0f-4200-842a-a971cb6a6e57",
   "metadata": {},
   "outputs": [
    {
     "data": {
      "text/plain": [
       "[10, 20, 30]"
      ]
     },
     "execution_count": 12,
     "metadata": {},
     "output_type": "execute_result"
    }
   ],
   "source": [
    "list((10,20,30))"
   ]
  },
  {
   "cell_type": "code",
   "execution_count": 13,
   "id": "f6578556-bebb-4f5e-9dea-da63fa22374f",
   "metadata": {},
   "outputs": [
    {
     "data": {
      "text/plain": [
       "[10, 2, 1]"
      ]
     },
     "execution_count": 13,
     "metadata": {},
     "output_type": "execute_result"
    }
   ],
   "source": [
    "list([10,2,1])"
   ]
  },
  {
   "cell_type": "code",
   "execution_count": 14,
   "id": "ed497b88-b4f0-4968-a337-b1d06d144532",
   "metadata": {},
   "outputs": [],
   "source": [
    "my_list=[1,2,3,4,5,6,7]"
   ]
  },
  {
   "cell_type": "code",
   "execution_count": 15,
   "id": "4e5cbfae-fdff-43cb-826c-548e64330673",
   "metadata": {},
   "outputs": [
    {
     "data": {
      "text/plain": [
       "[1, 2, 3, 4, 5, 6, 7]"
      ]
     },
     "execution_count": 15,
     "metadata": {},
     "output_type": "execute_result"
    }
   ],
   "source": [
    "my_list[:]"
   ]
  },
  {
   "cell_type": "code",
   "execution_count": 17,
   "id": "adda75ba-a100-4478-9132-60618946e469",
   "metadata": {},
   "outputs": [
    {
     "data": {
      "text/plain": [
       "[2, 3, 4]"
      ]
     },
     "execution_count": 17,
     "metadata": {},
     "output_type": "execute_result"
    }
   ],
   "source": [
    "my_list[1:4]"
   ]
  },
  {
   "cell_type": "code",
   "execution_count": 18,
   "id": "8fbbd5b1-6445-485f-ab1c-ccc1ea64377c",
   "metadata": {},
   "outputs": [
    {
     "data": {
      "text/plain": [
       "[4, 5, 6, 7]"
      ]
     },
     "execution_count": 18,
     "metadata": {},
     "output_type": "execute_result"
    }
   ],
   "source": [
    "my_list[3:11]"
   ]
  },
  {
   "cell_type": "code",
   "execution_count": 19,
   "id": "e367a7c8-3963-4ac9-b1bb-d0b12d023cc6",
   "metadata": {},
   "outputs": [
    {
     "data": {
      "text/plain": [
       "[]"
      ]
     },
     "execution_count": 19,
     "metadata": {},
     "output_type": "execute_result"
    }
   ],
   "source": [
    "my_list[2:2]"
   ]
  },
  {
   "cell_type": "code",
   "execution_count": null,
   "id": "a006928b-777c-4036-9562-bff7b2690231",
   "metadata": {},
   "outputs": [],
   "source": []
  }
 ],
 "metadata": {
  "kernelspec": {
   "display_name": "Python 3 (ipykernel)",
   "language": "python",
   "name": "python3"
  },
  "language_info": {
   "codemirror_mode": {
    "name": "ipython",
    "version": 3
   },
   "file_extension": ".py",
   "mimetype": "text/x-python",
   "name": "python",
   "nbconvert_exporter": "python",
   "pygments_lexer": "ipython3",
   "version": "3.12.4"
  }
 },
 "nbformat": 4,
 "nbformat_minor": 5
}
