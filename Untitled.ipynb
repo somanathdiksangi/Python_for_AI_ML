{
 "cells": [
  {
   "cell_type": "markdown",
   "id": "24a3d1a5-51b4-4206-acb1-5b230948e8bb",
   "metadata": {},
   "source": [
    "#function "
   ]
  },
  {
   "cell_type": "code",
   "execution_count": 1,
   "id": "6dee3da8-ead9-42c3-b451-0f5595baa878",
   "metadata": {},
   "outputs": [
    {
     "data": {
      "text/plain": [
       "30"
      ]
     },
     "execution_count": 1,
     "metadata": {},
     "output_type": "execute_result"
    }
   ],
   "source": [
    "a=10\n",
    "b=20\n",
    "c=a+b\n",
    "c"
   ]
  },
  {
   "cell_type": "code",
   "execution_count": 2,
   "id": "900c911b-2009-4df6-b83f-34c073dff784",
   "metadata": {},
   "outputs": [
    {
     "data": {
      "text/plain": [
       "-10"
      ]
     },
     "execution_count": 2,
     "metadata": {},
     "output_type": "execute_result"
    }
   ],
   "source": [
    "a=10\n",
    "b=20\n",
    "c=a-b\n",
    "c"
   ]
  },
  {
   "cell_type": "code",
   "execution_count": 3,
   "id": "fd2bfafb-570a-4e2c-9510-2294e31fb3a1",
   "metadata": {},
   "outputs": [
    {
     "name": "stdin",
     "output_type": "stream",
     "text": [
      "enter first number 5\n",
      "second first number 5\n"
     ]
    },
    {
     "data": {
      "text/plain": [
       "10"
      ]
     },
     "execution_count": 3,
     "metadata": {},
     "output_type": "execute_result"
    }
   ],
   "source": [
    "a=input(\"enter first number\")\n",
    "b=input(\"second first number\")\n",
    "c=int(a)+int(b)\n",
    "c\n"
   ]
  },
  {
   "cell_type": "code",
   "execution_count": 4,
   "id": "7b652c13-b6b3-447d-9578-e8036e0bde8a",
   "metadata": {},
   "outputs": [],
   "source": [
    "def addtwonum(): #function defination \n",
    "    a=10\n",
    "    b=20\n",
    "    c=a+b\n",
    "    print(c)\n",
    "    "
   ]
  },
  {
   "cell_type": "code",
   "execution_count": 5,
   "id": "de47f2d9-8060-447b-beb7-3d5e77380e6d",
   "metadata": {},
   "outputs": [
    {
     "name": "stdout",
     "output_type": "stream",
     "text": [
      "30\n"
     ]
    }
   ],
   "source": [
    "addtwonum() #function call "
   ]
  },
  {
   "cell_type": "code",
   "execution_count": 8,
   "id": "bb8e03e5-01a0-4955-9942-89c2d6f1ebda",
   "metadata": {},
   "outputs": [],
   "source": [
    "def addtwonu():\n",
    "    a=input(\"enter first number\")\n",
    "    b=input(\"second first number\")\n",
    "    c=int(a)+int(b)\n",
    "    print(c)\n",
    "    \n",
    "   "
   ]
  },
  {
   "cell_type": "code",
   "execution_count": 9,
   "id": "c3814652-f504-4ab2-8c95-81385d875ffa",
   "metadata": {},
   "outputs": [
    {
     "name": "stdin",
     "output_type": "stream",
     "text": [
      "enter first number 5\n",
      "second first number 8\n"
     ]
    },
    {
     "name": "stdout",
     "output_type": "stream",
     "text": [
      "13\n"
     ]
    }
   ],
   "source": [
    "addtwonu()"
   ]
  },
  {
   "cell_type": "code",
   "execution_count": 16,
   "id": "91e48ad3-383b-49a3-96aa-3ec99aea2796",
   "metadata": {},
   "outputs": [],
   "source": [
    "def valrt(a):\n",
    "    if a>0:\n",
    "        return a\n",
    "    else:\n",
    "        return a*(-1)\n",
    "\n",
    "        "
   ]
  },
  {
   "cell_type": "code",
   "execution_count": 20,
   "id": "af6b95eb-050c-4355-9b78-2e29a8e08339",
   "metadata": {},
   "outputs": [
    {
     "name": "stdin",
     "output_type": "stream",
     "text": [
      "enter a number -5\n"
     ]
    },
    {
     "data": {
      "text/plain": [
       "5"
      ]
     },
     "execution_count": 20,
     "metadata": {},
     "output_type": "execute_result"
    }
   ],
   "source": [
    "A=int(input(\"enter a number\"))\n",
    "valrt(A)"
   ]
  },
  {
   "cell_type": "code",
   "execution_count": 29,
   "id": "1d03ea4c-09a5-4c61-8441-b0d657ba3085",
   "metadata": {},
   "outputs": [],
   "source": [
    "def addtwonu():\n",
    "    a=input(\"enter first number\")\n",
    "    b=input(\"second first number\")\n",
    "    c=int(a)+int(b)\n",
    "    return c\n",
    "    "
   ]
  },
  {
   "cell_type": "code",
   "execution_count": 30,
   "id": "7e539998-165b-4e93-beed-52d6fb468011",
   "metadata": {},
   "outputs": [
    {
     "name": "stdin",
     "output_type": "stream",
     "text": [
      "enter first number 5\n",
      "second first number 8\n"
     ]
    }
   ],
   "source": [
    "z=addtwonu()"
   ]
  },
  {
   "cell_type": "code",
   "execution_count": 31,
   "id": "bdddb883-ef5b-4f22-8346-1e677c23ccde",
   "metadata": {},
   "outputs": [
    {
     "name": "stdout",
     "output_type": "stream",
     "text": [
      "13\n"
     ]
    }
   ],
   "source": [
    "print(z)"
   ]
  },
  {
   "cell_type": "code",
   "execution_count": null,
   "id": "6f80a539-107e-4963-9250-80863958c744",
   "metadata": {},
   "outputs": [],
   "source": []
  }
 ],
 "metadata": {
  "kernelspec": {
   "display_name": "Python 3 (ipykernel)",
   "language": "python",
   "name": "python3"
  },
  "language_info": {
   "codemirror_mode": {
    "name": "ipython",
    "version": 3
   },
   "file_extension": ".py",
   "mimetype": "text/x-python",
   "name": "python",
   "nbconvert_exporter": "python",
   "pygments_lexer": "ipython3",
   "version": "3.12.4"
  }
 },
 "nbformat": 4,
 "nbformat_minor": 5
}
