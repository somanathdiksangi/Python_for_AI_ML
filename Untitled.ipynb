{
 "cells": [
  {
   "cell_type": "code",
   "execution_count": null,
   "id": "851162a1-3655-4b0e-9c81-b6728d789ed1",
   "metadata": {},
   "outputs": [],
   "source": []
  }
 ],
 "metadata": {
  "kernelspec": {
   "display_name": "",
   "name": ""
  },
  "language_info": {
   "name": ""
  }
 },
 "nbformat": 4,
 "nbformat_minor": 5
}
