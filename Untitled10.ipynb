{
 "cells": [
  {
   "cell_type": "code",
   "execution_count": null,
   "id": "91abd215-e55f-4ea0-9010-6ebcbf3999e3",
   "metadata": {},
   "outputs": [],
   "source": []
  }
 ],
 "metadata": {
  "kernelspec": {
   "display_name": "",
   "name": ""
  },
  "language_info": {
   "name": ""
  }
 },
 "nbformat": 4,
 "nbformat_minor": 5
}
