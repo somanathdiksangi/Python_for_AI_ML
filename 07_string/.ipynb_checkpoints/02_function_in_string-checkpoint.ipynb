{
 "cells": [
  {
   "cell_type": "code",
   "execution_count": 1,
   "id": "ee0ce34c-3c6e-467a-ac7f-97039f3e9cb4",
   "metadata": {},
   "outputs": [
    {
     "data": {
      "text/plain": [
       "'somudiksangi'"
      ]
     },
     "execution_count": 1,
     "metadata": {},
     "output_type": "execute_result"
    }
   ],
   "source": [
    "\"somu\"+\"diksangi\""
   ]
  },
  {
   "cell_type": "code",
   "execution_count": 3,
   "id": "655120c4-c4cf-417c-80fd-0d1dfda93712",
   "metadata": {},
   "outputs": [
    {
     "ename": "NameError",
     "evalue": "name 'diksangi' is not defined",
     "output_type": "error",
     "traceback": [
      "\u001b[1;31m---------------------------------------------------------------------------\u001b[0m",
      "\u001b[1;31mNameError\u001b[0m                                 Traceback (most recent call last)",
      "Cell \u001b[1;32mIn[3], line 1\u001b[0m\n\u001b[1;32m----> 1\u001b[0m \u001b[38;5;124m\"\u001b[39m\u001b[38;5;124msomu\u001b[39m\u001b[38;5;124m\"\u001b[39m\u001b[38;5;241m*\u001b[39m\u001b[43mdiksangi\u001b[49m\n",
      "\u001b[1;31mNameError\u001b[0m: name 'diksangi' is not defined"
     ]
    }
   ],
   "source": [
    "\"somu\"*diksangi"
   ]
  },
  {
   "cell_type": "code",
   "execution_count": 4,
   "id": "7e48e09c-0c2e-4f5c-bd89-ca9a72fdc727",
   "metadata": {},
   "outputs": [
    {
     "data": {
      "text/plain": [
       "'somusomu'"
      ]
     },
     "execution_count": 4,
     "metadata": {},
     "output_type": "execute_result"
    }
   ],
   "source": [
    "\"somu\"*2"
   ]
  },
  {
   "cell_type": "code",
   "execution_count": 5,
   "id": "5ec57e4f-c84a-44be-b282-5be750f860e1",
   "metadata": {},
   "outputs": [],
   "source": [
    "a=\"i love my india\""
   ]
  },
  {
   "cell_type": "code",
   "execution_count": 6,
   "id": "d0e80c36-d9d6-46b2-90bd-691e790c5a58",
   "metadata": {},
   "outputs": [
    {
     "data": {
      "text/plain": [
       "True"
      ]
     },
     "execution_count": 6,
     "metadata": {},
     "output_type": "execute_result"
    }
   ],
   "source": [
    "\"love\" in a"
   ]
  },
  {
   "cell_type": "markdown",
   "id": "ab4491d6-07a3-41f0-b9c4-dae6cbdb017c",
   "metadata": {},
   "source": [
    "\"imdif\" in a"
   ]
  },
  {
   "cell_type": "code",
   "execution_count": 9,
   "id": "e580c234-2da6-4fe1-a467-fbf770effba7",
   "metadata": {},
   "outputs": [
    {
     "data": {
      "text/plain": [
       "True"
      ]
     },
     "execution_count": 9,
     "metadata": {},
     "output_type": "execute_result"
    }
   ],
   "source": [
    "\" \" in a"
   ]
  },
  {
   "cell_type": "code",
   "execution_count": 10,
   "id": "e76214e6-390e-49ec-9aae-4f259a5abfde",
   "metadata": {},
   "outputs": [
    {
     "data": {
      "text/plain": [
       "True"
      ]
     },
     "execution_count": 10,
     "metadata": {},
     "output_type": "execute_result"
    }
   ],
   "source": [
    "\"\" in a"
   ]
  },
  {
   "cell_type": "code",
   "execution_count": 11,
   "id": "846d45d0-7c57-4222-82d6-8959c2b34d43",
   "metadata": {},
   "outputs": [
    {
     "data": {
      "text/plain": [
       "True"
      ]
     },
     "execution_count": 11,
     "metadata": {},
     "output_type": "execute_result"
    }
   ],
   "source": [
    "\"somu\" not in a"
   ]
  },
  {
   "cell_type": "markdown",
   "id": "d76a8898-b7dd-4f1e-99f0-728db7a5d578",
   "metadata": {},
   "source": [
    "relation operater "
   ]
  },
  {
   "cell_type": "code",
   "execution_count": 17,
   "id": "a240a763-bd2a-4c60-8d9a-6ccd6404d2d7",
   "metadata": {},
   "outputs": [
    {
     "data": {
      "text/plain": [
       "False"
      ]
     },
     "execution_count": 17,
     "metadata": {},
     "output_type": "execute_result"
    }
   ],
   "source": [
    "\"tim\" == \"somu\""
   ]
  },
  {
   "cell_type": "code",
   "execution_count": 18,
   "id": "797262d3-0fc6-4b89-8863-f3e206abf9a5",
   "metadata": {},
   "outputs": [
    {
     "data": {
      "text/plain": [
       "True"
      ]
     },
     "execution_count": 18,
     "metadata": {},
     "output_type": "execute_result"
    }
   ],
   "source": [
    "\"srrow\">\"arron\""
   ]
  },
  {
   "cell_type": "code",
   "execution_count": 19,
   "id": "75739310-8b97-4309-93a0-bee32c0a8450",
   "metadata": {},
   "outputs": [
    {
     "data": {
      "text/plain": [
       "True"
      ]
     },
     "execution_count": 19,
     "metadata": {},
     "output_type": "execute_result"
    }
   ],
   "source": [
    "\"right\" >= \"left\""
   ]
  },
  {
   "cell_type": "code",
   "execution_count": 20,
   "id": "975050bc-acbf-475d-b31b-bbd038675522",
   "metadata": {},
   "outputs": [
    {
     "data": {
      "text/plain": [
       "True"
      ]
     },
     "execution_count": 20,
     "metadata": {},
     "output_type": "execute_result"
    }
   ],
   "source": [
    "\"abc\">\" \""
   ]
  },
  {
   "cell_type": "markdown",
   "id": "1967c890-b7e4-477a-91b8-6ac4d5c33d75",
   "metadata": {},
   "source": [
    "is and is not "
   ]
  },
  {
   "cell_type": "code",
   "execution_count": 21,
   "id": "66f68146-20cd-4903-8011-6ce7443ba4d5",
   "metadata": {},
   "outputs": [],
   "source": [
    "a= \"somu\"\n",
    "b=\"somu\""
   ]
  },
  {
   "cell_type": "code",
   "execution_count": 22,
   "id": "058e4055-f93d-43b8-889d-5946d269311b",
   "metadata": {},
   "outputs": [
    {
     "data": {
      "text/plain": [
       "True"
      ]
     },
     "execution_count": 22,
     "metadata": {},
     "output_type": "execute_result"
    }
   ],
   "source": [
    "a is b"
   ]
  },
  {
   "cell_type": "code",
   "execution_count": 23,
   "id": "d83995b6-ae4d-4a07-8d58-d52901cb943c",
   "metadata": {},
   "outputs": [
    {
     "data": {
      "text/plain": [
       "False"
      ]
     },
     "execution_count": 23,
     "metadata": {},
     "output_type": "execute_result"
    }
   ],
   "source": [
    "c=\"diksangi\"\n",
    "a is c"
   ]
  },
  {
   "cell_type": "code",
   "execution_count": 24,
   "id": "757e0ab7-1a2a-4503-9231-0f27a5c2eb41",
   "metadata": {},
   "outputs": [
    {
     "data": {
      "text/plain": [
       "True"
      ]
     },
     "execution_count": 24,
     "metadata": {},
     "output_type": "execute_result"
    }
   ],
   "source": [
    "a is not c"
   ]
  },
  {
   "cell_type": "markdown",
   "id": "01efacad-1aaf-4898-8f8b-e57895579d45",
   "metadata": {},
   "source": [
    "function \n",
    "len()\n",
    "max()\n",
    "min()\n",
    "chr()\n",
    "ord()"
   ]
  },
  {
   "cell_type": "code",
   "execution_count": 25,
   "id": "8c2e0193-aa07-4f49-a4af-59c6cb8c78e7",
   "metadata": {},
   "outputs": [],
   "source": [
    "a= \"somu\""
   ]
  },
  {
   "cell_type": "code",
   "execution_count": 26,
   "id": "51f0eaa6-5037-4b19-8b77-32d9ed870e93",
   "metadata": {},
   "outputs": [
    {
     "data": {
      "text/plain": [
       "4"
      ]
     },
     "execution_count": 26,
     "metadata": {},
     "output_type": "execute_result"
    }
   ],
   "source": [
    "len(a)"
   ]
  },
  {
   "cell_type": "code",
   "execution_count": 27,
   "id": "06d3da3a-2f90-48e9-a25a-7bb55ac5cd65",
   "metadata": {},
   "outputs": [
    {
     "data": {
      "text/plain": [
       "'u'"
      ]
     },
     "execution_count": 27,
     "metadata": {},
     "output_type": "execute_result"
    }
   ],
   "source": [
    "max(a)\n"
   ]
  },
  {
   "cell_type": "code",
   "execution_count": 28,
   "id": "0d26198b-1a91-4720-9e5f-6727c88c69d6",
   "metadata": {},
   "outputs": [
    {
     "data": {
      "text/plain": [
       "'m'"
      ]
     },
     "execution_count": 28,
     "metadata": {},
     "output_type": "execute_result"
    }
   ],
   "source": [
    "min(a)"
   ]
  },
  {
   "cell_type": "code",
   "execution_count": 30,
   "id": "3defcaba-31ec-4e4d-8c8b-ca3accc8134d",
   "metadata": {},
   "outputs": [],
   "source": [
    "c=\"aa\""
   ]
  },
  {
   "cell_type": "code",
   "execution_count": 32,
   "id": "5276e208-e221-4a82-aa4a-b794a2dc0a74",
   "metadata": {},
   "outputs": [
    {
     "data": {
      "text/plain": [
       "'a'"
      ]
     },
     "execution_count": 32,
     "metadata": {},
     "output_type": "execute_result"
    }
   ],
   "source": [
    "min(c)"
   ]
  },
  {
   "cell_type": "code",
   "execution_count": 34,
   "id": "2418615d-2c42-4be6-bde0-74855717cb48",
   "metadata": {},
   "outputs": [
    {
     "data": {
      "text/plain": [
       "32"
      ]
     },
     "execution_count": 34,
     "metadata": {},
     "output_type": "execute_result"
    }
   ],
   "source": [
    "ord(\" \")"
   ]
  },
  {
   "cell_type": "code",
   "execution_count": 35,
   "id": "3427cf69-a92d-498e-8cb5-42cd9be124c0",
   "metadata": {},
   "outputs": [
    {
     "data": {
      "text/plain": [
       "115"
      ]
     },
     "execution_count": 35,
     "metadata": {},
     "output_type": "execute_result"
    }
   ],
   "source": [
    "ord(\"s\")"
   ]
  },
  {
   "cell_type": "code",
   "execution_count": 37,
   "id": "46a4d35d-239f-4aa7-90ed-f24fe82acd16",
   "metadata": {},
   "outputs": [
    {
     "data": {
      "text/plain": [
       "57"
      ]
     },
     "execution_count": 37,
     "metadata": {},
     "output_type": "execute_result"
    }
   ],
   "source": [
    "ord(\"9\")"
   ]
  },
  {
   "cell_type": "code",
   "execution_count": 38,
   "id": "6530e5a3-61ca-4cef-8ee5-10bc39a55569",
   "metadata": {},
   "outputs": [
    {
     "data": {
      "text/plain": [
       "'K'"
      ]
     },
     "execution_count": 38,
     "metadata": {},
     "output_type": "execute_result"
    }
   ],
   "source": [
    "chr(75)"
   ]
  },
  {
   "cell_type": "code",
   "execution_count": 39,
   "id": "e78308de-9b4f-4b4a-b8f0-a1e23ae963de",
   "metadata": {},
   "outputs": [
    {
     "data": {
      "text/plain": [
       "'9'"
      ]
     },
     "execution_count": 39,
     "metadata": {},
     "output_type": "execute_result"
    }
   ],
   "source": [
    "chr(57)"
   ]
  },
  {
   "cell_type": "code",
   "execution_count": 40,
   "id": "24f33c31-47c7-4401-891e-304c3c8b9bef",
   "metadata": {},
   "outputs": [
    {
     "data": {
      "text/plain": [
       "'n'"
      ]
     },
     "execution_count": 40,
     "metadata": {},
     "output_type": "execute_result"
    }
   ],
   "source": [
    "chr(110)"
   ]
  },
  {
   "cell_type": "code",
   "execution_count": null,
   "id": "04bc7fa7-0954-4859-ae84-6b2d92c1acb1",
   "metadata": {},
   "outputs": [],
   "source": []
  }
 ],
 "metadata": {
  "kernelspec": {
   "display_name": "Python 3 (ipykernel)",
   "language": "python",
   "name": "python3"
  },
  "language_info": {
   "codemirror_mode": {
    "name": "ipython",
    "version": 3
   },
   "file_extension": ".py",
   "mimetype": "text/x-python",
   "name": "python",
   "nbconvert_exporter": "python",
   "pygments_lexer": "ipython3",
   "version": "3.12.4"
  }
 },
 "nbformat": 4,
 "nbformat_minor": 5
}
