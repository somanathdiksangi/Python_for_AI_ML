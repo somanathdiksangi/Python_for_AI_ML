{
 "cells": [
  {
   "cell_type": "markdown",
   "id": "6756b518-7968-41dd-be61-b9629c414007",
   "metadata": {},
   "source": [
    "#method of the string"
   ]
  },
  {
   "cell_type": "markdown",
   "id": "6da6161d-57bc-4a81-84b1-96f5be9442ae",
   "metadata": {},
   "source": [
    "capitalize():"
   ]
  },
  {
   "cell_type": "code",
   "execution_count": 5,
   "id": "ca7fea8d-e31b-4e5d-96d2-92f3baae254e",
   "metadata": {},
   "outputs": [],
   "source": [
    "name=\"somanath\"\n",
    "newname=name.capitalize()"
   ]
  },
  {
   "cell_type": "code",
   "execution_count": 6,
   "id": "033e18a0-a23e-4706-8192-0f1e307b1c45",
   "metadata": {},
   "outputs": [
    {
     "data": {
      "text/plain": [
       "'Somanath'"
      ]
     },
     "execution_count": 6,
     "metadata": {},
     "output_type": "execute_result"
    }
   ],
   "source": [
    "newname"
   ]
  },
  {
   "cell_type": "markdown",
   "id": "6876b758-620f-47e5-88a1-cc601cc1ef0c",
   "metadata": {},
   "source": [
    "#lower()\n",
    "#Upper()"
   ]
  },
  {
   "cell_type": "code",
   "execution_count": 8,
   "id": "a522a1ca-34dc-4090-967b-5bcacbb10682",
   "metadata": {},
   "outputs": [
    {
     "data": {
      "text/plain": [
       "'SOMANATH DIKSANGI'"
      ]
     },
     "execution_count": 8,
     "metadata": {},
     "output_type": "execute_result"
    }
   ],
   "source": [
    "name=\"Somanath Diksangi\"\n",
    "lc=name.upper()\n",
    "lc"
   ]
  },
  {
   "cell_type": "code",
   "execution_count": 9,
   "id": "8549807d-ee3c-4aa3-8d21-e539e4f28f19",
   "metadata": {},
   "outputs": [
    {
     "data": {
      "text/plain": [
       "'somanath diksangi'"
      ]
     },
     "execution_count": 9,
     "metadata": {},
     "output_type": "execute_result"
    }
   ],
   "source": [
    "name=\"Somanath Diksangi\"\n",
    "lc=name.lower()\n",
    "lc"
   ]
  },
  {
   "cell_type": "markdown",
   "id": "fd924c5e-7a18-4189-acb3-c0590b9c36ed",
   "metadata": {},
   "source": [
    "swapcase()"
   ]
  },
  {
   "cell_type": "code",
   "execution_count": 10,
   "id": "7d3bbf5f-41bd-4404-bf2d-75a317e1a4de",
   "metadata": {},
   "outputs": [
    {
     "data": {
      "text/plain": [
       "'Somanath Diksangi'"
      ]
     },
     "execution_count": 10,
     "metadata": {},
     "output_type": "execute_result"
    }
   ],
   "source": [
    "name"
   ]
  },
  {
   "cell_type": "code",
   "execution_count": 11,
   "id": "7e8e9615-c584-448d-903a-572236aa5c5f",
   "metadata": {},
   "outputs": [
    {
     "data": {
      "text/plain": [
       "'sOMANATH dIKSANGI'"
      ]
     },
     "execution_count": 11,
     "metadata": {},
     "output_type": "execute_result"
    }
   ],
   "source": [
    "lc=name.swapcase()\n",
    "lc"
   ]
  },
  {
   "cell_type": "code",
   "execution_count": 12,
   "id": "76cb8dfc-0ff5-4638-b765-f121f27871bc",
   "metadata": {},
   "outputs": [
    {
     "data": {
      "text/plain": [
       "'Somanath Diksangi'"
      ]
     },
     "execution_count": 12,
     "metadata": {},
     "output_type": "execute_result"
    }
   ],
   "source": [
    "name=\"sOMANATH dIKSANGI\"\n",
    "ml=name.swapcase()\n",
    "ml"
   ]
  },
  {
   "cell_type": "markdown",
   "id": "2f70bd4a-fdd0-4c3d-b00b-584700c7ef57",
   "metadata": {},
   "source": [
    "#title"
   ]
  },
  {
   "cell_type": "code",
   "execution_count": 13,
   "id": "0f54d90a-0cd8-4fb9-bf3d-da2ce0515a10",
   "metadata": {},
   "outputs": [
    {
     "data": {
      "text/plain": [
       "'I Love Python'"
      ]
     },
     "execution_count": 13,
     "metadata": {},
     "output_type": "execute_result"
    }
   ],
   "source": [
    "text=\"i LOVe pYTHoN\"\n",
    "text.title()"
   ]
  },
  {
   "cell_type": "markdown",
   "id": "ca0ca9d3-7748-4f6d-9974-85c3cfe4f8b1",
   "metadata": {},
   "source": [
    "#islower()\n",
    "#isupper()"
   ]
  },
  {
   "cell_type": "code",
   "execution_count": 15,
   "id": "2376ac45-f569-4023-9055-756e6a0fa43c",
   "metadata": {},
   "outputs": [
    {
     "data": {
      "text/plain": [
       "True"
      ]
     },
     "execution_count": 15,
     "metadata": {},
     "output_type": "execute_result"
    }
   ],
   "source": [
    "text=\"i love python\"\n",
    "text.islower()"
   ]
  },
  {
   "cell_type": "code",
   "execution_count": 16,
   "id": "c45bf260-4c96-4d0d-a6fe-66e294ef221a",
   "metadata": {},
   "outputs": [
    {
     "data": {
      "text/plain": [
       "False"
      ]
     },
     "execution_count": 16,
     "metadata": {},
     "output_type": "execute_result"
    }
   ],
   "source": [
    "text.isupper()"
   ]
  },
  {
   "cell_type": "code",
   "execution_count": 17,
   "id": "7fc96feb-e55c-425f-847d-b4302dacadb6",
   "metadata": {},
   "outputs": [
    {
     "data": {
      "text/plain": [
       "True"
      ]
     },
     "execution_count": 17,
     "metadata": {},
     "output_type": "execute_result"
    }
   ],
   "source": [
    "text=\"I LOVE PYTHON\"\n",
    "text.isupper()"
   ]
  },
  {
   "cell_type": "markdown",
   "id": "a2bf0318-a1da-463c-9462-7145de46be33",
   "metadata": {},
   "source": [
    "#isalpha"
   ]
  },
  {
   "cell_type": "code",
   "execution_count": 19,
   "id": "5116b0a3-f114-46ae-bdf6-d39ad2df8cfa",
   "metadata": {},
   "outputs": [],
   "source": [
    "st=\"my name is somu age is 20\""
   ]
  },
  {
   "cell_type": "code",
   "execution_count": 20,
   "id": "7ce4074e-30a7-4fe1-b26d-4e415a4e24f8",
   "metadata": {},
   "outputs": [
    {
     "data": {
      "text/plain": [
       "False"
      ]
     },
     "execution_count": 20,
     "metadata": {},
     "output_type": "execute_result"
    }
   ],
   "source": [
    "st.isalpha()"
   ]
  },
  {
   "cell_type": "code",
   "execution_count": 21,
   "id": "a992627b-c1df-447a-a47c-2b168c2e03bd",
   "metadata": {},
   "outputs": [],
   "source": [
    "st=\"my name is somu\""
   ]
  },
  {
   "cell_type": "code",
   "execution_count": 22,
   "id": "1e38928d-0fb6-4eb9-8f5e-d7cf2d761565",
   "metadata": {},
   "outputs": [
    {
     "data": {
      "text/plain": [
       "False"
      ]
     },
     "execution_count": 22,
     "metadata": {},
     "output_type": "execute_result"
    }
   ],
   "source": [
    "st.isalpha()"
   ]
  },
  {
   "cell_type": "code",
   "execution_count": 24,
   "id": "b9c72559-9156-46e2-8818-d74f801c123b",
   "metadata": {},
   "outputs": [
    {
     "data": {
      "text/plain": [
       "True"
      ]
     },
     "execution_count": 24,
     "metadata": {},
     "output_type": "execute_result"
    }
   ],
   "source": [
    "st=\"mynameissomu\"\n",
    "st.isalpha()"
   ]
  },
  {
   "cell_type": "markdown",
   "id": "8b2aefa3-c328-4e23-8b0f-744577b4a479",
   "metadata": {},
   "source": [
    "#isdigit()"
   ]
  },
  {
   "cell_type": "code",
   "execution_count": 25,
   "id": "03184d0f-5c4d-4fbd-a14a-ca0f24eea713",
   "metadata": {},
   "outputs": [],
   "source": [
    "my=\"12356789\""
   ]
  },
  {
   "cell_type": "code",
   "execution_count": 26,
   "id": "f0d18cff-318b-4c6d-980c-5f8f30a14212",
   "metadata": {},
   "outputs": [
    {
     "data": {
      "text/plain": [
       "True"
      ]
     },
     "execution_count": 26,
     "metadata": {},
     "output_type": "execute_result"
    }
   ],
   "source": [
    "my.isdigit()"
   ]
  },
  {
   "cell_type": "markdown",
   "id": "5ade795f-347f-48b1-b91f-4600f418247d",
   "metadata": {},
   "source": [
    "#isalnum()"
   ]
  },
  {
   "cell_type": "code",
   "execution_count": 28,
   "id": "d4c9abc6-6743-4be7-ad97-f82905d54f92",
   "metadata": {},
   "outputs": [],
   "source": [
    "my=\"somu123\""
   ]
  },
  {
   "cell_type": "code",
   "execution_count": 29,
   "id": "c7dced6f-509e-4fa1-9ba2-1fdbd0be7d9f",
   "metadata": {},
   "outputs": [
    {
     "data": {
      "text/plain": [
       "True"
      ]
     },
     "execution_count": 29,
     "metadata": {},
     "output_type": "execute_result"
    }
   ],
   "source": [
    "my.isalnum()"
   ]
  },
  {
   "cell_type": "code",
   "execution_count": 30,
   "id": "a1e72d5a-7dbc-44bb-a53e-92d713d02c0a",
   "metadata": {},
   "outputs": [],
   "source": [
    "#isspace()"
   ]
  },
  {
   "cell_type": "code",
   "execution_count": 33,
   "id": "4e298118-f59d-4c7d-88de-7c7939333779",
   "metadata": {},
   "outputs": [
    {
     "data": {
      "text/plain": [
       "True"
      ]
     },
     "execution_count": 33,
     "metadata": {},
     "output_type": "execute_result"
    }
   ],
   "source": [
    "m=\" \"\n",
    "m.isspace()"
   ]
  },
  {
   "cell_type": "markdown",
   "id": "fba6816a-f1d5-4bd2-bbfd-d2f4ed8d18aa",
   "metadata": {},
   "source": [
    "#starwith() \n",
    "#endwith()"
   ]
  },
  {
   "cell_type": "code",
   "execution_count": 35,
   "id": "02ba06c6-1500-44da-9d44-3f05b8f8daaa",
   "metadata": {},
   "outputs": [
    {
     "data": {
      "text/plain": [
       "True"
      ]
     },
     "execution_count": 35,
     "metadata": {},
     "output_type": "execute_result"
    }
   ],
   "source": [
    "text=\"my name is somu\"\n",
    "text.startswith(\"m\")"
   ]
  },
  {
   "cell_type": "code",
   "execution_count": 37,
   "id": "14ac2b90-9599-477d-9264-1c6afab001ca",
   "metadata": {},
   "outputs": [
    {
     "data": {
      "text/plain": [
       "True"
      ]
     },
     "execution_count": 37,
     "metadata": {},
     "output_type": "execute_result"
    }
   ],
   "source": [
    "text.endswith(\"u\")"
   ]
  },
  {
   "cell_type": "markdown",
   "id": "21b5f675-292f-4065-8096-229f5f08e564",
   "metadata": {},
   "source": [
    "#index()"
   ]
  },
  {
   "cell_type": "code",
   "execution_count": 38,
   "id": "b5ccb0a3-18eb-4e0b-9890-e71d1b575ac1",
   "metadata": {},
   "outputs": [],
   "source": [
    "text=\"sunday is funday\""
   ]
  },
  {
   "cell_type": "code",
   "execution_count": 40,
   "id": "0339f7c6-f28e-4912-9a94-910882f6217d",
   "metadata": {},
   "outputs": [
    {
     "data": {
      "text/plain": [
       "10"
      ]
     },
     "execution_count": 40,
     "metadata": {},
     "output_type": "execute_result"
    }
   ],
   "source": [
    "text.index(\"fun\")"
   ]
  },
  {
   "cell_type": "markdown",
   "id": "c33c8be9-79f3-40f9-9861-6531d7deccf5",
   "metadata": {},
   "source": [
    "#split()"
   ]
  },
  {
   "cell_type": "code",
   "execution_count": 41,
   "id": "ab852a99-08ee-444c-b138-44a0bca56356",
   "metadata": {},
   "outputs": [],
   "source": [
    "n=\"i love python\""
   ]
  },
  {
   "cell_type": "code",
   "execution_count": 42,
   "id": "00dbd2f0-31ea-470c-b235-30e5d1931c66",
   "metadata": {},
   "outputs": [
    {
     "data": {
      "text/plain": [
       "['i', 'love', 'python']"
      ]
     },
     "execution_count": 42,
     "metadata": {},
     "output_type": "execute_result"
    }
   ],
   "source": [
    "n.split()"
   ]
  },
  {
   "cell_type": "code",
   "execution_count": 43,
   "id": "e3ec36b3-dcec-4381-af29-dd27c4864f85",
   "metadata": {},
   "outputs": [],
   "source": [
    "n=\"i@love@python\""
   ]
  },
  {
   "cell_type": "code",
   "execution_count": 45,
   "id": "01d33ef3-e58c-45c2-87f0-f196aa85bfe8",
   "metadata": {},
   "outputs": [
    {
     "data": {
      "text/plain": [
       "['i', 'love', 'python']"
      ]
     },
     "execution_count": 45,
     "metadata": {},
     "output_type": "execute_result"
    }
   ],
   "source": [
    "n.split(\"@\")"
   ]
  },
  {
   "cell_type": "markdown",
   "id": "f4b2b21a-1667-44ca-b9e0-eac40ee6d9ce",
   "metadata": {},
   "source": [
    "#join()"
   ]
  },
  {
   "cell_type": "code",
   "execution_count": 46,
   "id": "54e05747-dea6-4544-a74b-4ec9232e685c",
   "metadata": {},
   "outputs": [
    {
     "data": {
      "text/plain": [
       "'s o m u'"
      ]
     },
     "execution_count": 46,
     "metadata": {},
     "output_type": "execute_result"
    }
   ],
   "source": [
    "\" \".join([\"s\",\"o\",\"m\",\"u\"])"
   ]
  },
  {
   "cell_type": "code",
   "execution_count": 47,
   "id": "b4b84ccd-6e91-4c0c-bebe-b21b3cab6c44",
   "metadata": {},
   "outputs": [
    {
     "data": {
      "text/plain": [
       "'somu'"
      ]
     },
     "execution_count": 47,
     "metadata": {},
     "output_type": "execute_result"
    }
   ],
   "source": [
    "\"\".join([\"s\",\"o\",\"m\",\"u\"])"
   ]
  },
  {
   "cell_type": "code",
   "execution_count": 48,
   "id": "73dd5421-1f91-4ae6-8a1f-06ecc694ec41",
   "metadata": {},
   "outputs": [
    {
     "data": {
      "text/plain": [
       "'s@o@m@u'"
      ]
     },
     "execution_count": 48,
     "metadata": {},
     "output_type": "execute_result"
    }
   ],
   "source": [
    "\"@\".join([\"s\",\"o\",\"m\",\"u\"])"
   ]
  },
  {
   "cell_type": "code",
   "execution_count": 49,
   "id": "03e68079-09ea-43c1-9029-5a4bc1f94edc",
   "metadata": {},
   "outputs": [
    {
     "data": {
      "text/plain": [
       "'s o m u'"
      ]
     },
     "execution_count": 49,
     "metadata": {},
     "output_type": "execute_result"
    }
   ],
   "source": [
    "\" \".join(\"somu\")"
   ]
  },
  {
   "cell_type": "code",
   "execution_count": null,
   "id": "a7e71d77-7e69-46bc-8c79-7334f5434e19",
   "metadata": {},
   "outputs": [],
   "source": []
  }
 ],
 "metadata": {
  "kernelspec": {
   "display_name": "Python 3 (ipykernel)",
   "language": "python",
   "name": "python3"
  },
  "language_info": {
   "codemirror_mode": {
    "name": "ipython",
    "version": 3
   },
   "file_extension": ".py",
   "mimetype": "text/x-python",
   "name": "python",
   "nbconvert_exporter": "python",
   "pygments_lexer": "ipython3",
   "version": "3.12.4"
  }
 },
 "nbformat": 4,
 "nbformat_minor": 5
}
