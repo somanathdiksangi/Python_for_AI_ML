{
 "cells": [
  {
   "cell_type": "markdown",
   "id": "fb6d4393-583d-40b3-adc4-9e9c7ffa0028",
   "metadata": {},
   "source": [
    "STRING"
   ]
  },
  {
   "cell_type": "code",
   "execution_count": 4,
   "id": "11424804-439f-464c-b8d0-8874399aeb55",
   "metadata": {},
   "outputs": [],
   "source": [
    "a=\"somu\"\n",
    "b=\"d\"\n",
    "c=\" \""
   ]
  },
  {
   "cell_type": "code",
   "execution_count": 5,
   "id": "7bcc431c-4733-48e7-bf46-6353543cbe64",
   "metadata": {},
   "outputs": [
    {
     "name": "stdout",
     "output_type": "stream",
     "text": [
      "somu\n"
     ]
    }
   ],
   "source": [
    "print(a)"
   ]
  },
  {
   "cell_type": "code",
   "execution_count": 6,
   "id": "210b5005-96cb-4585-882f-4a5c1a09c603",
   "metadata": {},
   "outputs": [
    {
     "data": {
      "text/plain": [
       "'somu'"
      ]
     },
     "execution_count": 6,
     "metadata": {},
     "output_type": "execute_result"
    }
   ],
   "source": [
    "a"
   ]
  },
  {
   "cell_type": "code",
   "execution_count": 7,
   "id": "8b96dd9c-b758-4363-aea0-39d017b64108",
   "metadata": {},
   "outputs": [],
   "source": [
    "a='somu'\n"
   ]
  },
  {
   "cell_type": "code",
   "execution_count": 8,
   "id": "37e47596-9473-4bef-9d0b-b1c45133161b",
   "metadata": {},
   "outputs": [
    {
     "name": "stdout",
     "output_type": "stream",
     "text": [
      "somu\n"
     ]
    }
   ],
   "source": [
    "print(a)"
   ]
  },
  {
   "cell_type": "code",
   "execution_count": 9,
   "id": "281aa26d-1184-4afb-bd1d-e468c923019f",
   "metadata": {},
   "outputs": [
    {
     "data": {
      "text/plain": [
       "'somu'"
      ]
     },
     "execution_count": 9,
     "metadata": {},
     "output_type": "execute_result"
    }
   ],
   "source": [
    "a"
   ]
  },
  {
   "cell_type": "code",
   "execution_count": 10,
   "id": "b83c95c8-1a0b-4b07-b3f5-4add15680052",
   "metadata": {},
   "outputs": [
    {
     "ename": "SyntaxError",
     "evalue": "unterminated string literal (detected at line 1) (104749899.py, line 1)",
     "output_type": "error",
     "traceback": [
      "\u001b[1;36m  Cell \u001b[1;32mIn[10], line 1\u001b[1;36m\u001b[0m\n\u001b[1;33m    b=\"i\u001b[0m\n\u001b[1;37m      ^\u001b[0m\n\u001b[1;31mSyntaxError\u001b[0m\u001b[1;31m:\u001b[0m unterminated string literal (detected at line 1)\n"
     ]
    }
   ],
   "source": [
    "b=\"i\n",
    "love \n",
    "python\""
   ]
  },
  {
   "cell_type": "code",
   "execution_count": 11,
   "id": "2fa13ca5-b04b-4e43-8712-5acfcd1d523d",
   "metadata": {},
   "outputs": [],
   "source": [
    "b=\"\"\"i\n",
    "love\n",
    "python\"\"\""
   ]
  },
  {
   "cell_type": "code",
   "execution_count": 12,
   "id": "be3b3c5c-92b7-40d5-be02-2847d3b91437",
   "metadata": {},
   "outputs": [
    {
     "data": {
      "text/plain": [
       "'i\\nlove\\npython'"
      ]
     },
     "execution_count": 12,
     "metadata": {},
     "output_type": "execute_result"
    }
   ],
   "source": [
    "b"
   ]
  },
  {
   "cell_type": "code",
   "execution_count": 13,
   "id": "7963f624-07aa-414a-9b22-32019d8d74d7",
   "metadata": {},
   "outputs": [
    {
     "data": {
      "text/plain": [
       "str"
      ]
     },
     "execution_count": 13,
     "metadata": {},
     "output_type": "execute_result"
    }
   ],
   "source": [
    "z=\"a\"\n",
    "type(z)"
   ]
  },
  {
   "cell_type": "code",
   "execution_count": 15,
   "id": "2e8853f1-1eef-4012-8dad-f50492f982c6",
   "metadata": {},
   "outputs": [
    {
     "data": {
      "text/plain": [
       "' '"
      ]
     },
     "execution_count": 15,
     "metadata": {},
     "output_type": "execute_result"
    }
   ],
   "source": [
    "m=\" \"\n",
    "m"
   ]
  },
  {
   "cell_type": "code",
   "execution_count": 16,
   "id": "32cfc295-75ac-4194-bc2b-0ac92603ad28",
   "metadata": {},
   "outputs": [],
   "source": [
    "my=\"i love coding\""
   ]
  },
  {
   "cell_type": "code",
   "execution_count": 18,
   "id": "be8407bd-2793-4c7f-bbb7-f02aff8759d3",
   "metadata": {},
   "outputs": [
    {
     "data": {
      "text/plain": [
       "12"
      ]
     },
     "execution_count": 18,
     "metadata": {},
     "output_type": "execute_result"
    }
   ],
   "source": [
    "len(my)-1"
   ]
  },
  {
   "cell_type": "code",
   "execution_count": 19,
   "id": "671aa6f0-9e5f-4327-84b2-be30156d9246",
   "metadata": {},
   "outputs": [
    {
     "data": {
      "text/plain": [
       "'v'"
      ]
     },
     "execution_count": 19,
     "metadata": {},
     "output_type": "execute_result"
    }
   ],
   "source": [
    "my[4]"
   ]
  },
  {
   "cell_type": "code",
   "execution_count": 21,
   "id": "44e159db-170f-47d3-a750-6323c97fc0a6",
   "metadata": {},
   "outputs": [
    {
     "data": {
      "text/plain": [
       "'love '"
      ]
     },
     "execution_count": 21,
     "metadata": {},
     "output_type": "execute_result"
    }
   ],
   "source": [
    "my[2:7]"
   ]
  },
  {
   "cell_type": "code",
   "execution_count": 22,
   "id": "12ff46db-1537-4fc8-a996-fa24b458f059",
   "metadata": {},
   "outputs": [
    {
     "name": "stdin",
     "output_type": "stream",
     "text": [
      "enter a string somu\n"
     ]
    }
   ],
   "source": [
    "a=input(\"enter a string\")"
   ]
  },
  {
   "cell_type": "code",
   "execution_count": 47,
   "id": "127e4459-327a-40c0-be42-ba923a3cb041",
   "metadata": {},
   "outputs": [
    {
     "name": "stdout",
     "output_type": "stream",
     "text": [
      "umos"
     ]
    }
   ],
   "source": [
    "b=len(a)-1\n",
    "for i in range(b,-1,-1):\n",
    "    print(a[i],end=\"\")\n"
   ]
  },
  {
   "cell_type": "code",
   "execution_count": 50,
   "id": "583ac858-b655-4fdc-a0e5-f8cf02be0bb8",
   "metadata": {},
   "outputs": [
    {
     "data": {
      "text/plain": [
       "'somu diksangi'"
      ]
     },
     "execution_count": 50,
     "metadata": {},
     "output_type": "execute_result"
    }
   ],
   "source": [
    "a=\"somu\"\n",
    "b=\"diksangi\"\n",
    "a+\" \"+b"
   ]
  },
  {
   "cell_type": "code",
   "execution_count": 40,
   "id": "2520d06a-9608-4e98-aaa4-0ee1ede0e9d5",
   "metadata": {},
   "outputs": [],
   "source": [
    "\n"
   ]
  },
  {
   "cell_type": "code",
   "execution_count": null,
   "id": "baef54b8-89af-46b3-8e99-bcb4b1729183",
   "metadata": {},
   "outputs": [],
   "source": []
  }
 ],
 "metadata": {
  "kernelspec": {
   "display_name": "Python 3 (ipykernel)",
   "language": "python",
   "name": "python3"
  },
  "language_info": {
   "codemirror_mode": {
    "name": "ipython",
    "version": 3
   },
   "file_extension": ".py",
   "mimetype": "text/x-python",
   "name": "python",
   "nbconvert_exporter": "python",
   "pygments_lexer": "ipython3",
   "version": "3.12.4"
  }
 },
 "nbformat": 4,
 "nbformat_minor": 5
}
