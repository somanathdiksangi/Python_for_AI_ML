{
 "cells": [
  {
   "cell_type": "code",
   "execution_count": null,
   "id": "af48c4e1-6c3e-410c-bf7b-45eb6dc0a82f",
   "metadata": {},
   "outputs": [],
   "source": []
  }
 ],
 "metadata": {
  "kernelspec": {
   "display_name": "",
   "name": ""
  },
  "language_info": {
   "name": ""
  }
 },
 "nbformat": 4,
 "nbformat_minor": 5
}
