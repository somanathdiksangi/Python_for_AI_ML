{
 "cells": [
  {
   "cell_type": "code",
   "execution_count": null,
   "id": "83146bb2-0295-4ac9-93e4-b0369a4a34bc",
   "metadata": {},
   "outputs": [],
   "source": []
  }
 ],
 "metadata": {
  "kernelspec": {
   "display_name": "",
   "name": ""
  },
  "language_info": {
   "name": ""
  }
 },
 "nbformat": 4,
 "nbformat_minor": 5
}
