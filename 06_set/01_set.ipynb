{
 "cells": [
  {
   "cell_type": "code",
   "execution_count": 7,
   "id": "ce057526-f20f-4b7f-a75c-9ea0fe020574",
   "metadata": {},
   "outputs": [],
   "source": [
    "mylist=[1,2,36,5,8] #acces element index\n",
    "mytuple=(1,5,2,6,5)#acces element index\n",
    "myset={1,5,6,9,8} # we canot acces element index"
   ]
  },
  {
   "cell_type": "code",
   "execution_count": 8,
   "id": "7c87acb6-92dc-4e7a-bcc8-5359bc755ac6",
   "metadata": {},
   "outputs": [
    {
     "data": {
      "text/plain": [
       "list"
      ]
     },
     "execution_count": 8,
     "metadata": {},
     "output_type": "execute_result"
    }
   ],
   "source": [
    "type(mylist)"
   ]
  },
  {
   "cell_type": "code",
   "execution_count": 9,
   "id": "6d4dc8d8-4f5b-4e51-95be-6467f9cfefec",
   "metadata": {},
   "outputs": [
    {
     "data": {
      "text/plain": [
       "tuple"
      ]
     },
     "execution_count": 9,
     "metadata": {},
     "output_type": "execute_result"
    }
   ],
   "source": [
    "type(mytuple)"
   ]
  },
  {
   "cell_type": "code",
   "execution_count": 10,
   "id": "7d8a0f04-db15-4185-b8d7-5f391caf0ba0",
   "metadata": {},
   "outputs": [
    {
     "data": {
      "text/plain": [
       "set"
      ]
     },
     "execution_count": 10,
     "metadata": {},
     "output_type": "execute_result"
    }
   ],
   "source": [
    "type(myset)"
   ]
  },
  {
   "cell_type": "code",
   "execution_count": 11,
   "id": "804869cb-87ab-4322-92ab-20e298671090",
   "metadata": {},
   "outputs": [],
   "source": [
    "myset={1,15,1,85,6}"
   ]
  },
  {
   "cell_type": "code",
   "execution_count": 12,
   "id": "011425a8-ac8c-4116-866f-7d7afacbbfa6",
   "metadata": {},
   "outputs": [
    {
     "data": {
      "text/plain": [
       "{1, 6, 15, 85}"
      ]
     },
     "execution_count": 12,
     "metadata": {},
     "output_type": "execute_result"
    }
   ],
   "source": [
    "myset"
   ]
  },
  {
   "cell_type": "code",
   "execution_count": 13,
   "id": "5d09eed3-9ee8-4a3e-85f2-d8c39de1f0cf",
   "metadata": {},
   "outputs": [
    {
     "ename": "TypeError",
     "evalue": "'set' object is not subscriptable",
     "output_type": "error",
     "traceback": [
      "\u001b[1;31m---------------------------------------------------------------------------\u001b[0m",
      "\u001b[1;31mTypeError\u001b[0m                                 Traceback (most recent call last)",
      "Cell \u001b[1;32mIn[13], line 1\u001b[0m\n\u001b[1;32m----> 1\u001b[0m \u001b[43mmyset\u001b[49m\u001b[43m[\u001b[49m\u001b[38;5;241;43m0\u001b[39;49m\u001b[43m]\u001b[49m\n",
      "\u001b[1;31mTypeError\u001b[0m: 'set' object is not subscriptable"
     ]
    }
   ],
   "source": [
    "myset[0]"
   ]
  },
  {
   "cell_type": "markdown",
   "id": "96c9d64f-8560-40f1-82f6-342cebe88659",
   "metadata": {},
   "source": [
    "1.we can not keep duplicate value\n",
    "\n",
    "\n",
    "2.we can not use subscript operator(we can not indexing as well as slicing "
   ]
  },
  {
   "cell_type": "markdown",
   "id": "830f844b-fad0-4b38-bad5-069edb9f662a",
   "metadata": {},
   "source": [
    "set(<iterable>)"
   ]
  },
  {
   "cell_type": "code",
   "execution_count": 17,
   "id": "b8180b42-edc8-464a-8fba-55d9ba4f1f84",
   "metadata": {},
   "outputs": [
    {
     "data": {
      "text/plain": [
       "{1, 6, 15, 85}"
      ]
     },
     "execution_count": 17,
     "metadata": {},
     "output_type": "execute_result"
    }
   ],
   "source": [
    "myset"
   ]
  },
  {
   "cell_type": "code",
   "execution_count": 18,
   "id": "bdf67eb9-7a72-4f29-bf70-74887b29f491",
   "metadata": {},
   "outputs": [],
   "source": [
    "myset.add(1000)"
   ]
  },
  {
   "cell_type": "code",
   "execution_count": 19,
   "id": "26aebf83-27ed-4cec-96b5-a9387194e3c2",
   "metadata": {},
   "outputs": [
    {
     "data": {
      "text/plain": [
       "{1, 6, 15, 85, 1000}"
      ]
     },
     "execution_count": 19,
     "metadata": {},
     "output_type": "execute_result"
    }
   ],
   "source": [
    "myset"
   ]
  },
  {
   "cell_type": "code",
   "execution_count": 20,
   "id": "f242ecad-8ce3-4e35-84c7-0b391656171d",
   "metadata": {},
   "outputs": [],
   "source": [
    "myset.clear()"
   ]
  },
  {
   "cell_type": "code",
   "execution_count": 21,
   "id": "a444294c-e3af-4042-b8dd-58b401db7ce5",
   "metadata": {},
   "outputs": [
    {
     "data": {
      "text/plain": [
       "set()"
      ]
     },
     "execution_count": 21,
     "metadata": {},
     "output_type": "execute_result"
    }
   ],
   "source": [
    "myset"
   ]
  },
  {
   "cell_type": "markdown",
   "id": "8caa9f29-c78e-44a1-81b1-c244ca7ee35e",
   "metadata": {},
   "source": [
    "#pop() #remove() #update()"
   ]
  },
  {
   "cell_type": "code",
   "execution_count": null,
   "id": "67935a97-7132-474c-94c4-1b6a7f93983e",
   "metadata": {},
   "outputs": [],
   "source": []
  }
 ],
 "metadata": {
  "kernelspec": {
   "display_name": "Python 3 (ipykernel)",
   "language": "python",
   "name": "python3"
  },
  "language_info": {
   "codemirror_mode": {
    "name": "ipython",
    "version": 3
   },
   "file_extension": ".py",
   "mimetype": "text/x-python",
   "name": "python",
   "nbconvert_exporter": "python",
   "pygments_lexer": "ipython3",
   "version": "3.12.4"
  }
 },
 "nbformat": 4,
 "nbformat_minor": 5
}
