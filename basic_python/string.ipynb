{
 "cells": [
  {
   "cell_type": "code",
   "execution_count": null,
   "id": "16e97658-4825-4901-b303-d2fbf609282c",
   "metadata": {},
   "outputs": [],
   "source": [
    "w= \"python\""
   ]
  },
  {
   "cell_type": "code",
   "execution_count": 4,
   "id": "242ac4a2-e712-469c-9818-f125fa2d52e9",
   "metadata": {},
   "outputs": [
    {
     "data": {
      "text/plain": [
       "'p'"
      ]
     },
     "execution_count": 4,
     "metadata": {},
     "output_type": "execute_result"
    }
   ],
   "source": [
    "w[0]"
   ]
  },
  {
   "cell_type": "raw",
   "id": "f7f6177b-e87b-49f2-a89a-3fd4e3efcce0",
   "metadata": {},
   "source": [
    "in python two type of index 1) forward 2) backward index hota hai "
   ]
  },
  {
   "cell_type": "code",
   "execution_count": 5,
   "id": "409add1d-be00-4fe0-ba57-99f1add89c7e",
   "metadata": {},
   "outputs": [
    {
     "data": {
      "text/plain": [
       "'o'"
      ]
     },
     "execution_count": 5,
     "metadata": {},
     "output_type": "execute_result"
    }
   ],
   "source": [
    " w[4]"
   ]
  },
  {
   "cell_type": "code",
   "execution_count": 6,
   "id": "57d2a5ce-76a9-4a32-8c0e-1d095e4917ac",
   "metadata": {},
   "outputs": [
    {
     "data": {
      "text/plain": [
       "'o'"
      ]
     },
     "execution_count": 6,
     "metadata": {},
     "output_type": "execute_result"
    }
   ],
   "source": [
    "w[-2]"
   ]
  },
  {
   "cell_type": "code",
   "execution_count": 7,
   "id": "788765c7-e837-46df-a5c4-eca1b9a58a2c",
   "metadata": {},
   "outputs": [
    {
     "data": {
      "text/plain": [
       "5"
      ]
     },
     "execution_count": 7,
     "metadata": {},
     "output_type": "execute_result"
    }
   ],
   "source": [
    "len(w)-1"
   ]
  },
  {
   "cell_type": "code",
   "execution_count": 8,
   "id": "d65a0248-ac5d-4eec-9a69-d8403efb2499",
   "metadata": {},
   "outputs": [
    {
     "data": {
      "text/plain": [
       "'somu diksangi'"
      ]
     },
     "execution_count": 8,
     "metadata": {},
     "output_type": "execute_result"
    }
   ],
   "source": [
    "a=\"somu\"\n",
    "b=\"diksangi\"\n",
    "a+\" \"+b"
   ]
  },
  {
   "cell_type": "code",
   "execution_count": 9,
   "id": "66c97c2f-48ed-4678-b1fa-e9b66a85dc36",
   "metadata": {},
   "outputs": [
    {
     "data": {
      "text/plain": [
       "'so'"
      ]
     },
     "execution_count": 9,
     "metadata": {},
     "output_type": "execute_result"
    }
   ],
   "source": [
    "a[0:2]"
   ]
  },
  {
   "cell_type": "code",
   "execution_count": 10,
   "id": "d352e516-2b29-4816-b766-d4dae587fcf4",
   "metadata": {},
   "outputs": [
    {
     "data": {
      "text/plain": [
       "3"
      ]
     },
     "execution_count": 10,
     "metadata": {},
     "output_type": "execute_result"
    }
   ],
   "source": [
    "len(a)-1"
   ]
  },
  {
   "cell_type": "code",
   "execution_count": 11,
   "id": "4922f650-0ae9-42e6-bd09-2547c63fa254",
   "metadata": {},
   "outputs": [
    {
     "data": {
      "text/plain": [
       "'somu'"
      ]
     },
     "execution_count": 11,
     "metadata": {},
     "output_type": "execute_result"
    }
   ],
   "source": [
    "a[0:4]"
   ]
  },
  {
   "cell_type": "code",
   "execution_count": 12,
   "id": "d2a8535c-38e6-4aac-8851-2880428a288e",
   "metadata": {},
   "outputs": [
    {
     "data": {
      "text/plain": [
       "''"
      ]
     },
     "execution_count": 12,
     "metadata": {},
     "output_type": "execute_result"
    }
   ],
   "source": [
    "a[2:2]"
   ]
  },
  {
   "cell_type": "code",
   "execution_count": 13,
   "id": "23186d79-e8b7-4bb2-9457-c8491836e402",
   "metadata": {},
   "outputs": [
    {
     "data": {
      "text/plain": [
       "''"
      ]
     },
     "execution_count": 13,
     "metadata": {},
     "output_type": "execute_result"
    }
   ],
   "source": [
    "a[4:10]"
   ]
  },
  {
   "cell_type": "code",
   "execution_count": 14,
   "id": "bf23a8ca-1b2c-4645-97c0-dfb8c991e725",
   "metadata": {},
   "outputs": [
    {
     "data": {
      "text/plain": [
       "'somu'"
      ]
     },
     "execution_count": 14,
     "metadata": {},
     "output_type": "execute_result"
    }
   ],
   "source": [
    "a[:4]"
   ]
  },
  {
   "cell_type": "code",
   "execution_count": 15,
   "id": "ff130748-9732-4250-aab2-8eb7aed0202f",
   "metadata": {},
   "outputs": [
    {
     "data": {
      "text/plain": [
       "'somu'"
      ]
     },
     "execution_count": 15,
     "metadata": {},
     "output_type": "execute_result"
    }
   ],
   "source": [
    "a[0:]"
   ]
  },
  {
   "cell_type": "code",
   "execution_count": 16,
   "id": "1f0c138c-88e8-455a-8330-f5390853b36b",
   "metadata": {},
   "outputs": [
    {
     "data": {
      "text/plain": [
       "'somu'"
      ]
     },
     "execution_count": 16,
     "metadata": {},
     "output_type": "execute_result"
    }
   ],
   "source": [
    "a[:]"
   ]
  },
  {
   "cell_type": "code",
   "execution_count": 17,
   "id": "b7aff007-1d57-43f5-96c8-1426398485c5",
   "metadata": {},
   "outputs": [
    {
     "ename": "SyntaxError",
     "evalue": "invalid syntax (1145722274.py, line 1)",
     "output_type": "error",
     "traceback": [
      "\u001b[1;36m  Cell \u001b[1;32mIn[17], line 1\u001b[1;36m\u001b[0m\n\u001b[1;33m    a[]\u001b[0m\n\u001b[1;37m      ^\u001b[0m\n\u001b[1;31mSyntaxError\u001b[0m\u001b[1;31m:\u001b[0m invalid syntax\n"
     ]
    }
   ],
   "source": [
    "a[]"
   ]
  },
  {
   "cell_type": "code",
   "execution_count": 18,
   "id": "267ac9c9-dae4-4c2c-981e-0e3deb17a162",
   "metadata": {},
   "outputs": [],
   "source": [
    "s=\"welcome\""
   ]
  },
  {
   "cell_type": "code",
   "execution_count": 20,
   "id": "dc220536-775e-4543-aa2e-cc8677eaae9c",
   "metadata": {},
   "outputs": [
    {
     "data": {
      "text/plain": [
       "'com'"
      ]
     },
     "execution_count": 20,
     "metadata": {},
     "output_type": "execute_result"
    }
   ],
   "source": [
    "s[-4:-1]"
   ]
  },
  {
   "cell_type": "code",
   "execution_count": 21,
   "id": "53009c17-3ade-451f-a063-c845a15818ef",
   "metadata": {},
   "outputs": [
    {
     "data": {
      "text/plain": [
       "''"
      ]
     },
     "execution_count": 21,
     "metadata": {},
     "output_type": "execute_result"
    }
   ],
   "source": [
    "s[-1:-4]"
   ]
  },
  {
   "cell_type": "raw",
   "id": "0c7a66a5-c5f0-4942-b64c-308aef883858",
   "metadata": {},
   "source": [
    "step value "
   ]
  },
  {
   "cell_type": "code",
   "execution_count": 22,
   "id": "807d831b-ef84-4daf-a438-31060701bfa3",
   "metadata": {},
   "outputs": [],
   "source": [
    "a=\"my name is somu\""
   ]
  },
  {
   "cell_type": "code",
   "execution_count": 23,
   "id": "45793861-0e8f-44b5-8269-f7884f0c3759",
   "metadata": {},
   "outputs": [
    {
     "data": {
      "text/plain": [
       "14"
      ]
     },
     "execution_count": 23,
     "metadata": {},
     "output_type": "execute_result"
    }
   ],
   "source": [
    "len(a)-1"
   ]
  },
  {
   "cell_type": "code",
   "execution_count": 24,
   "id": "81b81f05-04be-498c-a1fe-ba1f55c4304c",
   "metadata": {},
   "outputs": [
    {
     "data": {
      "text/plain": [
       "'my name is somu'"
      ]
     },
     "execution_count": 24,
     "metadata": {},
     "output_type": "execute_result"
    }
   ],
   "source": [
    "a[0:15]"
   ]
  },
  {
   "cell_type": "code",
   "execution_count": 25,
   "id": "05d9ac58-8973-46b9-838e-1ad3f4d019fa",
   "metadata": {},
   "outputs": [
    {
     "data": {
      "text/plain": [
       "'m aei ou'"
      ]
     },
     "execution_count": 25,
     "metadata": {},
     "output_type": "execute_result"
    }
   ],
   "source": [
    "a[0:15:2]"
   ]
  },
  {
   "cell_type": "code",
   "execution_count": 26,
   "id": "591a7cda-840e-4217-8644-821573af7343",
   "metadata": {},
   "outputs": [
    {
     "data": {
      "text/plain": [
       "'umos si eman ym'"
      ]
     },
     "execution_count": 26,
     "metadata": {},
     "output_type": "execute_result"
    }
   ],
   "source": [
    "a[-1::-1]"
   ]
  },
  {
   "cell_type": "code",
   "execution_count": null,
   "id": "26bdf293-4d2c-4bd9-831f-6864ab59e4b3",
   "metadata": {},
   "outputs": [],
   "source": []
  }
 ],
 "metadata": {
  "kernelspec": {
   "display_name": "Python 3 (ipykernel)",
   "language": "python",
   "name": "python3"
  },
  "language_info": {
   "codemirror_mode": {
    "name": "ipython",
    "version": 3
   },
   "file_extension": ".py",
   "mimetype": "text/x-python",
   "name": "python",
   "nbconvert_exporter": "python",
   "pygments_lexer": "ipython3",
   "version": "3.12.4"
  }
 },
 "nbformat": 4,
 "nbformat_minor": 5
}
