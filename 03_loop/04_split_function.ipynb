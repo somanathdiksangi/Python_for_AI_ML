{
 "cells": [
  {
   "cell_type": "markdown",
   "id": "e29cce12-3020-4c6e-b441-c9b2c794e3ed",
   "metadata": {},
   "source": [
    "#split function "
   ]
  },
  {
   "cell_type": "code",
   "execution_count": 2,
   "id": "df793fa9-d1dc-4911-b65b-6e88ba8b4d94",
   "metadata": {},
   "outputs": [],
   "source": [
    "text=\" i write code\""
   ]
  },
  {
   "cell_type": "code",
   "execution_count": 3,
   "id": "7d76ccad-9507-4d76-944e-68ab608c99a9",
   "metadata": {},
   "outputs": [
    {
     "data": {
      "text/plain": [
       "['i', 'write', 'code']"
      ]
     },
     "execution_count": 3,
     "metadata": {},
     "output_type": "execute_result"
    }
   ],
   "source": [
    "text.split()"
   ]
  },
  {
   "cell_type": "markdown",
   "id": "dffe950b-e38b-40fd-be54-734dfc48fe08",
   "metadata": {},
   "source": [
    "#split(separater,maxsplit)"
   ]
  },
  {
   "cell_type": "code",
   "execution_count": 4,
   "id": "7e11c093-55ef-46c5-8c51-86afe0f4aef7",
   "metadata": {},
   "outputs": [],
   "source": [
    "a=\"i love python\""
   ]
  },
  {
   "cell_type": "code",
   "execution_count": 5,
   "id": "175b966d-cfaa-4620-9254-25fff62e9d17",
   "metadata": {},
   "outputs": [
    {
     "data": {
      "text/plain": [
       "['i', 'love', 'python']"
      ]
     },
     "execution_count": 5,
     "metadata": {},
     "output_type": "execute_result"
    }
   ],
   "source": [
    "a.split()"
   ]
  },
  {
   "cell_type": "code",
   "execution_count": 6,
   "id": "821f9a58-8faa-493e-9271-afa256cf1c1a",
   "metadata": {},
   "outputs": [
    {
     "name": "stdin",
     "output_type": "stream",
     "text": [
      "enter 3 word message i love python\n"
     ]
    }
   ],
   "source": [
    "b=input(\"enter 3 word message\")"
   ]
  },
  {
   "cell_type": "code",
   "execution_count": 7,
   "id": "d5eb89c9-5da0-4c8b-b934-6a2c1401729d",
   "metadata": {},
   "outputs": [
    {
     "data": {
      "text/plain": [
       "'i love python'"
      ]
     },
     "execution_count": 7,
     "metadata": {},
     "output_type": "execute_result"
    }
   ],
   "source": [
    "b"
   ]
  },
  {
   "cell_type": "code",
   "execution_count": 8,
   "id": "d8cdc780-67bf-47ee-b6b8-20fe6e2999a9",
   "metadata": {},
   "outputs": [],
   "source": [
    "word1,word2,word3 = b.split()"
   ]
  },
  {
   "cell_type": "code",
   "execution_count": 9,
   "id": "12f7c988-b2f4-4e63-89d3-cec94fc1196f",
   "metadata": {},
   "outputs": [
    {
     "name": "stdout",
     "output_type": "stream",
     "text": [
      "i\n",
      "love\n",
      "python\n"
     ]
    }
   ],
   "source": [
    "print(word1)\n",
    "print(word2)\n",
    "print(word3)"
   ]
  },
  {
   "cell_type": "code",
   "execution_count": 13,
   "id": "54f8ef60-2362-4dca-98dc-1fd17d1e1ecf",
   "metadata": {},
   "outputs": [
    {
     "name": "stdin",
     "output_type": "stream",
     "text": [
      "enter roll no name per 13 somu 69\n"
     ]
    }
   ],
   "source": [
    "h=input(\"enter roll no name per\")\n",
    "x1,x2,x3=h.split()"
   ]
  },
  {
   "cell_type": "code",
   "execution_count": 14,
   "id": "1891fbad-cafb-4ed6-9a75-93e18ea0c845",
   "metadata": {},
   "outputs": [
    {
     "name": "stdout",
     "output_type": "stream",
     "text": [
      "13\n",
      "somu\n",
      "69\n"
     ]
    }
   ],
   "source": [
    "print(x1)\n",
    "print(x2)\n",
    "print(x3)"
   ]
  },
  {
   "cell_type": "code",
   "execution_count": 15,
   "id": "85ff56f4-2e10-48ac-a16b-d68e7c67fdfb",
   "metadata": {},
   "outputs": [
    {
     "name": "stdout",
     "output_type": "stream",
     "text": [
      "['A', 'B', 'C D E F']\n"
     ]
    }
   ],
   "source": [
    "s1=\"A B C D E F\"\n",
    "print(s1.split(' ',2))"
   ]
  },
  {
   "cell_type": "code",
   "execution_count": null,
   "id": "3ebe8728-4b37-44e4-99c1-3430e90f9ba8",
   "metadata": {},
   "outputs": [],
   "source": []
  }
 ],
 "metadata": {
  "kernelspec": {
   "display_name": "Python 3 (ipykernel)",
   "language": "python",
   "name": "python3"
  },
  "language_info": {
   "codemirror_mode": {
    "name": "ipython",
    "version": 3
   },
   "file_extension": ".py",
   "mimetype": "text/x-python",
   "name": "python",
   "nbconvert_exporter": "python",
   "pygments_lexer": "ipython3",
   "version": "3.12.4"
  }
 },
 "nbformat": 4,
 "nbformat_minor": 5
}
