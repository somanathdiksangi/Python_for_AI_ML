{
 "cells": [
  {
   "cell_type": "code",
   "execution_count": null,
   "id": "b536341f-dbeb-4253-be36-1891f898c92d",
   "metadata": {},
   "outputs": [],
   "source": []
  }
 ],
 "metadata": {
  "kernelspec": {
   "display_name": "",
   "name": ""
  },
  "language_info": {
   "name": ""
  }
 },
 "nbformat": 4,
 "nbformat_minor": 5
}
