{
 "cells": [
  {
   "cell_type": "code",
   "execution_count": null,
   "id": "9889db1e-63cb-4812-b682-c084b0f15416",
   "metadata": {},
   "outputs": [],
   "source": []
  }
 ],
 "metadata": {
  "kernelspec": {
   "display_name": "",
   "name": ""
  },
  "language_info": {
   "name": ""
  }
 },
 "nbformat": 4,
 "nbformat_minor": 5
}
