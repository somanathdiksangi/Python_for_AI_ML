{
 "cells": [
  {
   "cell_type": "code",
   "execution_count": 19,
   "id": "2a1c823e-7093-42bd-915e-0c22c90f8c66",
   "metadata": {},
   "outputs": [],
   "source": [
    "def favi(n):\n",
    "    if n==0:\n",
    "        return 1\n",
    "    else:\n",
    "        return n* favi(n-1)\n",
    "    \n",
    "    \n",
    "    "
   ]
  },
  {
   "cell_type": "code",
   "execution_count": 20,
   "id": "35d0a69e-6e50-4a65-8f21-a41ac74adce6",
   "metadata": {},
   "outputs": [
    {
     "data": {
      "text/plain": [
       "24"
      ]
     },
     "execution_count": 20,
     "metadata": {},
     "output_type": "execute_result"
    }
   ],
   "source": [
    "c=favi(4)\n",
    "c"
   ]
  },
  {
   "cell_type": "code",
   "execution_count": 22,
   "id": "d8d1ee63-4b44-420d-9f17-3c4a4f6258a6",
   "metadata": {},
   "outputs": [],
   "source": [
    "def num(a,b,c,d):\n",
    "    return a*b*c*d"
   ]
  },
  {
   "cell_type": "code",
   "execution_count": 23,
   "id": "f6effea8-447d-4ff5-865a-7d4937c20714",
   "metadata": {},
   "outputs": [
    {
     "ename": "TypeError",
     "evalue": "num() missing 3 required positional arguments: 'b', 'c', and 'd'",
     "output_type": "error",
     "traceback": [
      "\u001b[1;31m---------------------------------------------------------------------------\u001b[0m",
      "\u001b[1;31mTypeError\u001b[0m                                 Traceback (most recent call last)",
      "Cell \u001b[1;32mIn[23], line 1\u001b[0m\n\u001b[1;32m----> 1\u001b[0m a\u001b[38;5;241m=\u001b[39m\u001b[43mnum\u001b[49m\u001b[43m(\u001b[49m\u001b[38;5;241;43m10\u001b[39;49m\u001b[43m)\u001b[49m\n\u001b[0;32m      2\u001b[0m a\n",
      "\u001b[1;31mTypeError\u001b[0m: num() missing 3 required positional arguments: 'b', 'c', and 'd'"
     ]
    }
   ],
   "source": [
    "a=num(10)\n",
    "a"
   ]
  },
  {
   "cell_type": "code",
   "execution_count": 25,
   "id": "536494cc-b267-4850-bd09-c4c9b43b715e",
   "metadata": {},
   "outputs": [
    {
     "data": {
      "text/plain": [
       "240000"
      ]
     },
     "execution_count": 25,
     "metadata": {},
     "output_type": "execute_result"
    }
   ],
   "source": [
    "a=num(10,20,30,40) #position argument\n",
    "a"
   ]
  },
  {
   "cell_type": "code",
   "execution_count": 27,
   "id": "d29275fe-b874-4d14-a15a-0476bbf76df4",
   "metadata": {},
   "outputs": [
    {
     "data": {
      "text/plain": [
       "240000"
      ]
     },
     "execution_count": 27,
     "metadata": {},
     "output_type": "execute_result"
    }
   ],
   "source": [
    "a=num(a=10,b=20,c=30,d=40) # keyword argument \n",
    "a"
   ]
  },
  {
   "cell_type": "code",
   "execution_count": 28,
   "id": "003c850d-cd3f-4148-9e56-88d5cb7d5b65",
   "metadata": {},
   "outputs": [],
   "source": [
    "def num(a,b,c,d=0): #  \n",
    "    return a*b*c*d"
   ]
  },
  {
   "cell_type": "code",
   "execution_count": 31,
   "id": "3700fa2b-c709-4b29-b959-9fae47af18a8",
   "metadata": {},
   "outputs": [
    {
     "data": {
      "text/plain": [
       "0"
      ]
     },
     "execution_count": 31,
     "metadata": {},
     "output_type": "execute_result"
    }
   ],
   "source": [
    "a=num(1,2,4)\n",
    "a"
   ]
  },
  {
   "cell_type": "code",
   "execution_count": 32,
   "id": "a9a5bd92-422b-4386-beba-00908918c39a",
   "metadata": {},
   "outputs": [],
   "source": [
    "def num(a,b,c,d):\n",
    "    return a*b*c*d"
   ]
  },
  {
   "cell_type": "code",
   "execution_count": 33,
   "id": "4d7d805b-af9d-40d8-9b58-3c6f994c2063",
   "metadata": {},
   "outputs": [],
   "source": [
    "def num(a,b,c):\n",
    "    return a*b*c*d"
   ]
  },
  {
   "cell_type": "code",
   "execution_count": 34,
   "id": "60a61060-0c72-460a-9932-599bbbe33d6f",
   "metadata": {},
   "outputs": [
    {
     "ename": "TypeError",
     "evalue": "num() takes 3 positional arguments but 4 were given",
     "output_type": "error",
     "traceback": [
      "\u001b[1;31m---------------------------------------------------------------------------\u001b[0m",
      "\u001b[1;31mTypeError\u001b[0m                                 Traceback (most recent call last)",
      "Cell \u001b[1;32mIn[34], line 1\u001b[0m\n\u001b[1;32m----> 1\u001b[0m a\u001b[38;5;241m=\u001b[39m\u001b[43mnum\u001b[49m\u001b[43m(\u001b[49m\u001b[38;5;241;43m1\u001b[39;49m\u001b[43m,\u001b[49m\u001b[38;5;241;43m2\u001b[39;49m\u001b[43m,\u001b[49m\u001b[38;5;241;43m3\u001b[39;49m\u001b[43m,\u001b[49m\u001b[38;5;241;43m4\u001b[39;49m\u001b[43m)\u001b[49m\n",
      "\u001b[1;31mTypeError\u001b[0m: num() takes 3 positional arguments but 4 were given"
     ]
    }
   ],
   "source": [
    "a=num(1,2,3,4)"
   ]
  },
  {
   "cell_type": "markdown",
   "id": "eac8ef6c-07fb-4174-a985-8a90e52ba1ce",
   "metadata": {},
   "source": [
    "python does not supprot fuction overloding \n",
    "it will always take recent defination "
   ]
  },
  {
   "cell_type": "code",
   "execution_count": 35,
   "id": "2406ff0a-9681-4fa2-88c7-d6ba467e9427",
   "metadata": {},
   "outputs": [],
   "source": [
    "def num(*a):\n",
    "    return a"
   ]
  },
  {
   "cell_type": "code",
   "execution_count": 37,
   "id": "229efa4f-11c7-4886-bb39-f80875a88f87",
   "metadata": {},
   "outputs": [
    {
     "data": {
      "text/plain": [
       "(1, 2, 3, 5, 6, 5)"
      ]
     },
     "execution_count": 37,
     "metadata": {},
     "output_type": "execute_result"
    }
   ],
   "source": [
    "a=num(1,2,3,5,6,5)\n",
    "a"
   ]
  },
  {
   "cell_type": "code",
   "execution_count": 44,
   "id": "c7b72395-b16f-40bb-b1ea-1f703a33aee5",
   "metadata": {},
   "outputs": [],
   "source": [
    "def are(r,pi=3.142): #are of the circle \n",
    "    return r*r*pi"
   ]
  },
  {
   "cell_type": "code",
   "execution_count": 45,
   "id": "250d5a39-1cd5-43dc-abaf-2cb48ab3313a",
   "metadata": {},
   "outputs": [
    {
     "name": "stdin",
     "output_type": "stream",
     "text": [
      "enter a radias 10\n"
     ]
    },
    {
     "data": {
      "text/plain": [
       "314.2"
      ]
     },
     "execution_count": 45,
     "metadata": {},
     "output_type": "execute_result"
    }
   ],
   "source": [
    "n=int(input(\"enter a radias\"))\n",
    "c=are(n)\n",
    "c"
   ]
  },
  {
   "cell_type": "code",
   "execution_count": 46,
   "id": "c436454c-250c-42fb-b17d-06b5debf72c1",
   "metadata": {},
   "outputs": [],
   "source": [
    "def find_large(*a):\n",
    "    c=len(a)\n",
    "    return c\n",
    "    \n",
    "    \n"
   ]
  },
  {
   "cell_type": "code",
   "execution_count": 48,
   "id": "50af9700-d1a3-4dc8-a0f8-2ddeaa81fe55",
   "metadata": {},
   "outputs": [
    {
     "data": {
      "text/plain": [
       "2"
      ]
     },
     "execution_count": 48,
     "metadata": {},
     "output_type": "execute_result"
    }
   ],
   "source": [
    "d=find_large(\"somu\",\"diksangi\")\n",
    "d"
   ]
  },
  {
   "cell_type": "code",
   "execution_count": null,
   "id": "5d4d7745-7206-4d85-9d94-f0789b631582",
   "metadata": {},
   "outputs": [],
   "source": []
  }
 ],
 "metadata": {
  "kernelspec": {
   "display_name": "Python 3 (ipykernel)",
   "language": "python",
   "name": "python3"
  },
  "language_info": {
   "codemirror_mode": {
    "name": "ipython",
    "version": 3
   },
   "file_extension": ".py",
   "mimetype": "text/x-python",
   "name": "python",
   "nbconvert_exporter": "python",
   "pygments_lexer": "ipython3",
   "version": "3.12.4"
  }
 },
 "nbformat": 4,
 "nbformat_minor": 5
}
