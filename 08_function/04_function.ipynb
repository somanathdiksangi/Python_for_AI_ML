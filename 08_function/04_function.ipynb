{
 "cells": [
  {
   "cell_type": "markdown",
   "id": "10f9182f-8066-49e3-a5a1-943faa3f7801",
   "metadata": {},
   "source": [
    "#lambda function"
   ]
  },
  {
   "cell_type": "code",
   "execution_count": 2,
   "id": "8ed38388-0da7-4c26-b310-6a4581b6031e",
   "metadata": {},
   "outputs": [],
   "source": [
    "def add(a,b):\n",
    "    return a+b"
   ]
  },
  {
   "cell_type": "code",
   "execution_count": 3,
   "id": "078569bd-6d5e-4a98-b639-0585eae17ade",
   "metadata": {},
   "outputs": [
    {
     "data": {
      "text/plain": [
       "15"
      ]
     },
     "execution_count": 3,
     "metadata": {},
     "output_type": "execute_result"
    }
   ],
   "source": [
    "add(10,5)"
   ]
  },
  {
   "cell_type": "code",
   "execution_count": 5,
   "id": "de0212a8-5d81-470c-bf5c-7ce1a5cbd296",
   "metadata": {},
   "outputs": [
    {
     "name": "stdout",
     "output_type": "stream",
     "text": [
      "5\n"
     ]
    }
   ],
   "source": [
    "print((lambda a,b:a+b)(2,3))"
   ]
  },
  {
   "cell_type": "code",
   "execution_count": 6,
   "id": "e3d7f326-4bea-415a-9586-21582fdd7d82",
   "metadata": {},
   "outputs": [
    {
     "data": {
      "text/plain": [
       "60"
      ]
     },
     "execution_count": 6,
     "metadata": {},
     "output_type": "execute_result"
    }
   ],
   "source": [
    "myl=lambda a,b:a+b\n",
    "myl(105,50)"
   ]
  },
  {
   "cell_type": "code",
   "execution_count": 18,
   "id": "fc930e42-f3c4-477f-b948-69b14c2da571",
   "metadata": {},
   "outputs": [],
   "source": [
    "def seq(a):\n",
    "    return a*a \n",
    "\n",
    "    "
   ]
  },
  {
   "cell_type": "code",
   "execution_count": 23,
   "id": "88e0e4f4-e1ed-4b94-b0bf-0bf40223131e",
   "metadata": {},
   "outputs": [
    {
     "data": {
      "text/plain": [
       "100"
      ]
     },
     "execution_count": 23,
     "metadata": {},
     "output_type": "execute_result"
    }
   ],
   "source": [
    "s=lambda a:a*a\n",
    "s(10)\n"
   ]
  },
  {
   "cell_type": "code",
   "execution_count": null,
   "id": "25c76a1d-94c8-4a65-883d-82393b981690",
   "metadata": {},
   "outputs": [],
   "source": []
  }
 ],
 "metadata": {
  "kernelspec": {
   "display_name": "Python 3 (ipykernel)",
   "language": "python",
   "name": "python3"
  },
  "language_info": {
   "codemirror_mode": {
    "name": "ipython",
    "version": 3
   },
   "file_extension": ".py",
   "mimetype": "text/x-python",
   "name": "python",
   "nbconvert_exporter": "python",
   "pygments_lexer": "ipython3",
   "version": "3.12.4"
  }
 },
 "nbformat": 4,
 "nbformat_minor": 5
}
