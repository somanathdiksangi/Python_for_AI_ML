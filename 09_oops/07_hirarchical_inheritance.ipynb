{
 "cells": [
  {
   "cell_type": "markdown",
   "id": "6e6bb93b-221f-4086-94ea-8e9ad2ef3e1b",
   "metadata": {},
   "source": [
    "##   hirarchical inheritance"
   ]
  },
  {
   "cell_type": "code",
   "execution_count": 21,
   "id": "40512f67-e965-4c43-aeff-dc7ff293093c",
   "metadata": {},
   "outputs": [],
   "source": [
    "class schoolmamer:\n",
    "    def __init__(self,name,age):\n",
    "        self.name=name\n",
    "        self.age=age\n",
    "    def tell(self):  \n",
    "        print(self.name,self.age , end=\" \")\n",
    "class student(schoolmamer):\n",
    "    def __init__(self,name,age,rollno,per):\n",
    "        super().__init__(name,age)\n",
    "        self.rollno=rollno\n",
    "        self.per=per\n",
    "    def tell(self):\n",
    "        super().tell()\n",
    "        print(self.rollno,self.per)\n",
    "class teacher(schoolmamer):\n",
    "    def __init__(self,name,age,sal):\n",
    "        super().__init__(name,age)\n",
    "        self.sal=sal\n",
    "        "
   ]
  },
  {
   "cell_type": "code",
   "execution_count": 22,
   "id": "69862c01-1c49-440e-9f90-0dc96999b795",
   "metadata": {},
   "outputs": [],
   "source": [
    "s1=student(\"somu\",25,13,95)"
   ]
  },
  {
   "cell_type": "code",
   "execution_count": 23,
   "id": "4d972108-344f-461d-b379-9af349e76fba",
   "metadata": {},
   "outputs": [
    {
     "name": "stdout",
     "output_type": "stream",
     "text": [
      "somu 25 13 95\n"
     ]
    }
   ],
   "source": [
    "s1.tell()"
   ]
  },
  {
   "cell_type": "code",
   "execution_count": 13,
   "id": "7287cb1f-4a58-4554-ac84-6bb0de9e6585",
   "metadata": {},
   "outputs": [
    {
     "data": {
      "text/plain": [
       "25"
      ]
     },
     "execution_count": 13,
     "metadata": {},
     "output_type": "execute_result"
    }
   ],
   "source": [
    "s1.age"
   ]
  },
  {
   "cell_type": "code",
   "execution_count": 14,
   "id": "32cb1bd6-f743-4ca3-81c2-1d4a74a583aa",
   "metadata": {},
   "outputs": [
    {
     "data": {
      "text/plain": [
       "95"
      ]
     },
     "execution_count": 14,
     "metadata": {},
     "output_type": "execute_result"
    }
   ],
   "source": [
    "s1.per"
   ]
  },
  {
   "cell_type": "code",
   "execution_count": null,
   "id": "dddcb05c-7e4c-4cc3-a501-e7a236b0aba9",
   "metadata": {},
   "outputs": [],
   "source": [
    "t1=teacher"
   ]
  }
 ],
 "metadata": {
  "kernelspec": {
   "display_name": "Python 3 (ipykernel)",
   "language": "python",
   "name": "python3"
  },
  "language_info": {
   "codemirror_mode": {
    "name": "ipython",
    "version": 3
   },
   "file_extension": ".py",
   "mimetype": "text/x-python",
   "name": "python",
   "nbconvert_exporter": "python",
   "pygments_lexer": "ipython3",
   "version": "3.12.4"
  }
 },
 "nbformat": 4,
 "nbformat_minor": 5
}
