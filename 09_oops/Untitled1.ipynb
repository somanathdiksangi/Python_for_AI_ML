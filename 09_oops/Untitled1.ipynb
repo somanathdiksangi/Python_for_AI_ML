{
 "cells": [
  {
   "cell_type": "markdown",
   "id": "121d3ca0-e8e9-429a-95df-dff0184f74b0",
   "metadata": {},
   "source": [
    "## multiple inheritance "
   ]
  },
  {
   "cell_type": "code",
   "execution_count": 5,
   "id": "9fd0f1e1-5ce6-4a56-9653-e949e5b3fde0",
   "metadata": {},
   "outputs": [],
   "source": [
    "class A:\n",
    "    def __init__(self):\n",
    "        print(\"A has been created\")\n",
    "class B:\n",
    "     def __init__(self):\n",
    "        print(\"B has been created\")\n",
    "    \n",
    "class C(A,B):\n",
    "    pass\n",
    "     #def __init__(self):\n",
    "       # print(\"C has been created\")"
   ]
  },
  {
   "cell_type": "code",
   "execution_count": 6,
   "id": "561567f6-7859-41d6-83f8-a0962b8ef6e9",
   "metadata": {},
   "outputs": [
    {
     "name": "stdout",
     "output_type": "stream",
     "text": [
      "A has been created\n"
     ]
    }
   ],
   "source": [
    "ob=C()"
   ]
  },
  {
   "cell_type": "code",
   "execution_count": 7,
   "id": "9e89b697-0919-474f-ae70-ec6da86b9200",
   "metadata": {},
   "outputs": [
    {
     "name": "stdout",
     "output_type": "stream",
     "text": [
      "A has been created\n"
     ]
    }
   ],
   "source": [
    "ob=C()"
   ]
  },
  {
   "cell_type": "code",
   "execution_count": 8,
   "id": "6d6a82f0-b3c8-4606-b715-ac664c751972",
   "metadata": {},
   "outputs": [
    {
     "name": "stdout",
     "output_type": "stream",
     "text": [
      "A has been created\n"
     ]
    }
   ],
   "source": [
    "ob=C()"
   ]
  },
  {
   "cell_type": "code",
   "execution_count": null,
   "id": "97945d64-80df-4569-9654-30b29f70d99f",
   "metadata": {},
   "outputs": [],
   "source": []
  }
 ],
 "metadata": {
  "kernelspec": {
   "display_name": "Python 3 (ipykernel)",
   "language": "python",
   "name": "python3"
  },
  "language_info": {
   "codemirror_mode": {
    "name": "ipython",
    "version": 3
   },
   "file_extension": ".py",
   "mimetype": "text/x-python",
   "name": "python",
   "nbconvert_exporter": "python",
   "pygments_lexer": "ipython3",
   "version": "3.12.4"
  }
 },
 "nbformat": 4,
 "nbformat_minor": 5
}
