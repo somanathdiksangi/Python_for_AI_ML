{
 "cells": [
  {
   "cell_type": "markdown",
   "id": "4bbee3d3-0e5f-4b98-b2c4-762d1c39f77e",
   "metadata": {},
   "source": [
    "encapulation "
   ]
  },
  {
   "cell_type": "code",
   "execution_count": 22,
   "id": "5422abbc-e85e-49f6-9e33-613dc1f17aba",
   "metadata": {},
   "outputs": [],
   "source": [
    "class emp:\n",
    "    def __init__(self):\n",
    "        self.name=\"somu\"\n",
    "        self.__sal=2500\n",
    "        self.age=21\n",
    "    def display(self):\n",
    "        print(self.name,self.__sal,self.age)"
   ]
  },
  {
   "cell_type": "code",
   "execution_count": 23,
   "id": "a073e5a6-6d6a-4865-8c2e-e37e297e4a90",
   "metadata": {},
   "outputs": [],
   "source": [
    "em1=emp()"
   ]
  },
  {
   "cell_type": "code",
   "execution_count": 24,
   "id": "3dd19d03-419b-4f0f-b193-154da20e1ef8",
   "metadata": {},
   "outputs": [
    {
     "data": {
      "text/plain": [
       "'somu'"
      ]
     },
     "execution_count": 24,
     "metadata": {},
     "output_type": "execute_result"
    }
   ],
   "source": [
    "em1.name"
   ]
  },
  {
   "cell_type": "code",
   "execution_count": 25,
   "id": "1eaa7243-760d-4797-9c49-82dc7943e414",
   "metadata": {},
   "outputs": [
    {
     "ename": "AttributeError",
     "evalue": "'emp' object has no attribute 'sal'",
     "output_type": "error",
     "traceback": [
      "\u001b[1;31m---------------------------------------------------------------------------\u001b[0m",
      "\u001b[1;31mAttributeError\u001b[0m                            Traceback (most recent call last)",
      "Cell \u001b[1;32mIn[25], line 1\u001b[0m\n\u001b[1;32m----> 1\u001b[0m \u001b[43mem1\u001b[49m\u001b[38;5;241;43m.\u001b[39;49m\u001b[43msal\u001b[49m\n",
      "\u001b[1;31mAttributeError\u001b[0m: 'emp' object has no attribute 'sal'"
     ]
    }
   ],
   "source": [
    "em1.sal"
   ]
  },
  {
   "cell_type": "code",
   "execution_count": 26,
   "id": "0a9c03c7-1778-4a1c-9799-0d3a95021f1f",
   "metadata": {},
   "outputs": [
    {
     "data": {
      "text/plain": [
       "21"
      ]
     },
     "execution_count": 26,
     "metadata": {},
     "output_type": "execute_result"
    }
   ],
   "source": [
    "em1.age"
   ]
  },
  {
   "cell_type": "code",
   "execution_count": 27,
   "id": "e15e4998-b7c5-4c19-8637-2e24984497d3",
   "metadata": {},
   "outputs": [
    {
     "name": "stdout",
     "output_type": "stream",
     "text": [
      "somu 2500 21\n"
     ]
    }
   ],
   "source": [
    "em1.display()"
   ]
  },
  {
   "cell_type": "code",
   "execution_count": 29,
   "id": "0b6d2927-4a2e-4f96-9e4d-541451821802",
   "metadata": {},
   "outputs": [],
   "source": [
    "#private __<var name>\n",
    "#public <var name>\n",
    "#protacted _<var name>"
   ]
  },
  {
   "cell_type": "code",
   "execution_count": 38,
   "id": "27060808-c086-474d-80c5-2f6026ac469d",
   "metadata": {},
   "outputs": [],
   "source": [
    "class emp:\n",
    "    def __init__(self):\n",
    "        self.name=\"somu\"\n",
    "        self.__sal=2500\n",
    "        self.age=21\n",
    "    def __display(self):\n",
    "        print(self.name,self.__sal,self.age)\n",
    "    def show(self):\n",
    "          self.__display()\n",
    "          "
   ]
  },
  {
   "cell_type": "code",
   "execution_count": 39,
   "id": "68f04d9d-7e19-43f7-a021-4ff88999d949",
   "metadata": {},
   "outputs": [],
   "source": [
    "em2=emp()\n"
   ]
  },
  {
   "cell_type": "code",
   "execution_count": 40,
   "id": "1a9659e3-4948-4294-91bb-ca0c70862b5d",
   "metadata": {},
   "outputs": [
    {
     "ename": "AttributeError",
     "evalue": "'emp' object has no attribute 'display'",
     "output_type": "error",
     "traceback": [
      "\u001b[1;31m---------------------------------------------------------------------------\u001b[0m",
      "\u001b[1;31mAttributeError\u001b[0m                            Traceback (most recent call last)",
      "Cell \u001b[1;32mIn[40], line 1\u001b[0m\n\u001b[1;32m----> 1\u001b[0m \u001b[43mem2\u001b[49m\u001b[38;5;241;43m.\u001b[39;49m\u001b[43mdisplay\u001b[49m()\n",
      "\u001b[1;31mAttributeError\u001b[0m: 'emp' object has no attribute 'display'"
     ]
    }
   ],
   "source": [
    "em2.display()"
   ]
  },
  {
   "cell_type": "code",
   "execution_count": 41,
   "id": "ffd5d323-ab44-459e-8c52-d51c315ea742",
   "metadata": {},
   "outputs": [
    {
     "name": "stdout",
     "output_type": "stream",
     "text": [
      "somu 2500 21\n"
     ]
    }
   ],
   "source": [
    "em2.show()"
   ]
  }
 ],
 "metadata": {
  "kernelspec": {
   "display_name": "Python 3 (ipykernel)",
   "language": "python",
   "name": "python3"
  },
  "language_info": {
   "codemirror_mode": {
    "name": "ipython",
    "version": 3
   },
   "file_extension": ".py",
   "mimetype": "text/x-python",
   "name": "python",
   "nbconvert_exporter": "python",
   "pygments_lexer": "ipython3",
   "version": "3.12.4"
  }
 },
 "nbformat": 4,
 "nbformat_minor": 5
}
