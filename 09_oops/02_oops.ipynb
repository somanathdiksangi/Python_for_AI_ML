{
 "cells": [
  {
   "cell_type": "markdown",
   "id": "06ee3a47-c692-47b5-81e9-31dcd7b825d3",
   "metadata": {},
   "source": [
    "1.how to define class and object in python \n",
    "2.variable in class \n",
    "3.method in class \n"
   ]
  },
  {
   "cell_type": "code",
   "execution_count": 23,
   "id": "4e9ff7c0-72df-41ea-ae4c-ec79444ce711",
   "metadata": {},
   "outputs": [],
   "source": [
    "class emp:\n",
    "    def __init__(self):\n",
    "        print(\"object created\")\n",
    "\n",
    "    def trst():\n",
    "        print(\"trst\")\n",
    "\n",
    "    def demo(self):\n",
    "        print(\"demo\")"
   ]
  },
  {
   "cell_type": "code",
   "execution_count": 24,
   "id": "1c2b915c-3034-41b6-a132-7c32d7385f29",
   "metadata": {},
   "outputs": [
    {
     "name": "stdout",
     "output_type": "stream",
     "text": [
      "object created\n"
     ]
    }
   ],
   "source": [
    "somu=emp() #object"
   ]
  },
  {
   "cell_type": "code",
   "execution_count": 28,
   "id": "c0cff078-4743-4482-a6b3-b3e6bb5955f0",
   "metadata": {},
   "outputs": [
    {
     "name": "stdout",
     "output_type": "stream",
     "text": [
      "object created\n"
     ]
    },
    {
     "ename": "TypeError",
     "evalue": "emp.trst() takes 0 positional arguments but 1 was given",
     "output_type": "error",
     "traceback": [
      "\u001b[1;31m---------------------------------------------------------------------------\u001b[0m",
      "\u001b[1;31mTypeError\u001b[0m                                 Traceback (most recent call last)",
      "Cell \u001b[1;32mIn[28], line 2\u001b[0m\n\u001b[0;32m      1\u001b[0m pammu\u001b[38;5;241m=\u001b[39memp()\n\u001b[1;32m----> 2\u001b[0m \u001b[43mpammu\u001b[49m\u001b[38;5;241;43m.\u001b[39;49m\u001b[43mtrst\u001b[49m\u001b[43m(\u001b[49m\u001b[43m)\u001b[49m\n",
      "\u001b[1;31mTypeError\u001b[0m: emp.trst() takes 0 positional arguments but 1 was given"
     ]
    }
   ],
   "source": [
    "pammu=emp()\n",
    "pammu.trst()"
   ]
  },
  {
   "cell_type": "code",
   "execution_count": 16,
   "id": "a6c40316-b3eb-4b60-8a62-4d1e83567ed0",
   "metadata": {},
   "outputs": [
    {
     "name": "stdout",
     "output_type": "stream",
     "text": [
      "object created\n"
     ]
    }
   ],
   "source": [
    "amit=emp()"
   ]
  },
  {
   "cell_type": "code",
   "execution_count": 17,
   "id": "93f34bcc-a5ad-4a88-ad1b-730711252db6",
   "metadata": {},
   "outputs": [
    {
     "name": "stdout",
     "output_type": "stream",
     "text": [
      "object created\n"
     ]
    }
   ],
   "source": [
    "aditya=emp() #object creation"
   ]
  },
  {
   "cell_type": "markdown",
   "id": "cb88c50d-3653-4e5d-a901-c118b185d986",
   "metadata": {},
   "source": [
    "#init is a spacial method in python  or constructor which will be \n",
    "called automatically whenever we create a object"
   ]
  },
  {
   "cell_type": "code",
   "execution_count": 29,
   "id": "70783f4b-0e21-459c-bea1-3a89c504b6db",
   "metadata": {},
   "outputs": [
    {
     "name": "stdout",
     "output_type": "stream",
     "text": [
      "demo\n"
     ]
    }
   ],
   "source": [
    "pammu.demo()"
   ]
  },
  {
   "cell_type": "code",
   "execution_count": 33,
   "id": "db192652-fb21-41e7-8e52-d8cae5538e0c",
   "metadata": {},
   "outputs": [],
   "source": [
    "class emp:\n",
    "    def __init__(self):\n",
    "        print(\"object created\")\n",
    "\n",
    "    def test():\n",
    "        print(\"python is best\")\n",
    "\n",
    "    def demo(self):\n",
    "        print(\"ml is best\")"
   ]
  },
  {
   "cell_type": "code",
   "execution_count": 34,
   "id": "5212edec-ba3b-4135-bc8d-9996aa949982",
   "metadata": {},
   "outputs": [
    {
     "name": "stdout",
     "output_type": "stream",
     "text": [
      "object created\n"
     ]
    }
   ],
   "source": [
    "sunny=emp() #init called "
   ]
  },
  {
   "cell_type": "code",
   "execution_count": 35,
   "id": "9db83123-46ab-445d-97eb-2fb9e43ccae6",
   "metadata": {},
   "outputs": [
    {
     "ename": "TypeError",
     "evalue": "emp.test() takes 0 positional arguments but 1 was given",
     "output_type": "error",
     "traceback": [
      "\u001b[1;31m---------------------------------------------------------------------------\u001b[0m",
      "\u001b[1;31mTypeError\u001b[0m                                 Traceback (most recent call last)",
      "Cell \u001b[1;32mIn[35], line 1\u001b[0m\n\u001b[1;32m----> 1\u001b[0m \u001b[43msunny\u001b[49m\u001b[38;5;241;43m.\u001b[39;49m\u001b[43mtest\u001b[49m\u001b[43m(\u001b[49m\u001b[43m)\u001b[49m\n",
      "\u001b[1;31mTypeError\u001b[0m: emp.test() takes 0 positional arguments but 1 was given"
     ]
    }
   ],
   "source": [
    "sunny.test()"
   ]
  },
  {
   "cell_type": "code",
   "execution_count": 36,
   "id": "514e68d4-36e5-4064-980d-4b099195df6e",
   "metadata": {},
   "outputs": [
    {
     "name": "stdout",
     "output_type": "stream",
     "text": [
      "ml is best\n"
     ]
    }
   ],
   "source": [
    "sunny.demo()"
   ]
  },
  {
   "cell_type": "code",
   "execution_count": 41,
   "id": "a35a7614-56bc-4bfb-8e70-d9efb191b8ac",
   "metadata": {},
   "outputs": [],
   "source": [
    "class emp:\n",
    "    def __init__(self):\n",
    "        self.age=25\n",
    "        self.name=\"Rahul\"\n",
    "        self.sal=2500"
   ]
  },
  {
   "cell_type": "code",
   "execution_count": 42,
   "id": "7074d9fe-c9d8-4e5e-be8a-5d46a6b7fef9",
   "metadata": {},
   "outputs": [],
   "source": [
    "rahul=emp()"
   ]
  },
  {
   "cell_type": "code",
   "execution_count": 44,
   "id": "5fd6c560-d5ae-49ab-9618-6466c6523e86",
   "metadata": {},
   "outputs": [
    {
     "data": {
      "text/plain": [
       "25"
      ]
     },
     "execution_count": 44,
     "metadata": {},
     "output_type": "execute_result"
    }
   ],
   "source": [
    "rahul.age"
   ]
  },
  {
   "cell_type": "code",
   "execution_count": 45,
   "id": "e2f5ca9f-c695-4505-8d61-236eeb893b12",
   "metadata": {},
   "outputs": [
    {
     "data": {
      "text/plain": [
       "2500"
      ]
     },
     "execution_count": 45,
     "metadata": {},
     "output_type": "execute_result"
    }
   ],
   "source": [
    "rahul.sal"
   ]
  },
  {
   "cell_type": "code",
   "execution_count": 46,
   "id": "2bc7bc35-06ad-4929-8562-24d807fcd658",
   "metadata": {},
   "outputs": [
    {
     "data": {
      "text/plain": [
       "'Rahul'"
      ]
     },
     "execution_count": 46,
     "metadata": {},
     "output_type": "execute_result"
    }
   ],
   "source": [
    "rahul.name"
   ]
  },
  {
   "cell_type": "code",
   "execution_count": 47,
   "id": "40c5f7bb-a190-4af8-b199-e9a04c73aa79",
   "metadata": {},
   "outputs": [],
   "source": [
    "somu=emp()"
   ]
  },
  {
   "cell_type": "code",
   "execution_count": 48,
   "id": "bc4c6c3b-7531-414a-91e2-2dc409fcd72b",
   "metadata": {},
   "outputs": [
    {
     "data": {
      "text/plain": [
       "25"
      ]
     },
     "execution_count": 48,
     "metadata": {},
     "output_type": "execute_result"
    }
   ],
   "source": [
    "somu.age"
   ]
  },
  {
   "cell_type": "code",
   "execution_count": 55,
   "id": "fd6f1033-5784-48cf-9319-13d690f7aef3",
   "metadata": {},
   "outputs": [],
   "source": [
    "class emp:\n",
    "    def __init__(self,a,b,c):\n",
    "        self.age=a\n",
    "        self.name=b\n",
    "        self.sal=c"
   ]
  },
  {
   "cell_type": "code",
   "execution_count": 58,
   "id": "3339231d-c4ee-41b5-9b73-d255ce867878",
   "metadata": {},
   "outputs": [],
   "source": [
    "somu=emp(25,\"somu\",205)"
   ]
  },
  {
   "cell_type": "code",
   "execution_count": 59,
   "id": "f8ef67c4-6195-422e-aa26-f3d2c8ac85e1",
   "metadata": {},
   "outputs": [
    {
     "data": {
      "text/plain": [
       "25"
      ]
     },
     "execution_count": 59,
     "metadata": {},
     "output_type": "execute_result"
    }
   ],
   "source": [
    "somu.age"
   ]
  },
  {
   "cell_type": "code",
   "execution_count": 60,
   "id": "04cdd58e-dd2d-4718-8beb-22042d36ba52",
   "metadata": {},
   "outputs": [
    {
     "data": {
      "text/plain": [
       "'somu'"
      ]
     },
     "execution_count": 60,
     "metadata": {},
     "output_type": "execute_result"
    }
   ],
   "source": [
    "somu.name"
   ]
  },
  {
   "cell_type": "code",
   "execution_count": 61,
   "id": "aa85d773-4a2b-4f5a-a736-6fa3faf772a8",
   "metadata": {},
   "outputs": [
    {
     "data": {
      "text/plain": [
       "205"
      ]
     },
     "execution_count": 61,
     "metadata": {},
     "output_type": "execute_result"
    }
   ],
   "source": [
    "somu.sal"
   ]
  },
  {
   "cell_type": "code",
   "execution_count": 65,
   "id": "d46f49f0-8829-476c-8c5e-d97e75fefd2e",
   "metadata": {},
   "outputs": [],
   "source": [
    "class emp:\n",
    "    def __init__(self,a,b,c):\n",
    "        self.age=a\n",
    "        self.name=b\n",
    "        self.sal=c\n",
    "\n",
    "    def show(self):\n",
    "        print(self.age,self.name,self.sal)"
   ]
  },
  {
   "cell_type": "code",
   "execution_count": 66,
   "id": "0a83bd2f-f597-4022-b8fb-c3a754279a70",
   "metadata": {},
   "outputs": [],
   "source": [
    "somu=emp(25,\"somu\",205)\n"
   ]
  },
  {
   "cell_type": "code",
   "execution_count": 68,
   "id": "1fec4b2c-b9e1-4a24-8355-d3ce7c51f3c2",
   "metadata": {},
   "outputs": [
    {
     "name": "stdout",
     "output_type": "stream",
     "text": [
      "25 somu 205\n"
     ]
    }
   ],
   "source": [
    "somu.show()"
   ]
  },
  {
   "cell_type": "code",
   "execution_count": 85,
   "id": "d2595461-cc40-4ea3-8e3b-ecd2ce486b73",
   "metadata": {},
   "outputs": [],
   "source": [
    "class car:\n",
    "    def __init__(self,a,b,c):\n",
    "        self.top_speed=a\n",
    "        self.fuel_capacity=b\n",
    "        self.disk_break=c\n",
    "    def drive(self):\n",
    "        print(f\"top speed {self.top_speed} fuel capacity is {self.fuel_capacity}\")"
   ]
  },
  {
   "cell_type": "code",
   "execution_count": 86,
   "id": "017505ee-0d31-41ee-8891-d4bfbb6a71eb",
   "metadata": {},
   "outputs": [],
   "source": [
    "audi=car(350,15,\"yes\")"
   ]
  },
  {
   "cell_type": "code",
   "execution_count": 87,
   "id": "bf137a88-125f-44c0-8a7c-20c0b30b03a4",
   "metadata": {},
   "outputs": [
    {
     "name": "stdout",
     "output_type": "stream",
     "text": [
      "top speed 350 fuel capacity is 15\n"
     ]
    }
   ],
   "source": [
    "audi.drive()"
   ]
  }
 ],
 "metadata": {
  "kernelspec": {
   "display_name": "Python 3 (ipykernel)",
   "language": "python",
   "name": "python3"
  },
  "language_info": {
   "codemirror_mode": {
    "name": "ipython",
    "version": 3
   },
   "file_extension": ".py",
   "mimetype": "text/x-python",
   "name": "python",
   "nbconvert_exporter": "python",
   "pygments_lexer": "ipython3",
   "version": "3.12.4"
  }
 },
 "nbformat": 4,
 "nbformat_minor": 5
}
