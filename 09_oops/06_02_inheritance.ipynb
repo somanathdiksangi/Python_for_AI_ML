{
 "cells": [
  {
   "cell_type": "markdown",
   "id": "a3073042-5810-4496-926a-d59b768579a3",
   "metadata": {},
   "source": [
    "## simple inheritance"
   ]
  },
  {
   "cell_type": "code",
   "execution_count": 7,
   "id": "22a5e49b-910c-4c28-a7b3-ac5d6ec94ae1",
   "metadata": {},
   "outputs": [],
   "source": [
    "class animal:   #parent class\n",
    "    def eat(self):\n",
    "        print(\"yes its eats\")\n",
    "    def sleep(self):\n",
    "        print(\"yes its sleep\")\n",
    "class bird(animal):  #child class\n",
    "    def set_type(self,type):\n",
    "        self.type=type\n",
    "    def  fly(self):\n",
    "        print(\"yes it flay\")\n",
    "    def speak(self,sound):\n",
    "        print(f\"it speak:{sound} {sound}\")\n",
    "    def __repr__(self):\n",
    "        return \"this is a \"+ self.type\n",
    "      \n",
    "    \n",
    "    "
   ]
  },
  {
   "cell_type": "code",
   "execution_count": 8,
   "id": "17b57e00-4498-4c79-a066-f7c1f5791e2a",
   "metadata": {},
   "outputs": [],
   "source": [
    "duck=bird()"
   ]
  },
  {
   "cell_type": "code",
   "execution_count": 9,
   "id": "06981488-4ba0-4697-9deb-9177a3b841c2",
   "metadata": {},
   "outputs": [],
   "source": [
    "duck.set_type(\"duck\")"
   ]
  },
  {
   "cell_type": "code",
   "execution_count": 6,
   "id": "d45b2353-04e7-4d18-944e-d5fc3bf423c2",
   "metadata": {},
   "outputs": [
    {
     "name": "stdout",
     "output_type": "stream",
     "text": [
      "this is a duck\n"
     ]
    }
   ],
   "source": [
    "print(duck)"
   ]
  },
  {
   "cell_type": "code",
   "execution_count": 10,
   "id": "05ee0f53-badf-42a3-a79e-e1ff7e64eda4",
   "metadata": {},
   "outputs": [
    {
     "name": "stdout",
     "output_type": "stream",
     "text": [
      "yes its eats\n"
     ]
    }
   ],
   "source": [
    "duck.eat()"
   ]
  },
  {
   "cell_type": "code",
   "execution_count": 11,
   "id": "c990c350-ab48-4459-a440-09912b0ef629",
   "metadata": {},
   "outputs": [
    {
     "name": "stdout",
     "output_type": "stream",
     "text": [
      "yes its sleep\n"
     ]
    }
   ],
   "source": [
    "duck.sleep()"
   ]
  },
  {
   "cell_type": "code",
   "execution_count": 12,
   "id": "23d6caef-f8cf-4bd0-a4b4-b7559c66a89a",
   "metadata": {},
   "outputs": [
    {
     "name": "stdout",
     "output_type": "stream",
     "text": [
      "yes it flay\n"
     ]
    }
   ],
   "source": [
    "duck.fly()"
   ]
  },
  {
   "cell_type": "code",
   "execution_count": 16,
   "id": "26d5d617-38f0-4420-b53e-6cbfce482d55",
   "metadata": {},
   "outputs": [
    {
     "name": "stdout",
     "output_type": "stream",
     "text": [
      "it speak:quek quek quek quek\n"
     ]
    }
   ],
   "source": [
    "duck.speak(\"quek quek\")"
   ]
  },
  {
   "cell_type": "markdown",
   "id": "6b95aba0-307e-4bc2-bc04-ea2873966bcc",
   "metadata": {},
   "source": [
    "## multilavel inheritance"
   ]
  },
  {
   "cell_type": "code",
   "execution_count": 15,
   "id": "a83a1ff1-5cec-466e-8b5b-3f621bfcd56b",
   "metadata": {},
   "outputs": [],
   "source": [
    "class person:\n",
    "    def __init__(self,name,age):\n",
    "        self.name=name\n",
    "        self.age=age\n",
    "        print(\"person consturtor called\")\n",
    "class emp(person):\n",
    "    def __init__(self,name,age,ids,sal):\n",
    "        person.__init__(self,name,age)\n",
    "        self.ids=ids\n",
    "        self.sal=sal\n",
    "        print(\"emp consturtor called\")\n",
    "class manager(emp):\n",
    "    def __init__(self,name,age,ids,sal,bouns):\n",
    "        emp.__init__(self,name,age,ids,sal)\n",
    "        self.bouns=bouns\n",
    "        print(\"manger consturtor called\")"
   ]
  },
  {
   "cell_type": "code",
   "execution_count": 16,
   "id": "6749a12b-be52-4a68-88e1-c3d7698e325a",
   "metadata": {},
   "outputs": [
    {
     "name": "stdout",
     "output_type": "stream",
     "text": [
      "person consturtor called\n",
      "emp consturtor called\n",
      "manger consturtor called\n"
     ]
    }
   ],
   "source": [
    "m=manager(\"somu\",22,\"125x\",25000,15000)"
   ]
  },
  {
   "cell_type": "code",
   "execution_count": 17,
   "id": "2fd961d6-2a06-46d9-8d4b-80e796e281ac",
   "metadata": {},
   "outputs": [
    {
     "data": {
      "text/plain": [
       "15000"
      ]
     },
     "execution_count": 17,
     "metadata": {},
     "output_type": "execute_result"
    }
   ],
   "source": [
    "m.bouns"
   ]
  },
  {
   "cell_type": "code",
   "execution_count": 18,
   "id": "816219d7-2d3f-481a-9589-426abacdbfcb",
   "metadata": {},
   "outputs": [
    {
     "data": {
      "text/plain": [
       "22"
      ]
     },
     "execution_count": 18,
     "metadata": {},
     "output_type": "execute_result"
    }
   ],
   "source": [
    "m.age"
   ]
  },
  {
   "cell_type": "code",
   "execution_count": 19,
   "id": "f45f3c63-ba74-432b-ac26-78a2eecff69f",
   "metadata": {},
   "outputs": [
    {
     "data": {
      "text/plain": [
       "'somu'"
      ]
     },
     "execution_count": 19,
     "metadata": {},
     "output_type": "execute_result"
    }
   ],
   "source": [
    "m.name"
   ]
  },
  {
   "cell_type": "markdown",
   "id": "e1f03ea4-b88c-4db5-b2ce-f7b3f7ba6220",
   "metadata": {},
   "source": [
    "## using super method"
   ]
  },
  {
   "cell_type": "code",
   "execution_count": 33,
   "id": "69ec4568-1314-430c-8234-a740e81b87ed",
   "metadata": {},
   "outputs": [],
   "source": [
    "class person:\n",
    "    def __init__(self,name,age):\n",
    "        self.name=name\n",
    "        self.age=age\n",
    "        print(\"person consturtor called\")\n",
    "class emp(person):\n",
    "    def __init__(self,name,age,ids,sal):\n",
    "        super().__init__(name,age)\n",
    "        self.ids=ids\n",
    "        self.sal=sal\n",
    "        print(\"emp consturtor called\")\n",
    "class manager(emp):\n",
    "    def __init__(self,name,age,ids,sal,bouns):\n",
    "        super().__init__(name,age,ids,sal)\n",
    "        self.bouns=bouns\n",
    "        print(\"manger consturtor called\")\n",
    "    def __repr__(self): \n",
    "        return f\"manager bouns will be {self.bouns}\""
   ]
  },
  {
   "cell_type": "code",
   "execution_count": 34,
   "id": "0c281f86-45a7-4026-8afc-bd5c114c9b17",
   "metadata": {},
   "outputs": [
    {
     "name": "stdout",
     "output_type": "stream",
     "text": [
      "person consturtor called\n",
      "emp consturtor called\n",
      "manger consturtor called\n"
     ]
    }
   ],
   "source": [
    "ob2=manager(\"pammu\",15,5,2500,2000)"
   ]
  },
  {
   "cell_type": "code",
   "execution_count": 35,
   "id": "1ab36462-3105-44d8-94ed-580cedb50c84",
   "metadata": {},
   "outputs": [
    {
     "data": {
      "text/plain": [
       "5"
      ]
     },
     "execution_count": 35,
     "metadata": {},
     "output_type": "execute_result"
    }
   ],
   "source": [
    "ob2.ids"
   ]
  },
  {
   "cell_type": "code",
   "execution_count": 36,
   "id": "7423aecc-aff1-4427-b0ff-08e209980b84",
   "metadata": {},
   "outputs": [
    {
     "data": {
      "text/plain": [
       "'pammu'"
      ]
     },
     "execution_count": 36,
     "metadata": {},
     "output_type": "execute_result"
    }
   ],
   "source": [
    "ob2.name\n"
   ]
  },
  {
   "cell_type": "code",
   "execution_count": 37,
   "id": "147b55ef-d616-4368-9ea4-2a5760739ee9",
   "metadata": {},
   "outputs": [
    {
     "name": "stdout",
     "output_type": "stream",
     "text": [
      "manager bouns will be 2000\n"
     ]
    }
   ],
   "source": [
    "print(ob2)"
   ]
  },
  {
   "cell_type": "code",
   "execution_count": null,
   "id": "faacf8a3-9b45-4392-9f5a-1238a8eb302e",
   "metadata": {},
   "outputs": [],
   "source": []
  }
 ],
 "metadata": {
  "kernelspec": {
   "display_name": "Python 3 (ipykernel)",
   "language": "python",
   "name": "python3"
  },
  "language_info": {
   "codemirror_mode": {
    "name": "ipython",
    "version": 3
   },
   "file_extension": ".py",
   "mimetype": "text/x-python",
   "name": "python",
   "nbconvert_exporter": "python",
   "pygments_lexer": "ipython3",
   "version": "3.12.4"
  }
 },
 "nbformat": 4,
 "nbformat_minor": 5
}
