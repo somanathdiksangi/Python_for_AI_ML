{
 "cells": [
  {
   "cell_type": "markdown",
   "id": "4bbee3d3-0e5f-4b98-b2c4-762d1c39f77e",
   "metadata": {},
   "source": [
    "encapulation "
   ]
  },
  {
   "cell_type": "code",
   "execution_count": null,
   "id": "5422abbc-e85e-49f6-9e33-613dc1f17aba",
   "metadata": {},
   "outputs": [],
   "source": []
  }
 ],
 "metadata": {
  "kernelspec": {
   "display_name": "Python 3 (ipykernel)",
   "language": "python",
   "name": "python3"
  },
  "language_info": {
   "codemirror_mode": {
    "name": "ipython",
    "version": 3
   },
   "file_extension": ".py",
   "mimetype": "text/x-python",
   "name": "python",
   "nbconvert_exporter": "python",
   "pygments_lexer": "ipython3",
   "version": "3.12.4"
  }
 },
 "nbformat": 4,
 "nbformat_minor": 5
}
