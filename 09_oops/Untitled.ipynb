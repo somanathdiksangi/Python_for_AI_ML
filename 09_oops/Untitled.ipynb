{
 "cells": [
  {
   "cell_type": "code",
   "execution_count": 7,
   "id": "4a0133be-c61a-432a-8ab3-c50f5f66c4bb",
   "metadata": {},
   "outputs": [],
   "source": [
    "class circle:\n",
    "    def __init__(self,a):\n",
    "        self.radius=a\n",
    "    def cal_area(self):\n",
    "        print(f\"the radius of the circle is {self.radius}\")\n",
    "    def cal_cir(self):\n",
    "        c=self.radius\n",
    "        d=3.142\n",
    "        e=2*c*d\n",
    "        print(e)\n",
    "    "
   ]
  },
  {
   "cell_type": "code",
   "execution_count": 8,
   "id": "90b62dd4-ee33-4435-b8eb-982dd6a1759b",
   "metadata": {},
   "outputs": [],
   "source": [
    "cr1=circle(5)"
   ]
  },
  {
   "cell_type": "code",
   "execution_count": 9,
   "id": "b8b0cba4-7f8d-477d-af1a-e5899a5b9e1c",
   "metadata": {},
   "outputs": [
    {
     "name": "stdout",
     "output_type": "stream",
     "text": [
      "the radius of the circle is 5\n"
     ]
    }
   ],
   "source": [
    "cr1.cal_area()"
   ]
  },
  {
   "cell_type": "code",
   "execution_count": 10,
   "id": "97433d01-60ef-4583-ae32-7cce898c69b3",
   "metadata": {},
   "outputs": [
    {
     "name": "stdout",
     "output_type": "stream",
     "text": [
      "31.419999999999998\n"
     ]
    }
   ],
   "source": [
    "cr1.cal_cir()"
   ]
  },
  {
   "cell_type": "code",
   "execution_count": null,
   "id": "733b2a4b-f81b-4565-ad27-6f45f03568b7",
   "metadata": {},
   "outputs": [],
   "source": []
  }
 ],
 "metadata": {
  "kernelspec": {
   "display_name": "Python 3 (ipykernel)",
   "language": "python",
   "name": "python3"
  },
  "language_info": {
   "codemirror_mode": {
    "name": "ipython",
    "version": 3
   },
   "file_extension": ".py",
   "mimetype": "text/x-python",
   "name": "python",
   "nbconvert_exporter": "python",
   "pygments_lexer": "ipython3",
   "version": "3.12.4"
  }
 },
 "nbformat": 4,
 "nbformat_minor": 5
}
