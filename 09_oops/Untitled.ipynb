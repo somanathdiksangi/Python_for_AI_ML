{
 "cells": [
  {
   "cell_type": "markdown",
   "id": "e01fd935-2b2c-4c5d-adcb-c4abe76236af",
   "metadata": {},
   "source": [
    "simple inheritance"
   ]
  },
  {
   "cell_type": "code",
   "execution_count": 7,
   "id": "22a5e49b-910c-4c28-a7b3-ac5d6ec94ae1",
   "metadata": {},
   "outputs": [],
   "source": [
    "class animal:   #parent class\n",
    "    def eat(self):\n",
    "        print(\"yes its eats\")\n",
    "    def sleep(self):\n",
    "        print(\"yes its sleep\")\n",
    "class bird(animal):  #child class\n",
    "    def set_type(self,type):\n",
    "        self.type=type\n",
    "    def  fly(self):\n",
    "        print(\"yes it flay\")\n",
    "    def speak(self,sound):\n",
    "        print(f\"it speak:{sound} {sound}\")\n",
    "    def __repr__(self):\n",
    "        return \"this is a \"+ self.type\n",
    "      \n",
    "    \n",
    "    "
   ]
  },
  {
   "cell_type": "code",
   "execution_count": 8,
   "id": "17b57e00-4498-4c79-a066-f7c1f5791e2a",
   "metadata": {},
   "outputs": [],
   "source": [
    "duck=bird()"
   ]
  },
  {
   "cell_type": "code",
   "execution_count": 9,
   "id": "06981488-4ba0-4697-9deb-9177a3b841c2",
   "metadata": {},
   "outputs": [],
   "source": [
    "duck.set_type(\"duck\")"
   ]
  },
  {
   "cell_type": "code",
   "execution_count": 6,
   "id": "d45b2353-04e7-4d18-944e-d5fc3bf423c2",
   "metadata": {},
   "outputs": [
    {
     "name": "stdout",
     "output_type": "stream",
     "text": [
      "this is a duck\n"
     ]
    }
   ],
   "source": [
    "print(duck)"
   ]
  },
  {
   "cell_type": "code",
   "execution_count": 10,
   "id": "05ee0f53-badf-42a3-a79e-e1ff7e64eda4",
   "metadata": {},
   "outputs": [
    {
     "name": "stdout",
     "output_type": "stream",
     "text": [
      "yes its eats\n"
     ]
    }
   ],
   "source": [
    "duck.eat()"
   ]
  },
  {
   "cell_type": "code",
   "execution_count": 11,
   "id": "c990c350-ab48-4459-a440-09912b0ef629",
   "metadata": {},
   "outputs": [
    {
     "name": "stdout",
     "output_type": "stream",
     "text": [
      "yes its sleep\n"
     ]
    }
   ],
   "source": [
    "duck.sleep()"
   ]
  },
  {
   "cell_type": "code",
   "execution_count": 12,
   "id": "23d6caef-f8cf-4bd0-a4b4-b7559c66a89a",
   "metadata": {},
   "outputs": [
    {
     "name": "stdout",
     "output_type": "stream",
     "text": [
      "yes it flay\n"
     ]
    }
   ],
   "source": [
    "duck.fly()"
   ]
  },
  {
   "cell_type": "code",
   "execution_count": 16,
   "id": "26d5d617-38f0-4420-b53e-6cbfce482d55",
   "metadata": {},
   "outputs": [
    {
     "name": "stdout",
     "output_type": "stream",
     "text": [
      "it speak:quek quek quek quek\n"
     ]
    }
   ],
   "source": [
    "duck.speak(\"quek quek\")"
   ]
  },
  {
   "cell_type": "code",
   "execution_count": null,
   "id": "91a32628-aab4-43d5-85bc-cec203f630e1",
   "metadata": {},
   "outputs": [],
   "source": [
    " n"
   ]
  }
 ],
 "metadata": {
  "kernelspec": {
   "display_name": "Python 3 (ipykernel)",
   "language": "python",
   "name": "python3"
  },
  "language_info": {
   "codemirror_mode": {
    "name": "ipython",
    "version": 3
   },
   "file_extension": ".py",
   "mimetype": "text/x-python",
   "name": "python",
   "nbconvert_exporter": "python",
   "pygments_lexer": "ipython3",
   "version": "3.12.4"
  }
 },
 "nbformat": 4,
 "nbformat_minor": 5
}
