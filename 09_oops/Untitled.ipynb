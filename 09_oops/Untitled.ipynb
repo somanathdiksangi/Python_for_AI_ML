{
 "cells": [
  {
   "cell_type": "markdown",
   "id": "6e6bb93b-221f-4086-94ea-8e9ad2ef3e1b",
   "metadata": {},
   "source": [
    "##   hirarchical inheritance"
   ]
  },
  {
   "cell_type": "code",
   "execution_count": 3,
   "id": "40512f67-e965-4c43-aeff-dc7ff293093c",
   "metadata": {},
   "outputs": [
    {
     "ename": "SyntaxError",
     "evalue": "invalid syntax (3686460649.py, line 12)",
     "output_type": "error",
     "traceback": [
      "\u001b[1;36m  Cell \u001b[1;32mIn[3], line 12\u001b[1;36m\u001b[0m\n\u001b[1;33m    super().__init__():\u001b[0m\n\u001b[1;37m                      ^\u001b[0m\n\u001b[1;31mSyntaxError\u001b[0m\u001b[1;31m:\u001b[0m invalid syntax\n"
     ]
    }
   ],
   "source": [
    "class schoolmamer:\n",
    "    def __init__(self,name,age):\n",
    "        self.name=name\n",
    "        self.age=age\n",
    "class student(schoolmamer):\n",
    "    def __init__(self,name,age,rollno,per):\n",
    "        super.__init__()\n",
    "        self.rollno=rollno\n",
    "        self.per=per\n",
    "class teacher(schoolmamer):\n",
    "    def __init__(self,name,age,sal):\n",
    "        super().__init__()\n",
    "        self\n",
    "        "
   ]
  },
  {
   "cell_type": "code",
   "execution_count": null,
   "id": "69862c01-1c49-440e-9f90-0dc96999b795",
   "metadata": {},
   "outputs": [],
   "source": []
  }
 ],
 "metadata": {
  "kernelspec": {
   "display_name": "Python 3 (ipykernel)",
   "language": "python",
   "name": "python3"
  },
  "language_info": {
   "codemirror_mode": {
    "name": "ipython",
    "version": 3
   },
   "file_extension": ".py",
   "mimetype": "text/x-python",
   "name": "python",
   "nbconvert_exporter": "python",
   "pygments_lexer": "ipython3",
   "version": "3.12.4"
  }
 },
 "nbformat": 4,
 "nbformat_minor": 5
}
