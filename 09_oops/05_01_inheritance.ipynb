{
 "cells": [
  {
   "cell_type": "markdown",
   "id": "a521ebb6-7af8-47f8-9756-244889e49ce8",
   "metadata": {},
   "source": [
    "inheritance"
   ]
  },
  {
   "cell_type": "code",
   "execution_count": null,
   "id": "65deabf1-147c-461e-b79c-f658dd2b0206",
   "metadata": {},
   "outputs": [],
   "source": [
    "class A:         #simple inheritance\n",
    "    pass \n",
    "class B(A):  \n",
    "    pass "
   ]
  },
  {
   "cell_type": "raw",
   "id": "44790969-cd15-4d14-b5c9-f6aa71587e42",
   "metadata": {},
   "source": [
    "1. simple inheritance\n",
    "2. multilevel inheritance\n",
    "3. multiple inheritance\n",
    "4. hirarchical inheritance\n",
    "5. hybrid inheritance\n",
    "\n",
    " "
   ]
  },
  {
   "cell_type": "code",
   "execution_count": 18,
   "id": "49545a7f-743a-4c39-81d2-4875cbe08269",
   "metadata": {},
   "outputs": [],
   "source": [
    "class A:       # multilevel inheritance\n",
    "    pass \n",
    "class B(A):\n",
    "    pass \n",
    "class c(B):\n",
    "    pass "
   ]
  },
  {
   "cell_type": "code",
   "execution_count": 19,
   "id": "e3b5efea-5aa8-4cbd-9b27-d5122bbb0fa8",
   "metadata": {},
   "outputs": [],
   "source": [
    "class A:      # multiple inheritance\n",
    "    pass\n",
    "\n",
    "class B:\n",
    "    pass\n",
    "\n",
    "class C(A,B):\n",
    "    pass\n"
   ]
  },
  {
   "cell_type": "code",
   "execution_count": 20,
   "id": "d5b3492a-5d1e-489a-a809-49d26194688d",
   "metadata": {},
   "outputs": [],
   "source": [
    "class A:          #hirarchical inheritance\n",
    "    pass \n",
    "class B(A):\n",
    "    pass \n",
    "class C(A):\n",
    "    pass "
   ]
  },
  {
   "cell_type": "code",
   "execution_count": 21,
   "id": "d083958b-d8dc-47e3-8e17-1c79ca4bc9c7",
   "metadata": {},
   "outputs": [],
   "source": [
    "class A:    #hybrid inheritance \n",
    "    pass \n",
    "class B(A):\n",
    "    pass \n",
    "class C(A):\n",
    "    pass \n",
    "class D(B,C):\n",
    "    pass "
   ]
  },
  {
   "cell_type": "code",
   "execution_count": 24,
   "id": "574de063-b438-474b-87de-9d1a8abbba07",
   "metadata": {},
   "outputs": [],
   "source": [
    "class A:\n",
    "    def __init__(self):\n",
    "        print(\"hi hi hi\")"
   ]
  },
  {
   "cell_type": "code",
   "execution_count": 25,
   "id": "fc85ed25-efd1-4fe9-ab68-0594e0a3d87e",
   "metadata": {},
   "outputs": [
    {
     "name": "stdout",
     "output_type": "stream",
     "text": [
      "hi hi hi\n"
     ]
    }
   ],
   "source": [
    "obj=A()"
   ]
  },
  {
   "cell_type": "code",
   "execution_count": 26,
   "id": "18c8fcf9-ce20-407e-9844-7f1383fe998b",
   "metadata": {},
   "outputs": [],
   "source": [
    "obj2=object()"
   ]
  },
  {
   "cell_type": "code",
   "execution_count": 27,
   "id": "6e038438-078e-4651-a6d6-4a79cad8c8e0",
   "metadata": {},
   "outputs": [
    {
     "data": {
      "text/plain": [
       "['__class__',\n",
       " '__delattr__',\n",
       " '__dir__',\n",
       " '__doc__',\n",
       " '__eq__',\n",
       " '__format__',\n",
       " '__ge__',\n",
       " '__getattribute__',\n",
       " '__getstate__',\n",
       " '__gt__',\n",
       " '__hash__',\n",
       " '__init__',\n",
       " '__init_subclass__',\n",
       " '__le__',\n",
       " '__lt__',\n",
       " '__ne__',\n",
       " '__new__',\n",
       " '__reduce__',\n",
       " '__reduce_ex__',\n",
       " '__repr__',\n",
       " '__setattr__',\n",
       " '__sizeof__',\n",
       " '__str__',\n",
       " '__subclasshook__']"
      ]
     },
     "execution_count": 27,
     "metadata": {},
     "output_type": "execute_result"
    }
   ],
   "source": [
    "dir(obj2)"
   ]
  },
  {
   "cell_type": "code",
   "execution_count": 28,
   "id": "2a447050-a501-4028-ae8a-2be5221e876a",
   "metadata": {},
   "outputs": [],
   "source": [
    "class A:\n",
    "    def __init__(self):\n",
    "        print(\"hi hi hi\")\n",
    "    def __repr__(self):\n",
    "        return \"hello i am here\""
   ]
  },
  {
   "cell_type": "code",
   "execution_count": 29,
   "id": "d8ada255-4ce6-484d-86cd-b50572be93eb",
   "metadata": {},
   "outputs": [
    {
     "name": "stdout",
     "output_type": "stream",
     "text": [
      "hi hi hi\n"
     ]
    }
   ],
   "source": [
    "my=A()\n"
   ]
  },
  {
   "cell_type": "code",
   "execution_count": 30,
   "id": "7856702e-641a-4410-b12a-7f4c181eba01",
   "metadata": {},
   "outputs": [
    {
     "name": "stdout",
     "output_type": "stream",
     "text": [
      "hello i am here\n"
     ]
    }
   ],
   "source": [
    "print(my)"
   ]
  },
  {
   "cell_type": "code",
   "execution_count": 31,
   "id": "0d5f8c2d-2895-4e50-be3e-c6a388afa148",
   "metadata": {},
   "outputs": [],
   "source": [
    "class A:\n",
    "    def __init__(self):\n",
    "        print(\"hi hi hi\")\n",
    "    def __str__(self):\n",
    "        return \"hello i am here\""
   ]
  },
  {
   "cell_type": "code",
   "execution_count": 32,
   "id": "3e889606-0f37-447c-9f67-0fbeb0d07a17",
   "metadata": {},
   "outputs": [
    {
     "name": "stdout",
     "output_type": "stream",
     "text": [
      "hi hi hi\n"
     ]
    }
   ],
   "source": [
    "my2=A()"
   ]
  },
  {
   "cell_type": "code",
   "execution_count": 33,
   "id": "1503a591-d379-4609-9795-8044013d9758",
   "metadata": {},
   "outputs": [
    {
     "name": "stdout",
     "output_type": "stream",
     "text": [
      "hello i am here\n"
     ]
    }
   ],
   "source": [
    "print(my2)"
   ]
  },
  {
   "cell_type": "code",
   "execution_count": 34,
   "id": "1089475b-3d93-4248-b494-b2ea0030feec",
   "metadata": {},
   "outputs": [
    {
     "data": {
      "text/plain": [
       "<__main__.A at 0x1a1f5023e30>"
      ]
     },
     "execution_count": 34,
     "metadata": {},
     "output_type": "execute_result"
    }
   ],
   "source": [
    "my2"
   ]
  },
  {
   "cell_type": "code",
   "execution_count": null,
   "id": "ec4059bb-1ef8-486c-abfc-b03591749048",
   "metadata": {},
   "outputs": [],
   "source": []
  }
 ],
 "metadata": {
  "kernelspec": {
   "display_name": "Python 3 (ipykernel)",
   "language": "python",
   "name": "python3"
  },
  "language_info": {
   "codemirror_mode": {
    "name": "ipython",
    "version": 3
   },
   "file_extension": ".py",
   "mimetype": "text/x-python",
   "name": "python",
   "nbconvert_exporter": "python",
   "pygments_lexer": "ipython3",
   "version": "3.12.4"
  }
 },
 "nbformat": 4,
 "nbformat_minor": 5
}
