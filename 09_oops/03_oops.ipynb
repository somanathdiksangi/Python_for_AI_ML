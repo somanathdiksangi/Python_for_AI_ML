{
 "cells": [
  {
   "cell_type": "code",
   "execution_count": 15,
   "id": "4a0133be-c61a-432a-8ab3-c50f5f66c4bb",
   "metadata": {},
   "outputs": [],
   "source": [
    "class circle:\n",
    "    def __init__(self,a):\n",
    "        self.radius=a\n",
    "    def cal_area(self):\n",
    "        print(f\"the radius of the circle is {self.radius}\")\n",
    "    def cal_cir(self):\n",
    "        c=self.radius\n",
    "        d=3.142\n",
    "        e=2*c*d\n",
    "        print(e)\n",
    "    "
   ]
  },
  {
   "cell_type": "code",
   "execution_count": 16,
   "id": "90b62dd4-ee33-4435-b8eb-982dd6a1759b",
   "metadata": {},
   "outputs": [],
   "source": [
    "cr1=circle(5)"
   ]
  },
  {
   "cell_type": "code",
   "execution_count": 17,
   "id": "b8b0cba4-7f8d-477d-af1a-e5899a5b9e1c",
   "metadata": {},
   "outputs": [
    {
     "name": "stdout",
     "output_type": "stream",
     "text": [
      "the radius of the circle is 5\n"
     ]
    }
   ],
   "source": [
    "cr1.cal_area()"
   ]
  },
  {
   "cell_type": "code",
   "execution_count": 18,
   "id": "97433d01-60ef-4583-ae32-7cce898c69b3",
   "metadata": {},
   "outputs": [
    {
     "name": "stdout",
     "output_type": "stream",
     "text": [
      "31.419999999999998\n"
     ]
    }
   ],
   "source": [
    "cr1.cal_cir()"
   ]
  },
  {
   "cell_type": "code",
   "execution_count": 19,
   "id": "733b2a4b-f81b-4565-ad27-6f45f03568b7",
   "metadata": {},
   "outputs": [],
   "source": [
    "class collage:\n",
    "    stream=\"IT\" #class variable\n",
    "    def __init__(self,name,roll):\n",
    "        self.name=name\n",
    "        self.roll=roll"
   ]
  },
  {
   "cell_type": "code",
   "execution_count": 20,
   "id": "130a05f4-ab04-4648-862d-4381ef01c79e",
   "metadata": {},
   "outputs": [],
   "source": [
    "st1=collage(\"somu\",13)"
   ]
  },
  {
   "cell_type": "code",
   "execution_count": 21,
   "id": "c2119893-54d7-46c0-b717-9403ad812740",
   "metadata": {},
   "outputs": [
    {
     "data": {
      "text/plain": [
       "'somu'"
      ]
     },
     "execution_count": 21,
     "metadata": {},
     "output_type": "execute_result"
    }
   ],
   "source": [
    "st1.name"
   ]
  },
  {
   "cell_type": "code",
   "execution_count": 22,
   "id": "049e7dcc-3622-4816-a631-381db8e499ed",
   "metadata": {},
   "outputs": [
    {
     "data": {
      "text/plain": [
       "13"
      ]
     },
     "execution_count": 22,
     "metadata": {},
     "output_type": "execute_result"
    }
   ],
   "source": [
    "st1.roll"
   ]
  },
  {
   "cell_type": "code",
   "execution_count": 23,
   "id": "9f972837-f512-420a-8a9e-d465cf9ab100",
   "metadata": {},
   "outputs": [
    {
     "data": {
      "text/plain": [
       "'IT'"
      ]
     },
     "execution_count": 23,
     "metadata": {},
     "output_type": "execute_result"
    }
   ],
   "source": [
    "st1.stream"
   ]
  },
  {
   "cell_type": "code",
   "execution_count": 24,
   "id": "778c417a-e30c-4197-a7bc-c4419813e14d",
   "metadata": {},
   "outputs": [
    {
     "data": {
      "text/plain": [
       "'IT'"
      ]
     },
     "execution_count": 24,
     "metadata": {},
     "output_type": "execute_result"
    }
   ],
   "source": [
    "collage.stream"
   ]
  },
  {
   "cell_type": "code",
   "execution_count": 26,
   "id": "ce3680cc-86d1-46dc-ab93-05005e2aff50",
   "metadata": {},
   "outputs": [],
   "source": [
    "class circle:\n",
    "    def __init__(self,a):\n",
    "        self.radius=a\n",
    "    def cal_area(self):\n",
    "        print(f\"the radius of the circle is {self.radius}\")\n",
    "    def cal_cir(self):\n",
    "        c=self.radius\n",
    "        d=3.142\n",
    "        e=2*c*d\n",
    "        print(e)\n",
    "    def add(self):\n",
    "        print(id(self))"
   ]
  },
  {
   "cell_type": "code",
   "execution_count": 27,
   "id": "dd42d88f-d657-47bc-9777-cb91b2da598e",
   "metadata": {},
   "outputs": [],
   "source": [
    "cr=circle(10)"
   ]
  },
  {
   "cell_type": "code",
   "execution_count": 28,
   "id": "1b10d7c8-8280-4923-8593-64f1d2790f17",
   "metadata": {},
   "outputs": [
    {
     "name": "stdout",
     "output_type": "stream",
     "text": [
      "1705969372288\n"
     ]
    }
   ],
   "source": [
    "cr.add()"
   ]
  },
  {
   "cell_type": "code",
   "execution_count": 29,
   "id": "75c9e50a-d52d-4a8f-ae63-eba6e4304723",
   "metadata": {},
   "outputs": [
    {
     "name": "stdout",
     "output_type": "stream",
     "text": [
      "1705969372288\n"
     ]
    }
   ],
   "source": [
    "print(id(cr))"
   ]
  },
  {
   "cell_type": "code",
   "execution_count": 52,
   "id": "8a1dcfbc-3f5d-45d6-a2de-80f27562fe7f",
   "metadata": {},
   "outputs": [],
   "source": [
    "class emp:\n",
    "    \n",
    "    def __init__(self,name,age,sal,insal):\n",
    "        self.name=name\n",
    "        self.age=age\n",
    "        self.sal=sal\n",
    "        self.insal=insal\n",
    "    def incre_sal(self):\n",
    "        self.addsal=self.sal + self.insal\n",
    "    def dis(self):\n",
    "        print(f\"name is {self.name} age is {self.age} and sal is {self.addsal}\")"
   ]
  },
  {
   "cell_type": "code",
   "execution_count": 53,
   "id": "89553d22-119d-4f55-939d-c1ebfc757b1c",
   "metadata": {},
   "outputs": [],
   "source": [
    "emp1=emp(\"somu\",25,25000,5000)"
   ]
  },
  {
   "cell_type": "code",
   "execution_count": 54,
   "id": "8243eaf4-78b5-4b1b-b471-ddc87ffa37b5",
   "metadata": {},
   "outputs": [],
   "source": [
    "emp1.incre_sal()"
   ]
  },
  {
   "cell_type": "code",
   "execution_count": 55,
   "id": "6bfe6c40-5a82-4c37-8108-56ac48da1538",
   "metadata": {},
   "outputs": [
    {
     "name": "stdout",
     "output_type": "stream",
     "text": [
      "name is somu age is 25 and sal is 30000\n"
     ]
    }
   ],
   "source": [
    "emp1.dis()"
   ]
  },
  {
   "cell_type": "code",
   "execution_count": 68,
   "id": "3db6cba4-3bff-4e65-81f0-0ce21d0c0091",
   "metadata": {},
   "outputs": [],
   "source": [
    "class emp:\n",
    "    raise_amount=0\n",
    "    @classmethod\n",
    "    def set_raise_amt(cls):\n",
    "        cls.raise_amount=float(input(\"write a percent which you can want to increase\"))\n",
    "        \n",
    "    def __init__(self,name,age,sal):\n",
    "        self.name=name\n",
    "        self.age=age\n",
    "        self.sal=sal\n",
    "    def increase_sal(self):\n",
    "        self.sal=self.sal+(self.sal*emp.raise_amount/100)\n",
    "    def display(self):   \n",
    "         print(f\"name is {self.name} age is {self.age} and sal is {self.sal}\")\n",
    "        "
   ]
  },
  {
   "cell_type": "code",
   "execution_count": 69,
   "id": "011bab47-ea6d-42ed-b377-e5fb4c9b3644",
   "metadata": {},
   "outputs": [],
   "source": [
    "emp1=emp(\"somu\",25,25000)"
   ]
  },
  {
   "cell_type": "code",
   "execution_count": 70,
   "id": "8baa700b-161b-43ee-9145-ef14852363f9",
   "metadata": {},
   "outputs": [
    {
     "name": "stdout",
     "output_type": "stream",
     "text": [
      "name is somu age is 25 and sal is 25000\n"
     ]
    }
   ],
   "source": [
    "emp1.display()"
   ]
  },
  {
   "cell_type": "code",
   "execution_count": 72,
   "id": "ce4d8334-8e28-4134-86fd-e03ee9c7e3dc",
   "metadata": {},
   "outputs": [
    {
     "name": "stdin",
     "output_type": "stream",
     "text": [
      "write a percent which you can want to increase 25\n"
     ]
    }
   ],
   "source": [
    "emp.set_raise_amt()"
   ]
  },
  {
   "cell_type": "code",
   "execution_count": 66,
   "id": "6f311a6c-ccdd-4b56-a44c-60095162c1c5",
   "metadata": {},
   "outputs": [],
   "source": [
    "emp1.increase_sal()"
   ]
  },
  {
   "cell_type": "code",
   "execution_count": 74,
   "id": "fa3160e7-8cd1-4cd9-b4d2-50f7f904bdca",
   "metadata": {},
   "outputs": [],
   "source": [
    "class math:\n",
    "    @staticmethod\n",
    "    def add(a,b):\n",
    "        c=a+b\n",
    "        return c\n",
    "    @staticmethod\n",
    "    def mul(a,b):\n",
    "        c=a*b\n",
    "        return c"
   ]
  },
  {
   "cell_type": "code",
   "execution_count": 75,
   "id": "31b517fd-4c4f-4d88-a7a2-dbfc965a9ed2",
   "metadata": {},
   "outputs": [
    {
     "data": {
      "text/plain": [
       "15"
      ]
     },
     "execution_count": 75,
     "metadata": {},
     "output_type": "execute_result"
    }
   ],
   "source": [
    "math.add(5,10)"
   ]
  },
  {
   "cell_type": "code",
   "execution_count": 76,
   "id": "0ab6c0d7-6f0b-44dd-89ff-a901086ce630",
   "metadata": {},
   "outputs": [
    {
     "data": {
      "text/plain": [
       "10"
      ]
     },
     "execution_count": 76,
     "metadata": {},
     "output_type": "execute_result"
    }
   ],
   "source": [
    "math.mul(2,5)"
   ]
  },
  {
   "cell_type": "code",
   "execution_count": 78,
   "id": "1fc4d87e-3fd0-4f1e-9eef-56582f3e656b",
   "metadata": {},
   "outputs": [
    {
     "name": "stdout",
     "output_type": "stream",
     "text": [
      "hello\n"
     ]
    }
   ],
   "source": [
    "class demo:\n",
    "    def dis():\n",
    "        print(\"hello\")\n",
    "\n",
    "demo.dis()"
   ]
  },
  {
   "cell_type": "code",
   "execution_count": null,
   "id": "d4adac62-eea1-4a9d-bfec-8a7a1a10b8b0",
   "metadata": {},
   "outputs": [],
   "source": [
    "instence method and static methos and class method"
   ]
  }
 ],
 "metadata": {
  "kernelspec": {
   "display_name": "Python 3 (ipykernel)",
   "language": "python",
   "name": "python3"
  },
  "language_info": {
   "codemirror_mode": {
    "name": "ipython",
    "version": 3
   },
   "file_extension": ".py",
   "mimetype": "text/x-python",
   "name": "python",
   "nbconvert_exporter": "python",
   "pygments_lexer": "ipython3",
   "version": "3.12.4"
  }
 },
 "nbformat": 4,
 "nbformat_minor": 5
}
